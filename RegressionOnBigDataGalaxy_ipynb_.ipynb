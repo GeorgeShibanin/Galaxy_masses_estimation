{
  "nbformat": 4,
  "nbformat_minor": 0,
  "metadata": {
    "accelerator": "GPU",
    "colab": {
      "name": "RegressionOnBigDataGalaxy.ipynb\"",
      "provenance": [],
      "collapsed_sections": []
    },
    "kernelspec": {
      "display_name": "Python 3",
      "name": "python3"
    },
    "widgets": {
      "application/vnd.jupyter.widget-state+json": {
        "b5f6197a8dcd46b480a794a5476bda6a": {
          "model_module": "@jupyter-widgets/controls",
          "model_name": "HBoxModel",
          "state": {
            "_view_name": "HBoxView",
            "_dom_classes": [],
            "_model_name": "HBoxModel",
            "_view_module": "@jupyter-widgets/controls",
            "_model_module_version": "1.5.0",
            "_view_count": null,
            "_view_module_version": "1.5.0",
            "box_style": "",
            "layout": "IPY_MODEL_a826706e4e9740298a5b2c5e790a6f1e",
            "_model_module": "@jupyter-widgets/controls",
            "children": [
              "IPY_MODEL_0f98f877e33d4d9d8c9d7cdb6518d38d",
              "IPY_MODEL_f24cb2c2eb4b42ae9ecf25c2138d6651"
            ]
          }
        },
        "a826706e4e9740298a5b2c5e790a6f1e": {
          "model_module": "@jupyter-widgets/base",
          "model_name": "LayoutModel",
          "state": {
            "_view_name": "LayoutView",
            "grid_template_rows": null,
            "right": null,
            "justify_content": null,
            "_view_module": "@jupyter-widgets/base",
            "overflow": null,
            "_model_module_version": "1.2.0",
            "_view_count": null,
            "flex_flow": null,
            "width": null,
            "min_width": null,
            "border": null,
            "align_items": null,
            "bottom": null,
            "_model_module": "@jupyter-widgets/base",
            "top": null,
            "grid_column": null,
            "overflow_y": null,
            "overflow_x": null,
            "grid_auto_flow": null,
            "grid_area": null,
            "grid_template_columns": null,
            "flex": null,
            "_model_name": "LayoutModel",
            "justify_items": null,
            "grid_row": null,
            "max_height": null,
            "align_content": null,
            "visibility": null,
            "align_self": null,
            "height": null,
            "min_height": null,
            "padding": null,
            "grid_auto_rows": null,
            "grid_gap": null,
            "max_width": null,
            "order": null,
            "_view_module_version": "1.2.0",
            "grid_template_areas": null,
            "object_position": null,
            "object_fit": null,
            "grid_auto_columns": null,
            "margin": null,
            "display": null,
            "left": null
          }
        },
        "0f98f877e33d4d9d8c9d7cdb6518d38d": {
          "model_module": "@jupyter-widgets/controls",
          "model_name": "FloatProgressModel",
          "state": {
            "_view_name": "ProgressView",
            "style": "IPY_MODEL_ea4a1d43ddd1459aa0893d30ec25cceb",
            "_dom_classes": [],
            "description": "100%",
            "_model_name": "FloatProgressModel",
            "bar_style": "success",
            "max": 4,
            "_view_module": "@jupyter-widgets/controls",
            "_model_module_version": "1.5.0",
            "value": 4,
            "_view_count": null,
            "_view_module_version": "1.5.0",
            "orientation": "horizontal",
            "min": 0,
            "description_tooltip": null,
            "_model_module": "@jupyter-widgets/controls",
            "layout": "IPY_MODEL_9c31ac0407b6464a9522b84fe96f32c6"
          }
        },
        "f24cb2c2eb4b42ae9ecf25c2138d6651": {
          "model_module": "@jupyter-widgets/controls",
          "model_name": "HTMLModel",
          "state": {
            "_view_name": "HTMLView",
            "style": "IPY_MODEL_87de9ecc36ad4de9aecae8ee6b4bc5c4",
            "_dom_classes": [],
            "description": "",
            "_model_name": "HTMLModel",
            "placeholder": "​",
            "_view_module": "@jupyter-widgets/controls",
            "_model_module_version": "1.5.0",
            "value": " 4/4 [27:43&lt;00:00, 415.77s/it]",
            "_view_count": null,
            "_view_module_version": "1.5.0",
            "description_tooltip": null,
            "_model_module": "@jupyter-widgets/controls",
            "layout": "IPY_MODEL_d0981ed60f9c4cd199f6498652b0cb9f"
          }
        },
        "ea4a1d43ddd1459aa0893d30ec25cceb": {
          "model_module": "@jupyter-widgets/controls",
          "model_name": "ProgressStyleModel",
          "state": {
            "_view_name": "StyleView",
            "_model_name": "ProgressStyleModel",
            "description_width": "initial",
            "_view_module": "@jupyter-widgets/base",
            "_model_module_version": "1.5.0",
            "_view_count": null,
            "_view_module_version": "1.2.0",
            "bar_color": null,
            "_model_module": "@jupyter-widgets/controls"
          }
        },
        "9c31ac0407b6464a9522b84fe96f32c6": {
          "model_module": "@jupyter-widgets/base",
          "model_name": "LayoutModel",
          "state": {
            "_view_name": "LayoutView",
            "grid_template_rows": null,
            "right": null,
            "justify_content": null,
            "_view_module": "@jupyter-widgets/base",
            "overflow": null,
            "_model_module_version": "1.2.0",
            "_view_count": null,
            "flex_flow": null,
            "width": null,
            "min_width": null,
            "border": null,
            "align_items": null,
            "bottom": null,
            "_model_module": "@jupyter-widgets/base",
            "top": null,
            "grid_column": null,
            "overflow_y": null,
            "overflow_x": null,
            "grid_auto_flow": null,
            "grid_area": null,
            "grid_template_columns": null,
            "flex": null,
            "_model_name": "LayoutModel",
            "justify_items": null,
            "grid_row": null,
            "max_height": null,
            "align_content": null,
            "visibility": null,
            "align_self": null,
            "height": null,
            "min_height": null,
            "padding": null,
            "grid_auto_rows": null,
            "grid_gap": null,
            "max_width": null,
            "order": null,
            "_view_module_version": "1.2.0",
            "grid_template_areas": null,
            "object_position": null,
            "object_fit": null,
            "grid_auto_columns": null,
            "margin": null,
            "display": null,
            "left": null
          }
        },
        "87de9ecc36ad4de9aecae8ee6b4bc5c4": {
          "model_module": "@jupyter-widgets/controls",
          "model_name": "DescriptionStyleModel",
          "state": {
            "_view_name": "StyleView",
            "_model_name": "DescriptionStyleModel",
            "description_width": "",
            "_view_module": "@jupyter-widgets/base",
            "_model_module_version": "1.5.0",
            "_view_count": null,
            "_view_module_version": "1.2.0",
            "_model_module": "@jupyter-widgets/controls"
          }
        },
        "d0981ed60f9c4cd199f6498652b0cb9f": {
          "model_module": "@jupyter-widgets/base",
          "model_name": "LayoutModel",
          "state": {
            "_view_name": "LayoutView",
            "grid_template_rows": null,
            "right": null,
            "justify_content": null,
            "_view_module": "@jupyter-widgets/base",
            "overflow": null,
            "_model_module_version": "1.2.0",
            "_view_count": null,
            "flex_flow": null,
            "width": null,
            "min_width": null,
            "border": null,
            "align_items": null,
            "bottom": null,
            "_model_module": "@jupyter-widgets/base",
            "top": null,
            "grid_column": null,
            "overflow_y": null,
            "overflow_x": null,
            "grid_auto_flow": null,
            "grid_area": null,
            "grid_template_columns": null,
            "flex": null,
            "_model_name": "LayoutModel",
            "justify_items": null,
            "grid_row": null,
            "max_height": null,
            "align_content": null,
            "visibility": null,
            "align_self": null,
            "height": null,
            "min_height": null,
            "padding": null,
            "grid_auto_rows": null,
            "grid_gap": null,
            "max_width": null,
            "order": null,
            "_view_module_version": "1.2.0",
            "grid_template_areas": null,
            "object_position": null,
            "object_fit": null,
            "grid_auto_columns": null,
            "margin": null,
            "display": null,
            "left": null
          }
        },
        "2307861c8960487e9b84dc1ea52768c5": {
          "model_module": "@jupyter-widgets/controls",
          "model_name": "HBoxModel",
          "state": {
            "_view_name": "HBoxView",
            "_dom_classes": [],
            "_model_name": "HBoxModel",
            "_view_module": "@jupyter-widgets/controls",
            "_model_module_version": "1.5.0",
            "_view_count": null,
            "_view_module_version": "1.5.0",
            "box_style": "",
            "layout": "IPY_MODEL_9e6fb254433f427aa6d1526e57af0765",
            "_model_module": "@jupyter-widgets/controls",
            "children": [
              "IPY_MODEL_2b5e08b76c17407fae9df4584351ef8a",
              "IPY_MODEL_ff4844b706534aeeb6e7860d5c9a10b2"
            ]
          }
        },
        "9e6fb254433f427aa6d1526e57af0765": {
          "model_module": "@jupyter-widgets/base",
          "model_name": "LayoutModel",
          "state": {
            "_view_name": "LayoutView",
            "grid_template_rows": null,
            "right": null,
            "justify_content": null,
            "_view_module": "@jupyter-widgets/base",
            "overflow": null,
            "_model_module_version": "1.2.0",
            "_view_count": null,
            "flex_flow": null,
            "width": null,
            "min_width": null,
            "border": null,
            "align_items": null,
            "bottom": null,
            "_model_module": "@jupyter-widgets/base",
            "top": null,
            "grid_column": null,
            "overflow_y": null,
            "overflow_x": null,
            "grid_auto_flow": null,
            "grid_area": null,
            "grid_template_columns": null,
            "flex": null,
            "_model_name": "LayoutModel",
            "justify_items": null,
            "grid_row": null,
            "max_height": null,
            "align_content": null,
            "visibility": null,
            "align_self": null,
            "height": null,
            "min_height": null,
            "padding": null,
            "grid_auto_rows": null,
            "grid_gap": null,
            "max_width": null,
            "order": null,
            "_view_module_version": "1.2.0",
            "grid_template_areas": null,
            "object_position": null,
            "object_fit": null,
            "grid_auto_columns": null,
            "margin": null,
            "display": null,
            "left": null
          }
        },
        "2b5e08b76c17407fae9df4584351ef8a": {
          "model_module": "@jupyter-widgets/controls",
          "model_name": "FloatProgressModel",
          "state": {
            "_view_name": "ProgressView",
            "style": "IPY_MODEL_adb688b6bdc9480ca29a76b892d66688",
            "_dom_classes": [],
            "description": "100%",
            "_model_name": "FloatProgressModel",
            "bar_style": "success",
            "max": 5,
            "_view_module": "@jupyter-widgets/controls",
            "_model_module_version": "1.5.0",
            "value": 5,
            "_view_count": null,
            "_view_module_version": "1.5.0",
            "orientation": "horizontal",
            "min": 0,
            "description_tooltip": null,
            "_model_module": "@jupyter-widgets/controls",
            "layout": "IPY_MODEL_f06e35fcf3ee4d0e8296bda84bd982d8"
          }
        },
        "ff4844b706534aeeb6e7860d5c9a10b2": {
          "model_module": "@jupyter-widgets/controls",
          "model_name": "HTMLModel",
          "state": {
            "_view_name": "HTMLView",
            "style": "IPY_MODEL_da64b26c067e49a59ea0e7510ca746c6",
            "_dom_classes": [],
            "description": "",
            "_model_name": "HTMLModel",
            "placeholder": "​",
            "_view_module": "@jupyter-widgets/controls",
            "_model_module_version": "1.5.0",
            "value": " 5/5 [18:39&lt;00:00, 223.86s/it]",
            "_view_count": null,
            "_view_module_version": "1.5.0",
            "description_tooltip": null,
            "_model_module": "@jupyter-widgets/controls",
            "layout": "IPY_MODEL_6cb86afb53d04a4abeb041b70da0fd0c"
          }
        },
        "adb688b6bdc9480ca29a76b892d66688": {
          "model_module": "@jupyter-widgets/controls",
          "model_name": "ProgressStyleModel",
          "state": {
            "_view_name": "StyleView",
            "_model_name": "ProgressStyleModel",
            "description_width": "initial",
            "_view_module": "@jupyter-widgets/base",
            "_model_module_version": "1.5.0",
            "_view_count": null,
            "_view_module_version": "1.2.0",
            "bar_color": null,
            "_model_module": "@jupyter-widgets/controls"
          }
        },
        "f06e35fcf3ee4d0e8296bda84bd982d8": {
          "model_module": "@jupyter-widgets/base",
          "model_name": "LayoutModel",
          "state": {
            "_view_name": "LayoutView",
            "grid_template_rows": null,
            "right": null,
            "justify_content": null,
            "_view_module": "@jupyter-widgets/base",
            "overflow": null,
            "_model_module_version": "1.2.0",
            "_view_count": null,
            "flex_flow": null,
            "width": null,
            "min_width": null,
            "border": null,
            "align_items": null,
            "bottom": null,
            "_model_module": "@jupyter-widgets/base",
            "top": null,
            "grid_column": null,
            "overflow_y": null,
            "overflow_x": null,
            "grid_auto_flow": null,
            "grid_area": null,
            "grid_template_columns": null,
            "flex": null,
            "_model_name": "LayoutModel",
            "justify_items": null,
            "grid_row": null,
            "max_height": null,
            "align_content": null,
            "visibility": null,
            "align_self": null,
            "height": null,
            "min_height": null,
            "padding": null,
            "grid_auto_rows": null,
            "grid_gap": null,
            "max_width": null,
            "order": null,
            "_view_module_version": "1.2.0",
            "grid_template_areas": null,
            "object_position": null,
            "object_fit": null,
            "grid_auto_columns": null,
            "margin": null,
            "display": null,
            "left": null
          }
        },
        "da64b26c067e49a59ea0e7510ca746c6": {
          "model_module": "@jupyter-widgets/controls",
          "model_name": "DescriptionStyleModel",
          "state": {
            "_view_name": "StyleView",
            "_model_name": "DescriptionStyleModel",
            "description_width": "",
            "_view_module": "@jupyter-widgets/base",
            "_model_module_version": "1.5.0",
            "_view_count": null,
            "_view_module_version": "1.2.0",
            "_model_module": "@jupyter-widgets/controls"
          }
        },
        "6cb86afb53d04a4abeb041b70da0fd0c": {
          "model_module": "@jupyter-widgets/base",
          "model_name": "LayoutModel",
          "state": {
            "_view_name": "LayoutView",
            "grid_template_rows": null,
            "right": null,
            "justify_content": null,
            "_view_module": "@jupyter-widgets/base",
            "overflow": null,
            "_model_module_version": "1.2.0",
            "_view_count": null,
            "flex_flow": null,
            "width": null,
            "min_width": null,
            "border": null,
            "align_items": null,
            "bottom": null,
            "_model_module": "@jupyter-widgets/base",
            "top": null,
            "grid_column": null,
            "overflow_y": null,
            "overflow_x": null,
            "grid_auto_flow": null,
            "grid_area": null,
            "grid_template_columns": null,
            "flex": null,
            "_model_name": "LayoutModel",
            "justify_items": null,
            "grid_row": null,
            "max_height": null,
            "align_content": null,
            "visibility": null,
            "align_self": null,
            "height": null,
            "min_height": null,
            "padding": null,
            "grid_auto_rows": null,
            "grid_gap": null,
            "max_width": null,
            "order": null,
            "_view_module_version": "1.2.0",
            "grid_template_areas": null,
            "object_position": null,
            "object_fit": null,
            "grid_auto_columns": null,
            "margin": null,
            "display": null,
            "left": null
          }
        }
      }
    }
  },
  "cells": [
    {
      "cell_type": "code",
      "metadata": {
        "id": "-wHfRMAR5pBL"
      },
      "source": [
        "import matplotlib.pyplot as plt\n",
        "from matplotlib import pyplot\n",
        "import numpy as np\n",
        "import seaborn as sns\n",
        "import pandas as pd\n",
        "import tensorflow.compat.v2 as tf\n",
        "import tensorflow_probability as tfp\n",
        "from sklearn import preprocessing\n",
        "from google.colab import drive\n",
        "from sklearn.model_selection import train_test_split\n",
        "from sklearn.metrics import max_error, mean_squared_error, explained_variance_score, mean_absolute_error, mean_squared_log_error, median_absolute_error, r2_score, mean_poisson_deviance, mean_gamma_deviance\n",
        "from sklearn.ensemble import RandomForestRegressor\n",
        "from tqdm import tqdm_notebook\n",
        "from xgboost import XGBRegressor\n",
        "from sklearn.preprocessing import PolynomialFeatures"
      ],
      "execution_count": null,
      "outputs": []
    },
    {
      "cell_type": "code",
      "metadata": {
        "id": "vP2ugh7w5ytv"
      },
      "source": [
        "def set_settings():\n",
        "    tf.enable_v2_behavior()\n",
        "    sns.reset_defaults()\n",
        "    sns.set_context(context='talk',font_scale=0.7)\n",
        "    tfd = tfp.distributions"
      ],
      "execution_count": null,
      "outputs": []
    },
    {
      "cell_type": "code",
      "metadata": {
        "id": "lKh6l2e-ZZkC"
      },
      "source": [
        "def mount():\n",
        "    drive.mount('/content/drive')"
      ],
      "execution_count": null,
      "outputs": []
    },
    {
      "cell_type": "code",
      "metadata": {
        "id": "x21kikCP-23q"
      },
      "source": [
        "def check_gpu_device():\n",
        "    if tf.test.gpu_device_name() != '/device:GPU:0':\n",
        "        print('WARNING: GPU device not found.')\n",
        "    else:\n",
        "        print('SUCCESS: Found GPU: {}'.format(tf.test.gpu_device_name()))"
      ],
      "execution_count": null,
      "outputs": []
    },
    {
      "cell_type": "code",
      "metadata": {
        "id": "EQpVKt_s_t9m"
      },
      "source": [
        "def prepare():\n",
        "    set_settings()\n",
        "    mount()\n",
        "    check_gpu_device()"
      ],
      "execution_count": null,
      "outputs": []
    },
    {
      "cell_type": "code",
      "metadata": {
        "id": "nNtkZ6CI0uVW"
      },
      "source": [
        "def load():\n",
        "    data = pd.read_csv('drive/MyDrive/rcsed_z_less_03.csv')\n",
        "    masses = pd.read_csv('drive/MyDrive/rcsed_z_less_03_logMstar_gal.csv')\n",
        "    return data, masses"
      ],
      "execution_count": null,
      "outputs": []
    },
    {
      "cell_type": "code",
      "metadata": {
        "id": "FUIVqM6v0w4N"
      },
      "source": [
        "def prepare_data(data, masses):\n",
        "    mask = ~masses['logMstar_gal'].isna()\n",
        "    y = masses[mask]\n",
        "    y = y.reset_index()\n",
        "    y = y.drop(columns=['index'])\n",
        "    data = data.drop(columns=['Unnamed: 0'])\n",
        "    X = data[mask]\n",
        "    X = X.reset_index()\n",
        "    X = X.drop(columns=['index'])\n",
        "    X = X.fillna(X.mean())\n",
        "    return data, X, y, mask"
      ],
      "execution_count": null,
      "outputs": []
    },
    {
      "cell_type": "code",
      "metadata": {
        "id": "Yq_LeW4z0zNC"
      },
      "source": [
        "def split_data(X, y):\n",
        "    X_train, X_test, y_train, y_test = train_test_split(X, y, test_size=0.1, random_state=42)\n",
        "    return X_train, X_test, y_train, y_test"
      ],
      "execution_count": null,
      "outputs": []
    },
    {
      "cell_type": "code",
      "metadata": {
        "id": "778wOSJN01mt"
      },
      "source": [
        "def scale_data(X_train, X_test):\n",
        "    scal = preprocessing.RobustScaler()\n",
        "    X_train = scal.fit_transform(X_train)\n",
        "    X_test = scal.transform(X_test)\n",
        "    return X_train, X_test"
      ],
      "execution_count": null,
      "outputs": []
    },
    {
      "cell_type": "code",
      "metadata": {
        "id": "7R9uxPl01R_i"
      },
      "source": [
        "def posterior_mean_field(kernel_size, bias_size=0, dtype=None):\n",
        "  n = kernel_size + bias_size\n",
        "  c = np.log(np.expm1(1.))\n",
        "  return tf.keras.Sequential([\n",
        "      tfp.layers.VariableLayer(2 * n, dtype=dtype),\n",
        "      tfp.layers.DistributionLambda(lambda t: tfd.Independent(\n",
        "          tfd.Normal(loc=t[..., :n],\n",
        "                     scale=1e-5 + tf.nn.softplus(c + t[..., n:])),\n",
        "          reinterpreted_batch_ndims=1)),\n",
        "  ])\n",
        "\n",
        "\n",
        "def prior_trainable(kernel_size, bias_size=0, dtype=None):\n",
        "  n = kernel_size + bias_size\n",
        "  return tf.keras.Sequential([\n",
        "      tfp.layers.VariableLayer(n, dtype=dtype),\n",
        "      tfp.layers.DistributionLambda(lambda t: tfd.Independent(\n",
        "          tfd.Normal(loc=t, scale=1),\n",
        "          reinterpreted_batch_ndims=1)),\n",
        "  ])"
      ],
      "execution_count": null,
      "outputs": []
    },
    {
      "cell_type": "code",
      "metadata": {
        "id": "ebc6E-vG1X95"
      },
      "source": [
        "class RBFKernelFn(tf.keras.layers.Layer):\n",
        "  def __init__(self, **kwargs):\n",
        "    super(RBFKernelFn, self).__init__(**kwargs)\n",
        "    dtype = kwargs.get('dtype', None)\n",
        "\n",
        "    self._amplitude = self.add_variable(\n",
        "            initializer=tf.constant_initializer(0),\n",
        "            dtype=dtype,\n",
        "            name='amplitude')\n",
        "    \n",
        "    self._length_scale = self.add_variable(\n",
        "            initializer=tf.constant_initializer(0),\n",
        "            dtype=dtype,\n",
        "            name='length_scale')\n",
        "\n",
        "  def call(self, x):\n",
        "    # Never called -- this is just a layer so it can hold variables\n",
        "    # in a way Keras understands.\n",
        "    return x\n",
        "\n",
        "  @property\n",
        "  def kernel(self):\n",
        "    return tfp.math.psd_kernels.ExponentiatedQuadratic(\n",
        "      amplitude=tf.nn.softplus(0.1 * self._amplitude),\n",
        "      length_scale=tf.nn.softplus(5. * self._length_scale)\n",
        "    )"
      ],
      "execution_count": null,
      "outputs": []
    },
    {
      "cell_type": "code",
      "metadata": {
        "id": "iyGcHVZ01dwO"
      },
      "source": [
        "def var_model(X_train, y_train):\n",
        "    tf.keras.backend.set_floatx('float64')\n",
        "# Build model.\n",
        "    num_inducing_points = 100\n",
        "    simple_model = tf.keras.Sequential([\n",
        "        tf.keras.layers.InputLayer(input_shape=[55]),\n",
        "        tf.keras.layers.Dense(256, kernel_initializer='ones', use_bias=False, activation='relu'),\n",
        "        #tf.keras.layers.Activation('softmax'),\n",
        "\n",
        "        tfp.layers.VariationalGaussianProcess(\n",
        "            num_inducing_points=num_inducing_points,\n",
        "            kernel_provider=RBFKernelFn(),\n",
        "            event_shape=[1],\n",
        "            unconstrained_observation_noise_variance_initializer=(\n",
        "                tf.constant_initializer(np.log(np.expm1(1.)).astype('float64'))),\n",
        "        ),\n",
        "    ])\n",
        "    batch_size = 256\n",
        "    loss = lambda y, rv_y: rv_y.variational_loss(\n",
        "        y, kl_weight=np.array(batch_size, 'float64') / X.shape[0])\n",
        "    simple_model.compile(optimizer=tf.optimizers.Adam(learning_rate=0.008), loss=loss)\n",
        "\n",
        "    history = simple_model.fit(X_train, y_train, batch_size=batch_size, epochs=77, verbose=2)\n",
        "    return simple_model, history"
      ],
      "execution_count": null,
      "outputs": []
    },
    {
      "cell_type": "code",
      "metadata": {
        "id": "ATmWexK439uq"
      },
      "source": [
        "def randForest_model(X_train, y_train):\n",
        "    randForest_model = RandomForestRegressor()\n",
        "    history = randForest_model.fit(X_train, y_train)\n",
        "    return randForest_model, history"
      ],
      "execution_count": null,
      "outputs": []
    },
    {
      "cell_type": "code",
      "metadata": {
        "id": "t6BU80VWlUry"
      },
      "source": [
        "def boosting_model(X_train, X_test, y_train, y_test):\n",
        "    estimators = [50, 100, 150, 200]\n",
        "    lr = [0.001, 0.01, 0.1, 0.2, 0.3]\n",
        "    best_sc_first = 0\n",
        "    best_est = 0\n",
        "    for est in tqdm_notebook(estimators):\n",
        "        rgr = XGBRegressor(n_estimators=est)\n",
        "        rgr.fit(X_train, y_train)\n",
        "        y_pred = rgr.predict(X_test)\n",
        "        sc = r2_score(y_pred, y_test)\n",
        "        if sc > best_sc_first:\n",
        "            best_sc_first = sc\n",
        "            best_est = est\n",
        "\n",
        "\n",
        "    result_est = None\n",
        "    best_sc_second = 0\n",
        "    best_pred = None\n",
        "    best_lr = 0\n",
        "    for cur_lr in tqdm_notebook(lr):\n",
        "        rgr = XGBRegressor(n_estimators=best_est)\n",
        "        rgr.fit(X_train, y_train)\n",
        "        y_pred = rgr.predict(X_test)\n",
        "        sc = r2_score(y_pred, y_test)\n",
        "        if sc > best_sc_second:\n",
        "            best_sc_second = sc\n",
        "            best_lr = cur_lr\n",
        "            result_est = rgr\n",
        "            best_pred = y_pred\n",
        "    return result_est"
      ],
      "execution_count": null,
      "outputs": []
    },
    {
      "cell_type": "code",
      "metadata": {
        "id": "QaLu40WF2c1L"
      },
      "source": [
        "def make_predictions(model, X_train, X_test):\n",
        "    y_pred_train = model.predict(X_train)\n",
        "    y_pred_test = model.predict(X_test)\n",
        "    return y_pred_train, y_pred_test"
      ],
      "execution_count": null,
      "outputs": []
    },
    {
      "cell_type": "code",
      "metadata": {
        "id": "ZxaTXNpq30dt"
      },
      "source": [
        "def print_score(y, y_pred):\n",
        "    print('max_error:',max_error(y, y_pred))\n",
        "    print('mean_squared_error:',mean_squared_error(y, y_pred))\n",
        "    print('explained_variance_score:', explained_variance_score(y, y_pred))\n",
        "    print('mean_absolute_error:', mean_absolute_error(y, y_pred))\n",
        "    print('mean_squared_log_error:', mean_squared_log_error(y, y_pred))\n",
        "    print('median_absolute_error:', median_absolute_error(y, y_pred))\n",
        "    print('r2_score:', r2_score(y, y_pred))\n",
        "    print('mean_poisson_deviance:', mean_poisson_deviance(y, y_pred))\n",
        "    print('mean_gamma_deviance:', mean_gamma_deviance(y, y_pred))\n",
        "    return r2_score(y, y_pred)"
      ],
      "execution_count": null,
      "outputs": []
    },
    {
      "cell_type": "code",
      "metadata": {
        "id": "c2NeyxAUU8_Z"
      },
      "source": [
        "def scores(model, X_train, X_test, y_train, y_test):\n",
        "    y_pred_train, y_pred_test = make_predictions(model, X_train, X_test)\n",
        "    r2_train = print_score(y_train, y_pred_train)\n",
        "    r2_test = print_score(y_test, y_pred_test)\n",
        "    return r2_train, r2_test"
      ],
      "execution_count": null,
      "outputs": []
    },
    {
      "cell_type": "code",
      "metadata": {
        "id": "qBWnAC0r6YfG"
      },
      "source": [
        "def feature_importance(model):\n",
        "    importance = model.feature_importances_\n",
        "    importance2 = list(filter(lambda x: x > 0.0045, importance))\n",
        "    # summarize feature importance\n",
        "    massiv = X.columns\n",
        "    massiv2 = []\n",
        "    i = 0\n",
        "    for v in range(len(importance)):\n",
        "      if v == 52:\n",
        "        break\n",
        "      if importance[v] == importance2[i]:\n",
        "        print('Column: %s, Feature: %0d,  Score: %.5f' % (massiv[v], v, importance2[i]))\n",
        "        massiv2.append(massiv[v])\n",
        "        i += 1\n",
        "\t    \n",
        "    # plot feature importance\n",
        "    pyplot.bar(massiv2, importance2)\n",
        "    pyplot.xticks(rotation=90)\n",
        "    pyplot.show()\n",
        "    return massiv2"
      ],
      "execution_count": null,
      "outputs": []
    },
    {
      "cell_type": "code",
      "metadata": {
        "id": "6LUda92a6q5V"
      },
      "source": [
        "def get_masses_for_unlabeled(model, data, mask):\n",
        "    other_mask = 1 -  mask\n",
        "    other_mask = other_mask.astype('bool')\n",
        "    X_other = data[other_mask]\n",
        "    X_other = X_other.reset_index()\n",
        "    X_other = X_other.drop(columns=['index'])\n",
        "    X_other = X_other.fillna(X_other.mean())\n",
        "    res = model.predict(X_other)\n",
        "    inds = np.arange(len(data))\n",
        "    inds = inds[other_mask]\n",
        "    my_masses = {'inds': inds, 'masses' : res}\n",
        "    df = pd.DataFrame(my_masses)\n",
        "    return res, df"
      ],
      "execution_count": null,
      "outputs": []
    },
    {
      "cell_type": "code",
      "metadata": {
        "id": "Lg9xZt-gm3Mc"
      },
      "source": [
        "def draw(model):\n",
        "    yhat = model.predict(X_test)\n",
        "    plt.figure(figsize=[15, 10])  # inches\n",
        "    plt.plot(X, y, 'b.', label='observed', markersize=2);\n",
        "\n",
        "    m = yhat.mean()\n",
        "    s = np.std(yhat)\n",
        "\n",
        "    plt.plot(X_test, yhat, 'r', linewidth=0.1, label='mean');\n",
        "    plt.plot(X_test, yhat + 2 * s, 'g', linewidth=0.1, label=r'mean + 2 stddev');\n",
        "    plt.plot(X_test, yhat - 2 * s, 'g', linewidth=0.1, label=r'mean - 2 stddev');\n",
        "\n",
        "\n",
        "\n",
        "    ax=plt.gca();\n",
        "    ax.xaxis.set_ticks_position('bottom')\n",
        "    ax.yaxis.set_ticks_position('left')\n",
        "    ax.spines['left'].set_position(('data', 0))\n",
        "    ax.spines['top'].set_visible(False)\n",
        "    ax.spines['right'].set_visible(False)\n",
        "    #ax.spines['left'].set_smart_bounds(True)\n",
        "    #ax.spines['bottom'].set_smart_bounds(True)\n",
        "    plt.legend(loc='center left', fancybox=True, framealpha=0., bbox_to_anchor=(1.05, 0.5), fontsize=5)\n",
        "    plt.show()"
      ],
      "execution_count": null,
      "outputs": []
    },
    {
      "cell_type": "code",
      "metadata": {
        "id": "NOAVhqNhrc8x"
      },
      "source": [
        "def make_hist(arr):\n",
        "  sns_plot = sns.distplot(arr)\n",
        "  plt.show()"
      ],
      "execution_count": null,
      "outputs": []
    },
    {
      "cell_type": "code",
      "metadata": {
        "id": "Vzoc1KmgrdYX"
      },
      "source": [
        "def make_all_hist(model, y_train, y_test, data, mask):\n",
        "    others_y, _ = get_masses_for_unlabeled(model, data, mask)\n",
        "    make_hist(y_train)\n",
        "    make_hist(y_test)\n",
        "    make_hist(others_y)"
      ],
      "execution_count": null,
      "outputs": []
    },
    {
      "cell_type": "code",
      "metadata": {
        "id": "4KyPG-Zz7S-L"
      },
      "source": [
        "def save_csv(df):\n",
        "    compression_opts = dict(method='zip',\n",
        "                        archive_name='out.csv') \n",
        " \n",
        "    df.to_csv('out.zip', index=False,\n",
        "          compression=compression_opts) "
      ],
      "execution_count": null,
      "outputs": []
    },
    {
      "cell_type": "code",
      "metadata": {
        "colab": {
          "base_uri": "https://localhost:8080/"
        },
        "id": "X24OUht1AKRT",
        "outputId": "c3874b29-2a5e-46aa-a233-e7c2012e39de"
      },
      "source": [
        "prepare()"
      ],
      "execution_count": null,
      "outputs": [
        {
          "output_type": "stream",
          "text": [
            "Mounted at /content/drive\n",
            "SUCCESS: Found GPU: /device:GPU:0\n"
          ],
          "name": "stdout"
        }
      ]
    },
    {
      "cell_type": "code",
      "metadata": {
        "id": "BGuUBXzDDKuj"
      },
      "source": [
        "data, masses = load()"
      ],
      "execution_count": null,
      "outputs": []
    },
    {
      "cell_type": "code",
      "metadata": {
        "id": "obAn_fzEGTVU"
      },
      "source": [
        "data, X, y, mask = prepare_data(data, masses)"
      ],
      "execution_count": null,
      "outputs": []
    },
    {
      "cell_type": "code",
      "metadata": {
        "id": "BLLXYbra-hvF"
      },
      "source": [
        "X_train, X_test, y_train, y_test = split_data(X, y)"
      ],
      "execution_count": null,
      "outputs": []
    },
    {
      "cell_type": "code",
      "metadata": {
        "id": "gThwSHaSR56L"
      },
      "source": [
        "X_train, X_test = scale_data(X_train, X_test)"
      ],
      "execution_count": null,
      "outputs": []
    },
    {
      "cell_type": "code",
      "metadata": {
        "id": "9KDN7dibHg_E"
      },
      "source": [
        "negloglik = lambda y, p_y: -p_y.log_prob(y)"
      ],
      "execution_count": null,
      "outputs": []
    },
    {
      "cell_type": "markdown",
      "metadata": {
        "id": "2cnk6_kRMNrS"
      },
      "source": [
        "**Model 1(tf probability)**"
      ]
    },
    {
      "cell_type": "code",
      "metadata": {
        "colab": {
          "base_uri": "https://localhost:8080/"
        },
        "id": "ytToILhhakHu",
        "outputId": "3798343b-a14f-45b9-b3eb-63bf4db327ad"
      },
      "source": [
        "var_model, history = var_model(X_train, y_train)"
      ],
      "execution_count": null,
      "outputs": [
        {
          "output_type": "stream",
          "text": [
            "WARNING:tensorflow:From /usr/local/lib/python3.7/dist-packages/tensorflow/python/ops/linalg/linear_operator_lower_triangular.py:167: calling LinearOperator.__init__ (from tensorflow.python.ops.linalg.linear_operator) with graph_parents is deprecated and will be removed in a future version.\n",
            "Instructions for updating:\n",
            "Do not pass `graph_parents`.  They will  no longer be used.\n"
          ],
          "name": "stdout"
        },
        {
          "output_type": "stream",
          "text": [
            "/usr/local/lib/python3.7/dist-packages/tensorflow/python/keras/engine/base_layer.py:2281: UserWarning: `layer.add_variable` is deprecated and will be removed in a future version. Please use `layer.add_weight` method instead.\n",
            "  warnings.warn('`layer.add_variable` is deprecated and '\n",
            "/usr/local/lib/python3.7/dist-packages/tensorflow_probability/python/distributions/gaussian_process.py:312: UserWarning: Unable to detect statically whether the number of index_points is 1. As a result, defaulting to treating the marginal GP at `index_points` as a multivariate Gaussian. This makes some methods, like `cdf` unavailable.\n",
            "  'Unable to detect statically whether the number of index_points is '\n"
          ],
          "name": "stderr"
        },
        {
          "output_type": "stream",
          "text": [
            "Epoch 1/77\n"
          ],
          "name": "stdout"
        },
        {
          "output_type": "stream",
          "text": [
            "/usr/local/lib/python3.7/dist-packages/tensorflow_probability/python/distributions/gaussian_process.py:312: UserWarning: Unable to detect statically whether the number of index_points is 1. As a result, defaulting to treating the marginal GP at `index_points` as a multivariate Gaussian. This makes some methods, like `cdf` unavailable.\n",
            "  'Unable to detect statically whether the number of index_points is '\n"
          ],
          "name": "stderr"
        },
        {
          "output_type": "stream",
          "text": [
            "1301/1301 - 26s - loss: 3511.0457\n",
            "Epoch 2/77\n",
            "1301/1301 - 16s - loss: 1014.5328\n",
            "Epoch 3/77\n",
            "1301/1301 - 16s - loss: 623.7704\n",
            "Epoch 4/77\n",
            "1301/1301 - 16s - loss: 552.2957\n",
            "Epoch 5/77\n",
            "1301/1301 - 16s - loss: 440.6807\n",
            "Epoch 6/77\n",
            "1301/1301 - 16s - loss: 255.5195\n",
            "Epoch 7/77\n",
            "1301/1301 - 16s - loss: 171.0497\n",
            "Epoch 8/77\n",
            "1301/1301 - 16s - loss: 143.2611\n",
            "Epoch 9/77\n",
            "1301/1301 - 16s - loss: 91.5240\n",
            "Epoch 10/77\n",
            "1301/1301 - 16s - loss: 83.3454\n",
            "Epoch 11/77\n",
            "1301/1301 - 16s - loss: 80.6939\n",
            "Epoch 12/77\n",
            "1301/1301 - 16s - loss: 78.6486\n",
            "Epoch 13/77\n",
            "1301/1301 - 16s - loss: 76.9439\n",
            "Epoch 14/77\n",
            "1301/1301 - 16s - loss: 74.9093\n",
            "Epoch 15/77\n",
            "1301/1301 - 16s - loss: 73.7567\n",
            "Epoch 16/77\n",
            "1301/1301 - 16s - loss: 72.8208\n",
            "Epoch 17/77\n",
            "1301/1301 - 16s - loss: 71.9647\n",
            "Epoch 18/77\n",
            "1301/1301 - 16s - loss: 71.1983\n",
            "Epoch 19/77\n",
            "1301/1301 - 16s - loss: 70.5456\n",
            "Epoch 20/77\n",
            "1301/1301 - 16s - loss: 69.8103\n",
            "Epoch 21/77\n",
            "1301/1301 - 16s - loss: 68.0585\n",
            "Epoch 22/77\n",
            "1301/1301 - 16s - loss: 67.8881\n",
            "Epoch 23/77\n",
            "1301/1301 - 16s - loss: 67.2952\n",
            "Epoch 24/77\n",
            "1301/1301 - 16s - loss: 66.6778\n",
            "Epoch 25/77\n",
            "1301/1301 - 16s - loss: 65.5781\n",
            "Epoch 26/77\n",
            "1301/1301 - 16s - loss: 65.6788\n",
            "Epoch 27/77\n",
            "1301/1301 - 16s - loss: 64.8210\n",
            "Epoch 28/77\n",
            "1301/1301 - 16s - loss: 64.6758\n",
            "Epoch 29/77\n",
            "1301/1301 - 16s - loss: 63.6062\n",
            "Epoch 30/77\n",
            "1301/1301 - 16s - loss: 63.6662\n",
            "Epoch 31/77\n",
            "1301/1301 - 16s - loss: 63.6581\n",
            "Epoch 32/77\n",
            "1301/1301 - 16s - loss: 63.0603\n",
            "Epoch 33/77\n",
            "1301/1301 - 16s - loss: 62.4165\n",
            "Epoch 34/77\n",
            "1301/1301 - 16s - loss: 62.4591\n",
            "Epoch 35/77\n",
            "1301/1301 - 16s - loss: 61.6152\n",
            "Epoch 36/77\n",
            "1301/1301 - 16s - loss: 61.3515\n",
            "Epoch 37/77\n",
            "1301/1301 - 16s - loss: 61.0480\n",
            "Epoch 38/77\n",
            "1301/1301 - 16s - loss: 61.2474\n",
            "Epoch 39/77\n",
            "1301/1301 - 16s - loss: 60.8965\n",
            "Epoch 40/77\n",
            "1301/1301 - 16s - loss: 60.4503\n",
            "Epoch 41/77\n",
            "1301/1301 - 16s - loss: 59.7424\n",
            "Epoch 42/77\n",
            "1301/1301 - 16s - loss: 59.6440\n",
            "Epoch 43/77\n",
            "1301/1301 - 16s - loss: 60.1648\n",
            "Epoch 44/77\n",
            "1301/1301 - 16s - loss: 59.7723\n",
            "Epoch 45/77\n",
            "1301/1301 - 16s - loss: 59.2549\n",
            "Epoch 46/77\n",
            "1301/1301 - 16s - loss: 58.8741\n",
            "Epoch 47/77\n",
            "1301/1301 - 16s - loss: 59.1535\n",
            "Epoch 48/77\n",
            "1301/1301 - 16s - loss: 58.4522\n",
            "Epoch 49/77\n",
            "1301/1301 - 16s - loss: 58.5273\n",
            "Epoch 50/77\n",
            "1301/1301 - 16s - loss: 58.1636\n",
            "Epoch 51/77\n",
            "1301/1301 - 16s - loss: 58.0210\n",
            "Epoch 52/77\n",
            "1301/1301 - 16s - loss: 57.6802\n",
            "Epoch 53/77\n",
            "1301/1301 - 16s - loss: 57.3906\n",
            "Epoch 54/77\n",
            "1301/1301 - 16s - loss: 57.2138\n",
            "Epoch 55/77\n",
            "1301/1301 - 16s - loss: 56.7259\n",
            "Epoch 56/77\n",
            "1301/1301 - 16s - loss: 56.2969\n",
            "Epoch 57/77\n",
            "1301/1301 - 16s - loss: 56.2400\n",
            "Epoch 58/77\n",
            "1301/1301 - 16s - loss: 56.5131\n",
            "Epoch 59/77\n",
            "1301/1301 - 16s - loss: 56.0844\n",
            "Epoch 60/77\n",
            "1301/1301 - 16s - loss: 55.5131\n",
            "Epoch 61/77\n",
            "1301/1301 - 16s - loss: 55.5240\n",
            "Epoch 62/77\n",
            "1301/1301 - 16s - loss: 55.2841\n",
            "Epoch 63/77\n",
            "1301/1301 - 16s - loss: 55.4870\n",
            "Epoch 64/77\n",
            "1301/1301 - 16s - loss: 55.4943\n",
            "Epoch 65/77\n",
            "1301/1301 - 16s - loss: 54.9657\n",
            "Epoch 66/77\n",
            "1301/1301 - 16s - loss: 55.3226\n",
            "Epoch 67/77\n",
            "1301/1301 - 16s - loss: 54.6043\n",
            "Epoch 68/77\n",
            "1301/1301 - 16s - loss: 54.9678\n",
            "Epoch 69/77\n",
            "1301/1301 - 16s - loss: 54.4344\n",
            "Epoch 70/77\n",
            "1301/1301 - 16s - loss: 54.5014\n",
            "Epoch 71/77\n",
            "1301/1301 - 16s - loss: 54.5158\n",
            "Epoch 72/77\n",
            "1301/1301 - 16s - loss: 54.4807\n",
            "Epoch 73/77\n",
            "1301/1301 - 16s - loss: 54.0327\n",
            "Epoch 74/77\n",
            "1301/1301 - 16s - loss: 53.9069\n",
            "Epoch 75/77\n",
            "1301/1301 - 16s - loss: 53.7815\n",
            "Epoch 76/77\n",
            "1301/1301 - 16s - loss: 53.8353\n",
            "Epoch 77/77\n",
            "1301/1301 - 16s - loss: 53.5776\n"
          ],
          "name": "stdout"
        }
      ]
    },
    {
      "cell_type": "code",
      "metadata": {
        "colab": {
          "base_uri": "https://localhost:8080/"
        },
        "id": "NYD_rKQxMbnH",
        "outputId": "af0b1bc2-79da-40c2-fea5-0d47b9f7fe78"
      },
      "source": [
        "simple_model_train_r2, simple_model_test_r2 = scores(var_model, X_train, X_test, y_train, y_test)"
      ],
      "execution_count": null,
      "outputs": [
        {
          "output_type": "stream",
          "text": [
            "/usr/local/lib/python3.7/dist-packages/tensorflow_probability/python/distributions/gaussian_process.py:312: UserWarning: Unable to detect statically whether the number of index_points is 1. As a result, defaulting to treating the marginal GP at `index_points` as a multivariate Gaussian. This makes some methods, like `cdf` unavailable.\n",
            "  'Unable to detect statically whether the number of index_points is '\n"
          ],
          "name": "stderr"
        },
        {
          "output_type": "stream",
          "text": [
            "max_error: 3.5252055937092814\n",
            "mean_squared_error: 0.06474797350881427\n",
            "explained_variance_score: 0.8407031834041868\n",
            "mean_absolute_error: 0.1957709914067159\n",
            "mean_squared_log_error: 0.0005301736963469627\n",
            "median_absolute_error: 0.15976031703633975\n",
            "r2_score: 0.8405241924146368\n",
            "mean_poisson_deviance: 0.0064232047069022824\n",
            "mean_gamma_deviance: 0.000640673467776464\n",
            "max_error: 3.444138419161092\n",
            "mean_squared_error: 0.06579583633943306\n",
            "explained_variance_score: 0.837145286088737\n",
            "mean_absolute_error: 0.1967250184348941\n",
            "mean_squared_log_error: 0.0005382064003635866\n",
            "median_absolute_error: 0.15986572312448466\n",
            "r2_score: 0.8370165502546896\n",
            "mean_poisson_deviance: 0.006525503658297513\n",
            "mean_gamma_deviance: 0.0006505722554515122\n"
          ],
          "name": "stdout"
        }
      ]
    },
    {
      "cell_type": "markdown",
      "metadata": {
        "id": "5C0V1x2xMS5Q"
      },
      "source": [
        "**Model 2(RandForest)**"
      ]
    },
    {
      "cell_type": "code",
      "metadata": {
        "colab": {
          "base_uri": "https://localhost:8080/"
        },
        "id": "wAMSZxYm9C5o",
        "outputId": "005a8587-1669-4b49-c340-6b221e4b72d7"
      },
      "source": [
        "random_forest_model, history2 = randForest_model(X_train, y_train)"
      ],
      "execution_count": null,
      "outputs": [
        {
          "output_type": "stream",
          "text": [
            "/usr/local/lib/python3.7/dist-packages/ipykernel_launcher.py:3: DataConversionWarning: A column-vector y was passed when a 1d array was expected. Please change the shape of y to (n_samples,), for example using ravel().\n",
            "  This is separate from the ipykernel package so we can avoid doing imports until\n"
          ],
          "name": "stderr"
        }
      ]
    },
    {
      "cell_type": "code",
      "metadata": {
        "colab": {
          "base_uri": "https://localhost:8080/"
        },
        "id": "LZdyRTq8bOHg",
        "outputId": "5dd0c012-165d-4a4f-ee1a-df3c21330ce5"
      },
      "source": [
        "random_forest_model_train_r2, random_forest_model_test_r2 = scores(random_forest_model, X_train, X_test, y_train, y_test)"
      ],
      "execution_count": null,
      "outputs": [
        {
          "output_type": "stream",
          "text": [
            "max_error: 1.4738667333333346\n",
            "mean_squared_error: 0.004295559106833557\n",
            "explained_variance_score: 0.9894206058912702\n",
            "mean_absolute_error: 0.04690507817934877\n",
            "mean_squared_log_error: 3.63431686302862e-05\n",
            "median_absolute_error: 0.0353173875000099\n",
            "r2_score: 0.9894199351660066\n",
            "mean_poisson_deviance: 0.0004332869889391499\n",
            "mean_gamma_deviance: 4.411743381381695e-05\n",
            "max_error: 2.4850221\n",
            "mean_squared_error: 0.030672761940463016\n",
            "explained_variance_score: 0.9240209066949334\n",
            "mean_absolute_error: 0.12676584710636812\n",
            "mean_squared_log_error: 0.0002563314649687359\n",
            "median_absolute_error: 0.09625623916666726\n",
            "r2_score: 0.9240202293579296\n",
            "mean_poisson_deviance: 0.0030779378871710183\n",
            "mean_gamma_deviance: 0.00031056435112003614\n"
          ],
          "name": "stdout"
        }
      ]
    },
    {
      "cell_type": "markdown",
      "metadata": {
        "id": "utzcCuFhMmkn"
      },
      "source": [
        "**Model 3(Xgboost)**"
      ]
    },
    {
      "cell_type": "code",
      "metadata": {
        "colab": {
          "base_uri": "https://localhost:8080/",
          "height": 372,
          "referenced_widgets": [
            "b5f6197a8dcd46b480a794a5476bda6a",
            "a826706e4e9740298a5b2c5e790a6f1e",
            "0f98f877e33d4d9d8c9d7cdb6518d38d",
            "f24cb2c2eb4b42ae9ecf25c2138d6651",
            "ea4a1d43ddd1459aa0893d30ec25cceb",
            "9c31ac0407b6464a9522b84fe96f32c6",
            "87de9ecc36ad4de9aecae8ee6b4bc5c4",
            "d0981ed60f9c4cd199f6498652b0cb9f",
            "2307861c8960487e9b84dc1ea52768c5",
            "9e6fb254433f427aa6d1526e57af0765",
            "2b5e08b76c17407fae9df4584351ef8a",
            "ff4844b706534aeeb6e7860d5c9a10b2",
            "adb688b6bdc9480ca29a76b892d66688",
            "f06e35fcf3ee4d0e8296bda84bd982d8",
            "da64b26c067e49a59ea0e7510ca746c6",
            "6cb86afb53d04a4abeb041b70da0fd0c"
          ]
        },
        "id": "W9e_l9gHlahS",
        "outputId": "e850bbdb-6247-4925-b571-eb7aa2237672"
      },
      "source": [
        "boost_model = boosting_model(X_train, X_test, y_train, y_test)"
      ],
      "execution_count": null,
      "outputs": [
        {
          "output_type": "stream",
          "text": [
            "/usr/local/lib/python3.7/dist-packages/ipykernel_launcher.py:6: TqdmDeprecationWarning: This function will be removed in tqdm==5.0.0\n",
            "Please use `tqdm.notebook.tqdm` instead of `tqdm.tqdm_notebook`\n",
            "  \n"
          ],
          "name": "stderr"
        },
        {
          "output_type": "display_data",
          "data": {
            "application/vnd.jupyter.widget-view+json": {
              "model_id": "b5f6197a8dcd46b480a794a5476bda6a",
              "version_minor": 0,
              "version_major": 2
            },
            "text/plain": [
              "HBox(children=(FloatProgress(value=0.0, max=4.0), HTML(value='')))"
            ]
          },
          "metadata": {
            "tags": []
          }
        },
        {
          "output_type": "stream",
          "text": [
            "[12:19:54] WARNING: /workspace/src/objective/regression_obj.cu:152: reg:linear is now deprecated in favor of reg:squarederror.\n",
            "[12:20:50] WARNING: /workspace/src/objective/regression_obj.cu:152: reg:linear is now deprecated in favor of reg:squarederror.\n",
            "[12:22:40] WARNING: /workspace/src/objective/regression_obj.cu:152: reg:linear is now deprecated in favor of reg:squarederror.\n",
            "[12:25:22] WARNING: /workspace/src/objective/regression_obj.cu:152: reg:linear is now deprecated in favor of reg:squarederror.\n",
            "\n"
          ],
          "name": "stdout"
        },
        {
          "output_type": "stream",
          "text": [
            "/usr/local/lib/python3.7/dist-packages/ipykernel_launcher.py:20: TqdmDeprecationWarning: This function will be removed in tqdm==5.0.0\n",
            "Please use `tqdm.notebook.tqdm` instead of `tqdm.tqdm_notebook`\n"
          ],
          "name": "stderr"
        },
        {
          "output_type": "display_data",
          "data": {
            "application/vnd.jupyter.widget-view+json": {
              "model_id": "2307861c8960487e9b84dc1ea52768c5",
              "version_minor": 0,
              "version_major": 2
            },
            "text/plain": [
              "HBox(children=(FloatProgress(value=0.0, max=5.0), HTML(value='')))"
            ]
          },
          "metadata": {
            "tags": []
          }
        },
        {
          "output_type": "stream",
          "text": [
            "[12:28:58] WARNING: /workspace/src/objective/regression_obj.cu:152: reg:linear is now deprecated in favor of reg:squarederror.\n",
            "[12:32:34] WARNING: /workspace/src/objective/regression_obj.cu:152: reg:linear is now deprecated in favor of reg:squarederror.\n",
            "[12:36:21] WARNING: /workspace/src/objective/regression_obj.cu:152: reg:linear is now deprecated in favor of reg:squarederror.\n",
            "[12:40:15] WARNING: /workspace/src/objective/regression_obj.cu:152: reg:linear is now deprecated in favor of reg:squarederror.\n",
            "[12:43:54] WARNING: /workspace/src/objective/regression_obj.cu:152: reg:linear is now deprecated in favor of reg:squarederror.\n",
            "\n"
          ],
          "name": "stdout"
        }
      ]
    },
    {
      "cell_type": "code",
      "metadata": {
        "colab": {
          "base_uri": "https://localhost:8080/"
        },
        "id": "LgAIuMe9lnc5",
        "outputId": "ffa80d58-4241-4a33-b2ff-5d619715c451"
      },
      "source": [
        "boost_model_train_r2, boost_model_test_r2 = scores(boost_model, X_train, X_test, y_train, y_test)"
      ],
      "execution_count": null,
      "outputs": [
        {
          "output_type": "stream",
          "text": [
            "max_error: 3.239833108520508\n",
            "mean_squared_error: 0.031971496884686784\n",
            "explained_variance_score: 0.921253438386054\n",
            "mean_absolute_error: 0.13097739090184357\n",
            "mean_squared_log_error: 0.00026706742193905115\n",
            "median_absolute_error: 0.10120038070678739\n",
            "r2_score: 0.9212534383843805\n",
            "mean_poisson_deviance: 0.0032063286413070518\n",
            "mean_gamma_deviance: 0.0003234433335239757\n",
            "max_error: 2.6021200390625\n",
            "mean_squared_error: 0.03298007794079622\n",
            "explained_variance_score: 0.9183056448500004\n",
            "mean_absolute_error: 0.1332585188686083\n",
            "mean_squared_log_error: 0.00027477640222035236\n",
            "median_absolute_error: 0.1035393656921384\n",
            "r2_score: 0.9183047564297212\n",
            "mean_poisson_deviance: 0.0033041027434528346\n",
            "mean_gamma_deviance: 0.000332841289895793\n"
          ],
          "name": "stdout"
        }
      ]
    },
    {
      "cell_type": "markdown",
      "metadata": {
        "id": "2qk1iAnKMicP"
      },
      "source": [
        "**Feature importance**"
      ]
    },
    {
      "cell_type": "code",
      "metadata": {
        "colab": {
          "base_uri": "https://localhost:8080/",
          "height": 685
        },
        "id": "kogL2jANMrap",
        "outputId": "675d090d-4a28-4162-b18d-24ca78960492"
      },
      "source": [
        "most_important_features = feature_importance(random_forest_model)"
      ],
      "execution_count": null,
      "outputs": [
        {
          "output_type": "stream",
          "text": [
            "Column: redshift, Feature: 3,  Score: 0.15428\n",
            "Column: kcorr_u, Feature: 18,  Score: 0.01873\n",
            "Column: kcorr_g, Feature: 22,  Score: 0.45405\n",
            "Column: r, Feature: 23,  Score: 0.01501\n",
            "Column: kcorr_r, Feature: 26,  Score: 0.01689\n",
            "Column: i, Feature: 27,  Score: 0.02870\n",
            "Column: kcorr_i, Feature: 30,  Score: 0.00515\n",
            "Column: z, Feature: 31,  Score: 0.16229\n",
            "Column: w1, Feature: 47,  Score: 0.00504\n",
            "Column: w2, Feature: 49,  Score: 0.05411\n",
            "Column: w3, Feature: 51,  Score: 0.01859\n"
          ],
          "name": "stdout"
        },
        {
          "output_type": "display_data",
          "data": {
            "image/png": "[encoded data removed]",
            "text/plain": [
              "<Figure size 640x480 with 1 Axes>"
            ]
          },
          "metadata": {
            "tags": []
          }
        }
      ]
    },
    {
      "cell_type": "markdown",
      "metadata": {
        "id": "n0Yqm3L-mlgM"
      },
      "source": [
        "**Сomparison of three models**"
      ]
    },
    {
      "cell_type": "code",
      "metadata": {
        "colab": {
          "base_uri": "https://localhost:8080/",
          "height": 138
        },
        "id": "XXRha6z2du3e",
        "outputId": "6cd60cba-97eb-4b0e-ad48-c7e17fd45de5"
      },
      "source": [
        "#table\n",
        "res_table = {'names' : ['variational layer model', 'random forest model', 'boosting model'], 'train' : [simple_model_train_r2, random_forest_model_train_r2, boost_model_train_r2], 'test' : [simple_model_test_r2, random_forest_model_test_r2, boost_model_test_r2]}\n",
        "res_table = pd.DataFrame(res_table)\n",
        "res_table"
      ],
      "execution_count": null,
      "outputs": [
        {
          "output_type": "execute_result",
          "data": {
            "text/html": [
              "<div>\n",
              "<style scoped>\n",
              "    .dataframe tbody tr th:only-of-type {\n",
              "        vertical-align: middle;\n",
              "    }\n",
              "\n",
              "    .dataframe tbody tr th {\n",
              "        vertical-align: top;\n",
              "    }\n",
              "\n",
              "    .dataframe thead th {\n",
              "        text-align: right;\n",
              "    }\n",
              "</style>\n",
              "<table border=\"1\" class=\"dataframe\">\n",
              "  <thead>\n",
              "    <tr style=\"text-align: right;\">\n",
              "      <th></th>\n",
              "      <th>names</th>\n",
              "      <th>train</th>\n",
              "      <th>test</th>\n",
              "    </tr>\n",
              "  </thead>\n",
              "  <tbody>\n",
              "    <tr>\n",
              "      <th>0</th>\n",
              "      <td>variational layer model</td>\n",
              "      <td>0.840524</td>\n",
              "      <td>0.837017</td>\n",
              "    </tr>\n",
              "    <tr>\n",
              "      <th>1</th>\n",
              "      <td>random forest model</td>\n",
              "      <td>0.989420</td>\n",
              "      <td>0.924020</td>\n",
              "    </tr>\n",
              "    <tr>\n",
              "      <th>2</th>\n",
              "      <td>boosting model</td>\n",
              "      <td>0.921253</td>\n",
              "      <td>0.918305</td>\n",
              "    </tr>\n",
              "  </tbody>\n",
              "</table>\n",
              "</div>"
            ],
            "text/plain": [
              "                     names     train      test\n",
              "0  variational layer model  0.840524  0.837017\n",
              "1      random forest model  0.989420  0.924020\n",
              "2           boosting model  0.921253  0.918305"
            ]
          },
          "metadata": {
            "tags": []
          },
          "execution_count": 37
        }
      ]
    },
    {
      "cell_type": "markdown",
      "metadata": {
        "id": "5N47lZSgrpNE"
      },
      "source": [
        "**Masses hist**"
      ]
    },
    {
      "cell_type": "code",
      "metadata": {
        "id": "YxU0Yoo2rlyF",
        "colab": {
          "base_uri": "https://localhost:8080/",
          "height": 1000
        },
        "outputId": "8d008737-b263-4364-91af-40f506cc33a7"
      },
      "source": [
        "make_all_hist(random_forest_model, y_train, y_test, data, mask)"
      ],
      "execution_count": null,
      "outputs": [
        {
          "output_type": "stream",
          "text": [
            "/usr/local/lib/python3.7/dist-packages/seaborn/distributions.py:2557: FutureWarning: `distplot` is a deprecated function and will be removed in a future version. Please adapt your code to use either `displot` (a figure-level function with similar flexibility) or `histplot` (an axes-level function for histograms).\n",
            "  warnings.warn(msg, FutureWarning)\n"
          ],
          "name": "stderr"
        },
        {
          "output_type": "display_data",
          "data": {
            "image/png": "[encoded data removed]",
            "text/plain": [
              "<Figure size 640x480 with 1 Axes>"
            ]
          },
          "metadata": {
            "tags": []
          }
        },
        {
          "output_type": "stream",
          "text": [
            "/usr/local/lib/python3.7/dist-packages/seaborn/distributions.py:2557: FutureWarning: `distplot` is a deprecated function and will be removed in a future version. Please adapt your code to use either `displot` (a figure-level function with similar flexibility) or `histplot` (an axes-level function for histograms).\n",
            "  warnings.warn(msg, FutureWarning)\n"
          ],
          "name": "stderr"
        },
        {
          "output_type": "display_data",
          "data": {
            "image/png": "[encoded data removed]",
            "text/plain": [
              "<Figure size 640x480 with 1 Axes>"
            ]
          },
          "metadata": {
            "tags": []
          }
        },
        {
          "output_type": "stream",
          "text": [
            "/usr/local/lib/python3.7/dist-packages/seaborn/distributions.py:2557: FutureWarning: `distplot` is a deprecated function and will be removed in a future version. Please adapt your code to use either `displot` (a figure-level function with similar flexibility) or `histplot` (an axes-level function for histograms).\n",
            "  warnings.warn(msg, FutureWarning)\n"
          ],
          "name": "stderr"
        },
        {
          "output_type": "display_data",
          "data": {
            "image/png": "[encoded data removed]",
            "text/plain": [
              "<Figure size 640x480 with 1 Axes>"
            ]
          },
          "metadata": {
            "tags": []
          }
        }
      ]
    },
    {
      "cell_type": "markdown",
      "metadata": {
        "id": "rybpUx6twklc"
      },
      "source": [
        "**Add new features made of important features + new regression**"
      ]
    },
    {
      "cell_type": "code",
      "metadata": {
        "colab": {
          "base_uri": "https://localhost:8080/",
          "height": 407
        },
        "id": "8E1BdDxuwxrs",
        "outputId": "ff1101b2-0e76-4373-9726-e5f0adf48f51"
      },
      "source": [
        "#most_important_features - names of important features\n",
        "new_data = pd.DataFrame()\n",
        "for i in data.columns:\n",
        "  if i in most_important_features:\n",
        "    new_data[i] = data[i]\n",
        "new_data"
      ],
      "execution_count": null,
      "outputs": [
        {
          "output_type": "execute_result",
          "data": {
            "text/html": [
              "<div>\n",
              "<style scoped>\n",
              "    .dataframe tbody tr th:only-of-type {\n",
              "        vertical-align: middle;\n",
              "    }\n",
              "\n",
              "    .dataframe tbody tr th {\n",
              "        vertical-align: top;\n",
              "    }\n",
              "\n",
              "    .dataframe thead th {\n",
              "        text-align: right;\n",
              "    }\n",
              "</style>\n",
              "<table border=\"1\" class=\"dataframe\">\n",
              "  <thead>\n",
              "    <tr style=\"text-align: right;\">\n",
              "      <th></th>\n",
              "      <th>redshift</th>\n",
              "      <th>kcorr_u</th>\n",
              "      <th>kcorr_g</th>\n",
              "      <th>r</th>\n",
              "      <th>kcorr_r</th>\n",
              "      <th>i</th>\n",
              "      <th>kcorr_i</th>\n",
              "      <th>z</th>\n",
              "      <th>w1</th>\n",
              "      <th>w2</th>\n",
              "      <th>w3</th>\n",
              "    </tr>\n",
              "  </thead>\n",
              "  <tbody>\n",
              "    <tr>\n",
              "      <th>0</th>\n",
              "      <td>0.169052</td>\n",
              "      <td>0.294785</td>\n",
              "      <td>0.515064</td>\n",
              "      <td>17.386399</td>\n",
              "      <td>0.168766</td>\n",
              "      <td>16.935629</td>\n",
              "      <td>0.083567</td>\n",
              "      <td>16.613500</td>\n",
              "      <td>17.262477</td>\n",
              "      <td>17.720986</td>\n",
              "      <td>17.344103</td>\n",
              "    </tr>\n",
              "    <tr>\n",
              "      <th>1</th>\n",
              "      <td>0.042331</td>\n",
              "      <td>0.121685</td>\n",
              "      <td>0.053598</td>\n",
              "      <td>17.433048</td>\n",
              "      <td>0.036475</td>\n",
              "      <td>17.175305</td>\n",
              "      <td>0.000419</td>\n",
              "      <td>16.878486</td>\n",
              "      <td>18.180280</td>\n",
              "      <td>18.739711</td>\n",
              "      <td>16.582489</td>\n",
              "    </tr>\n",
              "    <tr>\n",
              "      <th>2</th>\n",
              "      <td>0.059361</td>\n",
              "      <td>0.180941</td>\n",
              "      <td>0.101875</td>\n",
              "      <td>16.451456</td>\n",
              "      <td>0.047751</td>\n",
              "      <td>16.146245</td>\n",
              "      <td>0.011143</td>\n",
              "      <td>15.904148</td>\n",
              "      <td>16.290263</td>\n",
              "      <td>16.903854</td>\n",
              "      <td>17.320075</td>\n",
              "    </tr>\n",
              "    <tr>\n",
              "      <th>3</th>\n",
              "      <td>0.171086</td>\n",
              "      <td>-0.024583</td>\n",
              "      <td>-0.029259</td>\n",
              "      <td>20.621648</td>\n",
              "      <td>-0.120074</td>\n",
              "      <td>19.969107</td>\n",
              "      <td>-0.223952</td>\n",
              "      <td>19.933580</td>\n",
              "      <td>18.738589</td>\n",
              "      <td>19.273824</td>\n",
              "      <td>16.601845</td>\n",
              "    </tr>\n",
              "    <tr>\n",
              "      <th>4</th>\n",
              "      <td>0.105039</td>\n",
              "      <td>0.161748</td>\n",
              "      <td>0.139702</td>\n",
              "      <td>17.605897</td>\n",
              "      <td>0.046276</td>\n",
              "      <td>17.199028</td>\n",
              "      <td>-0.000667</td>\n",
              "      <td>16.847751</td>\n",
              "      <td>16.947873</td>\n",
              "      <td>16.945460</td>\n",
              "      <td>14.929433</td>\n",
              "    </tr>\n",
              "    <tr>\n",
              "      <th>...</th>\n",
              "      <td>...</td>\n",
              "      <td>...</td>\n",
              "      <td>...</td>\n",
              "      <td>...</td>\n",
              "      <td>...</td>\n",
              "      <td>...</td>\n",
              "      <td>...</td>\n",
              "      <td>...</td>\n",
              "      <td>...</td>\n",
              "      <td>...</td>\n",
              "      <td>...</td>\n",
              "    </tr>\n",
              "    <tr>\n",
              "      <th>1652055</th>\n",
              "      <td>0.039340</td>\n",
              "      <td>NaN</td>\n",
              "      <td>0.608065</td>\n",
              "      <td>18.899818</td>\n",
              "      <td>0.143761</td>\n",
              "      <td>18.201648</td>\n",
              "      <td>0.021834</td>\n",
              "      <td>18.305663</td>\n",
              "      <td>17.953354</td>\n",
              "      <td>18.249756</td>\n",
              "      <td>NaN</td>\n",
              "    </tr>\n",
              "    <tr>\n",
              "      <th>1652056</th>\n",
              "      <td>0.067905</td>\n",
              "      <td>0.201118</td>\n",
              "      <td>0.163659</td>\n",
              "      <td>15.940846</td>\n",
              "      <td>0.063800</td>\n",
              "      <td>15.565904</td>\n",
              "      <td>0.041873</td>\n",
              "      <td>15.273295</td>\n",
              "      <td>NaN</td>\n",
              "      <td>NaN</td>\n",
              "      <td>17.058192</td>\n",
              "    </tr>\n",
              "    <tr>\n",
              "      <th>1652057</th>\n",
              "      <td>0.264760</td>\n",
              "      <td>NaN</td>\n",
              "      <td>0.870919</td>\n",
              "      <td>17.341057</td>\n",
              "      <td>0.261753</td>\n",
              "      <td>16.846022</td>\n",
              "      <td>0.090772</td>\n",
              "      <td>16.548414</td>\n",
              "      <td>17.026283</td>\n",
              "      <td>17.362712</td>\n",
              "      <td>NaN</td>\n",
              "    </tr>\n",
              "    <tr>\n",
              "      <th>1652058</th>\n",
              "      <td>0.089299</td>\n",
              "      <td>0.266545</td>\n",
              "      <td>0.221352</td>\n",
              "      <td>16.367894</td>\n",
              "      <td>0.080145</td>\n",
              "      <td>15.951616</td>\n",
              "      <td>0.047606</td>\n",
              "      <td>15.633123</td>\n",
              "      <td>16.083211</td>\n",
              "      <td>16.726668</td>\n",
              "      <td>17.208479</td>\n",
              "    </tr>\n",
              "    <tr>\n",
              "      <th>1652059</th>\n",
              "      <td>0.115470</td>\n",
              "      <td>0.275340</td>\n",
              "      <td>0.273458</td>\n",
              "      <td>17.574438</td>\n",
              "      <td>0.092335</td>\n",
              "      <td>17.237055</td>\n",
              "      <td>0.029332</td>\n",
              "      <td>17.041413</td>\n",
              "      <td>17.766105</td>\n",
              "      <td>18.380988</td>\n",
              "      <td>17.898328</td>\n",
              "    </tr>\n",
              "  </tbody>\n",
              "</table>\n",
              "<p>1652060 rows × 11 columns</p>\n",
              "</div>"
            ],
            "text/plain": [
              "         redshift   kcorr_u   kcorr_g  ...         w1         w2         w3\n",
              "0        0.169052  0.294785  0.515064  ...  17.262477  17.720986  17.344103\n",
              "1        0.042331  0.121685  0.053598  ...  18.180280  18.739711  16.582489\n",
              "2        0.059361  0.180941  0.101875  ...  16.290263  16.903854  17.320075\n",
              "3        0.171086 -0.024583 -0.029259  ...  18.738589  19.273824  16.601845\n",
              "4        0.105039  0.161748  0.139702  ...  16.947873  16.945460  14.929433\n",
              "...           ...       ...       ...  ...        ...        ...        ...\n",
              "1652055  0.039340       NaN  0.608065  ...  17.953354  18.249756        NaN\n",
              "1652056  0.067905  0.201118  0.163659  ...        NaN        NaN  17.058192\n",
              "1652057  0.264760       NaN  0.870919  ...  17.026283  17.362712        NaN\n",
              "1652058  0.089299  0.266545  0.221352  ...  16.083211  16.726668  17.208479\n",
              "1652059  0.115470  0.275340  0.273458  ...  17.766105  18.380988  17.898328\n",
              "\n",
              "[1652060 rows x 11 columns]"
            ]
          },
          "metadata": {
            "tags": []
          },
          "execution_count": 39
        }
      ]
    },
    {
      "cell_type": "code",
      "metadata": {
        "id": "NhfiK81N7r_8"
      },
      "source": [
        "poly = PolynomialFeatures(2)"
      ],
      "execution_count": null,
      "outputs": []
    },
    {
      "cell_type": "code",
      "metadata": {
        "id": "9UjooTMawj5I"
      },
      "source": [
        "mask = ~masses['logMstar_gal'].isna()\n",
        "new_y = masses[mask]\n",
        "new_y = new_y.reset_index()\n",
        "new_y = new_y.drop(columns=['index'])\n",
        "new_X = new_data[mask]\n",
        "new_X = new_X.reset_index()\n",
        "new_X = new_X.drop(columns=['index'])\n",
        "new_X = new_X.fillna(new_X.mean())"
      ],
      "execution_count": null,
      "outputs": []
    },
    {
      "cell_type": "code",
      "metadata": {
        "id": "UsNbSnT17vWY"
      },
      "source": [
        "new_X_transf = poly.fit_transform(new_X)"
      ],
      "execution_count": null,
      "outputs": []
    },
    {
      "cell_type": "code",
      "metadata": {
        "id": "zF36e6xA_zBo"
      },
      "source": [
        "X_train_new, X_test_new, y_train_new, y_test_new = split_data(new_X_transf, new_y)"
      ],
      "execution_count": null,
      "outputs": []
    },
    {
      "cell_type": "code",
      "metadata": {
        "id": "pT1VPjZcAk8z"
      },
      "source": [
        "X_train_new, X_test_new = scale_data(X_train_new, X_test_new)"
      ],
      "execution_count": null,
      "outputs": []
    },
    {
      "cell_type": "code",
      "metadata": {
        "colab": {
          "base_uri": "https://localhost:8080/"
        },
        "id": "sgCrjFYNA-8o",
        "outputId": "ca9abf19-7338-4ce0-9026-fa1331e1f35f"
      },
      "source": [
        "new_random_forest_model, history3 = randForest_model(X_train_new, y_train_new)"
      ],
      "execution_count": null,
      "outputs": [
        {
          "output_type": "stream",
          "text": [
            "/usr/local/lib/python3.7/dist-packages/ipykernel_launcher.py:3: DataConversionWarning: A column-vector y was passed when a 1d array was expected. Please change the shape of y to (n_samples,), for example using ravel().\n",
            "  This is separate from the ipykernel package so we can avoid doing imports until\n"
          ],
          "name": "stderr"
        }
      ]
    },
    {
      "cell_type": "code",
      "metadata": {
        "colab": {
          "base_uri": "https://localhost:8080/"
        },
        "id": "jp06uI1bA_ff",
        "outputId": "2b29be45-4a56-4367-b744-37f681f18473"
      },
      "source": [
        "new_random_forest_model_train_r2, new_random_forest_model_test_r2 = scores(new_random_forest_model, X_train_new, X_test_new, y_train_new, y_test_new)"
      ],
      "execution_count": null,
      "outputs": [
        {
          "output_type": "stream",
          "text": [
            "max_error: 1.4229830999999988\n",
            "mean_squared_error: 0.004574052964967523\n",
            "explained_variance_score: 0.9887347399117165\n",
            "mean_absolute_error: 0.048736246656951365\n",
            "mean_squared_log_error: 3.854829998126884e-05\n",
            "median_absolute_error: 0.0369761383333449\n",
            "r2_score: 0.9887339981315845\n",
            "mean_poisson_deviance: 0.00046062142355786416\n",
            "mean_gamma_deviance: 4.679050115707856e-05\n",
            "max_error: 2.522717057142861\n",
            "mean_squared_error: 0.03290161361774301\n",
            "explained_variance_score: 0.9185003277164158\n",
            "mean_absolute_error: 0.13231523519498392\n",
            "mean_squared_log_error: 0.0002750199785034097\n",
            "median_absolute_error: 0.10156971904762102\n",
            "r2_score: 0.9184991211002631\n",
            "mean_poisson_deviance: 0.003302357477586789\n",
            "mean_gamma_deviance: 0.0003332942904594238\n"
          ],
          "name": "stdout"
        }
      ]
    }
  ]
}