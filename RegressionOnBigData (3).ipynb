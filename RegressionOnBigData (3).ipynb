{
  "nbformat": 4,
  "nbformat_minor": 0,
  "metadata": {
    "colab": {
      "name": "RegressionOnBigData.ipynb",
      "provenance": [],
      "collapsed_sections": []
    },
    "kernelspec": {
      "name": "python3",
      "display_name": "Python 3"
    },
    "accelerator": "GPU"
  },
  "cells": [
    {
      "cell_type": "code",
      "metadata": {
        "id": "mnDWGKQZYaUW"
      },
      "source": [
        "import matplotlib.pyplot as plt\n",
        "import numpy as np\n",
        "import seaborn as sns\n",
        "import pandas as pd\n",
        "import tensorflow.compat.v2 as tf\n",
        "from sklearn import preprocessing\n",
        "tf.enable_v2_behavior()\n",
        "\n",
        "import tensorflow_probability as tfp\n",
        "\n",
        "sns.reset_defaults()\n",
        "sns.set_context(context='talk',font_scale=0.7)\n",
        "\n",
        "tfd = tfp.distributions\n",
        "\n",
        "from google.colab import drive"
      ],
      "execution_count": null,
      "outputs": []
    },
    {
      "cell_type": "code",
      "metadata": {
        "colab": {
          "base_uri": "https://localhost:8080/"
        },
        "id": "lKh6l2e-ZZkC",
        "outputId": "4ee03a89-9851-417b-f529-09df358dbd1e"
      },
      "source": [
        "drive.mount('/content/drive')"
      ],
      "execution_count": null,
      "outputs": [
        {
          "output_type": "stream",
          "text": [
            "Mounted at /content/drive\n"
          ],
          "name": "stdout"
        }
      ]
    },
    {
      "cell_type": "code",
      "metadata": {
        "colab": {
          "base_uri": "https://localhost:8080/"
        },
        "id": "7N2iPFW6Zf1l",
        "outputId": "95375f8f-b4a2-4c5d-ed95-47d68534cdcc"
      },
      "source": [
        "if tf.test.gpu_device_name() != '/device:GPU:0':\n",
        "  print('WARNING: GPU device not found.')\n",
        "else:\n",
        "  print('SUCCESS: Found GPU: {}'.format(tf.test.gpu_device_name()))"
      ],
      "execution_count": null,
      "outputs": [
        {
          "output_type": "stream",
          "text": [
            "SUCCESS: Found GPU: /device:GPU:0\n"
          ],
          "name": "stdout"
        }
      ]
    },
    {
      "cell_type": "code",
      "metadata": {
        "id": "87Sxl7F1byHN"
      },
      "source": [
        "data = pd.read_csv('drive/MyDrive/cleaned_data.csv')"
      ],
      "execution_count": null,
      "outputs": []
    },
    {
      "cell_type": "code",
      "metadata": {
        "id": "ph2UC2TxfxBG"
      },
      "source": [
        "masses = pd.read_csv('drive/MyDrive/rcsed_8_logMstar_gal.csv')"
      ],
      "execution_count": null,
      "outputs": []
    },
    {
      "cell_type": "code",
      "metadata": {
        "colab": {
          "base_uri": "https://localhost:8080/"
        },
        "id": "43WFBoAJ0xyn",
        "outputId": "3211d3f0-8c42-4a66-c1c2-385be7b10153"
      },
      "source": [
        "data.shape"
      ],
      "execution_count": null,
      "outputs": [
        {
          "output_type": "execute_result",
          "data": {
            "text/plain": [
              "(4109726, 86)"
            ]
          },
          "metadata": {
            "tags": []
          },
          "execution_count": 6
        }
      ]
    },
    {
      "cell_type": "code",
      "metadata": {
        "id": "wQrRcX24wPKi"
      },
      "source": [
        "mask = ~masses['logMstar_gal'].isna()\n",
        "y = masses[mask]\n",
        "y = y.reset_index()\n",
        "y = y.drop(columns=['index'])"
      ],
      "execution_count": null,
      "outputs": []
    },
    {
      "cell_type": "code",
      "metadata": {
        "id": "WV4-3-oK05mp"
      },
      "source": [
        "data = data.drop(columns=['Unnamed: 0'])"
      ],
      "execution_count": null,
      "outputs": []
    },
    {
      "cell_type": "code",
      "metadata": {
        "id": "AwuVwM4819Tr"
      },
      "source": [
        "X = data[mask]\n",
        "X = X.reset_index()\n",
        "X = X.drop(columns=['index'])"
      ],
      "execution_count": null,
      "outputs": []
    },
    {
      "cell_type": "code",
      "metadata": {
        "id": "tDswmhI5-RYp"
      },
      "source": [
        "X = X.fillna(X.mean())"
      ],
      "execution_count": null,
      "outputs": []
    },
    {
      "cell_type": "code",
      "metadata": {
        "id": "Gn1qxHwU6JNz"
      },
      "source": [
        "#x_scaled = preprocessing.RobustScaler().fit_transform(X)\n",
        "#X1=pd.DataFrame(x_scaled, columns=X.columns)"
      ],
      "execution_count": null,
      "outputs": []
    },
    {
      "cell_type": "code",
      "metadata": {
        "id": "dksM1lYvcpwh"
      },
      "source": [
        "#X1.head()"
      ],
      "execution_count": null,
      "outputs": []
    },
    {
      "cell_type": "code",
      "metadata": {
        "id": "BLLXYbra-hvF"
      },
      "source": [
        "from sklearn.model_selection import train_test_split\n",
        "X_train, X_test, y_train, y_test = train_test_split(X, y, test_size=0.1, random_state=42)"
      ],
      "execution_count": null,
      "outputs": []
    },
    {
      "cell_type": "code",
      "metadata": {
        "id": "wRhjzG2H-976"
      },
      "source": [
        "scal = preprocessing.RobustScaler()"
      ],
      "execution_count": null,
      "outputs": []
    },
    {
      "cell_type": "code",
      "metadata": {
        "id": "UterBuz4--Ye"
      },
      "source": [
        "X_train = scal.fit_transform(X_train)\n",
        "X_test = scal.transform(X_test)"
      ],
      "execution_count": null,
      "outputs": []
    },
    {
      "cell_type": "code",
      "metadata": {
        "id": "9KDN7dibHg_E"
      },
      "source": [
        "negloglik = lambda y, p_y: -p_y.log_prob(y)"
      ],
      "execution_count": null,
      "outputs": []
    },
    {
      "cell_type": "code",
      "metadata": {
        "id": "WQVLzQXyHumN"
      },
      "source": [
        "def posterior_mean_field(kernel_size, bias_size=0, dtype=None):\n",
        "  n = kernel_size + bias_size\n",
        "  c = np.log(np.expm1(1.))\n",
        "  return tf.keras.Sequential([\n",
        "      tfp.layers.VariableLayer(2 * n, dtype=dtype),\n",
        "      tfp.layers.DistributionLambda(lambda t: tfd.Independent(\n",
        "          tfd.Normal(loc=t[..., :n],\n",
        "                     scale=1e-5 + tf.nn.softplus(c + t[..., n:])),\n",
        "          reinterpreted_batch_ndims=1)),\n",
        "  ])\n",
        "\n",
        "\n",
        "def prior_trainable(kernel_size, bias_size=0, dtype=None):\n",
        "  n = kernel_size + bias_size\n",
        "  return tf.keras.Sequential([\n",
        "      tfp.layers.VariableLayer(n, dtype=dtype),\n",
        "      tfp.layers.DistributionLambda(lambda t: tfd.Independent(\n",
        "          tfd.Normal(loc=t, scale=1),\n",
        "          reinterpreted_batch_ndims=1)),\n",
        "  ])"
      ],
      "execution_count": null,
      "outputs": []
    },
    {
      "cell_type": "markdown",
      "metadata": {
        "id": "oQpWpPk5PCol"
      },
      "source": [
        "**Model 5**"
      ]
    },
    {
      "cell_type": "code",
      "metadata": {
        "id": "gepuRL-B6rg4"
      },
      "source": [
        "class RBFKernelFn(tf.keras.layers.Layer):\n",
        "  def __init__(self, **kwargs):\n",
        "    super(RBFKernelFn, self).__init__(**kwargs)\n",
        "    dtype = kwargs.get('dtype', None)\n",
        "\n",
        "    self._amplitude = self.add_variable(\n",
        "            initializer=tf.constant_initializer(0),\n",
        "            dtype=dtype,\n",
        "            name='amplitude')\n",
        "    \n",
        "    self._length_scale = self.add_variable(\n",
        "            initializer=tf.constant_initializer(0),\n",
        "            dtype=dtype,\n",
        "            name='length_scale')\n",
        "\n",
        "  def call(self, x):\n",
        "    # Never called -- this is just a layer so it can hold variables\n",
        "    # in a way Keras understands.\n",
        "    return x\n",
        "\n",
        "  @property\n",
        "  def kernel(self):\n",
        "    return tfp.math.psd_kernels.ExponentiatedQuadratic(\n",
        "      amplitude=tf.nn.softplus(0.1 * self._amplitude),\n",
        "      length_scale=tf.nn.softplus(5. * self._length_scale)\n",
        "    )"
      ],
      "execution_count": null,
      "outputs": []
    },
    {
      "cell_type": "code",
      "metadata": {
        "colab": {
          "base_uri": "https://localhost:8080/"
        },
        "id": "JfbC_tGE6zOQ",
        "outputId": "fe6cc30e-1c0d-4ea9-b5ae-9d593d4359cb"
      },
      "source": [
        "# For numeric stability, set the default floating-point dtype to float64\n",
        "tf.keras.backend.set_floatx('float64')\n",
        "# Build model.\n",
        "num_inducing_points = 500\n",
        "model5 = tf.keras.Sequential([\n",
        "    tf.keras.layers.InputLayer(input_shape=[85]),\n",
        "    tf.keras.layers.Dense(32, kernel_initializer='ones', use_bias=False, activation='relu'),\n",
        "    tf.keras.layers.Dropout(0.25),\n",
        "    tf.keras.layers.Dense(64, kernel_initializer='ones', use_bias=False, activation='relu'),\n",
        "    tf.keras.layers.Dropout(0.25),\n",
        "\n",
        "    tfp.layers.VariationalGaussianProcess(\n",
        "        num_inducing_points=num_inducing_points,\n",
        "        kernel_provider=RBFKernelFn(),\n",
        "        event_shape=[1],\n",
        "        unconstrained_observation_noise_variance_initializer=(\n",
        "            tf.constant_initializer(np.log(np.expm1(1.)).astype('float64'))),\n",
        "    ),\n",
        "])\n",
        "\n",
        "\n",
        "\n",
        "\n",
        "# Do inference.\n",
        "batch_size = 128\n",
        "loss = lambda y, rv_y: rv_y.variational_loss(\n",
        "    y, kl_weight=np.array(batch_size, 'float64') / X.shape[0])\n",
        "model5.compile(optimizer=tf.optimizers.Adam(learning_rate=0.005), loss=loss)\n",
        "\n",
        "history = model5.fit(X_train, y_train, batch_size=batch_size, epochs=100, verbose=2)\n"
      ],
      "execution_count": null,
      "outputs": [
        {
          "output_type": "stream",
          "text": [
            "/usr/local/lib/python3.7/dist-packages/tensorflow/python/keras/engine/base_layer.py:2281: UserWarning: `layer.add_variable` is deprecated and will be removed in a future version. Please use `layer.add_weight` method instead.\n",
            "  warnings.warn('`layer.add_variable` is deprecated and '\n"
          ],
          "name": "stderr"
        },
        {
          "output_type": "stream",
          "text": [
            "WARNING:tensorflow:From /usr/local/lib/python3.7/dist-packages/tensorflow/python/ops/linalg/linear_operator_lower_triangular.py:167: calling LinearOperator.__init__ (from tensorflow.python.ops.linalg.linear_operator) with graph_parents is deprecated and will be removed in a future version.\n",
            "Instructions for updating:\n",
            "Do not pass `graph_parents`.  They will  no longer be used.\n"
          ],
          "name": "stdout"
        },
        {
          "output_type": "stream",
          "text": [
            "/usr/local/lib/python3.7/dist-packages/tensorflow_probability/python/distributions/gaussian_process.py:312: UserWarning: Unable to detect statically whether the number of index_points is 1. As a result, defaulting to treating the marginal GP at `index_points` as a multivariate Gaussian. This makes some methods, like `cdf` unavailable.\n",
            "  'Unable to detect statically whether the number of index_points is '\n"
          ],
          "name": "stderr"
        },
        {
          "output_type": "stream",
          "text": [
            "Epoch 1/100\n"
          ],
          "name": "stdout"
        },
        {
          "output_type": "stream",
          "text": [
            "/usr/local/lib/python3.7/dist-packages/tensorflow_probability/python/distributions/gaussian_process.py:312: UserWarning: Unable to detect statically whether the number of index_points is 1. As a result, defaulting to treating the marginal GP at `index_points` as a multivariate Gaussian. This makes some methods, like `cdf` unavailable.\n",
            "  'Unable to detect statically whether the number of index_points is '\n"
          ],
          "name": "stderr"
        },
        {
          "output_type": "stream",
          "text": [
            "2602/2602 - 218s - loss: 1068.4477\n",
            "Epoch 2/100\n",
            "2602/2602 - 207s - loss: 279.4033\n",
            "Epoch 3/100\n",
            "2602/2602 - 206s - loss: 210.4949\n",
            "Epoch 4/100\n",
            "2602/2602 - 207s - loss: 186.4383\n",
            "Epoch 5/100\n",
            "2602/2602 - 207s - loss: 181.8416\n",
            "Epoch 6/100\n",
            "2602/2602 - 207s - loss: 174.3319\n",
            "Epoch 7/100\n",
            "2602/2602 - 206s - loss: 161.4740\n",
            "Epoch 8/100\n",
            "2602/2602 - 206s - loss: 155.2466\n",
            "Epoch 9/100\n",
            "2602/2602 - 206s - loss: 152.3885\n",
            "Epoch 10/100\n",
            "2602/2602 - 206s - loss: 150.1657\n",
            "Epoch 11/100\n",
            "2602/2602 - 206s - loss: 148.1109\n",
            "Epoch 12/100\n",
            "2602/2602 - 206s - loss: 146.4866\n",
            "Epoch 13/100\n",
            "2602/2602 - 206s - loss: 143.2140\n",
            "Epoch 14/100\n",
            "2602/2602 - 206s - loss: 137.1259\n",
            "Epoch 15/100\n",
            "2602/2602 - 206s - loss: 130.6922\n",
            "Epoch 16/100\n",
            "2602/2602 - 206s - loss: 122.6944\n",
            "Epoch 17/100\n",
            "2602/2602 - 205s - loss: 116.6692\n",
            "Epoch 18/100\n",
            "2602/2602 - 205s - loss: 112.5970\n",
            "Epoch 19/100\n",
            "2602/2602 - 205s - loss: 109.7081\n",
            "Epoch 20/100\n",
            "2602/2602 - 205s - loss: 107.9629\n",
            "Epoch 21/100\n",
            "2602/2602 - 205s - loss: 106.2153\n",
            "Epoch 22/100\n",
            "2602/2602 - 204s - loss: 102.7008\n",
            "Epoch 23/100\n",
            "2602/2602 - 204s - loss: 101.2079\n",
            "Epoch 24/100\n",
            "2602/2602 - 205s - loss: 100.0242\n",
            "Epoch 25/100\n",
            "2602/2602 - 205s - loss: 99.1734\n",
            "Epoch 26/100\n",
            "2602/2602 - 204s - loss: 98.8152\n",
            "Epoch 27/100\n",
            "2602/2602 - 204s - loss: 97.8541\n",
            "Epoch 28/100\n",
            "2602/2602 - 205s - loss: 97.4475\n",
            "Epoch 29/100\n",
            "2602/2602 - 205s - loss: 97.5733\n",
            "Epoch 30/100\n",
            "2602/2602 - 205s - loss: 98.1810\n",
            "Epoch 31/100\n",
            "2602/2602 - 205s - loss: 97.3273\n",
            "Epoch 32/100\n",
            "2602/2602 - 205s - loss: 95.3843\n",
            "Epoch 33/100\n",
            "2602/2602 - 205s - loss: 93.9916\n",
            "Epoch 34/100\n",
            "2602/2602 - 205s - loss: 93.7529\n",
            "Epoch 35/100\n",
            "2602/2602 - 205s - loss: 93.4485\n",
            "Epoch 36/100\n",
            "2602/2602 - 205s - loss: 93.5162\n",
            "Epoch 37/100\n",
            "2602/2602 - 205s - loss: 93.1707\n",
            "Epoch 38/100\n",
            "2602/2602 - 204s - loss: 92.6506\n",
            "Epoch 39/100\n",
            "2602/2602 - 204s - loss: 90.6350\n",
            "Epoch 40/100\n",
            "2602/2602 - 204s - loss: 90.0330\n",
            "Epoch 41/100\n",
            "2602/2602 - 204s - loss: 89.7311\n",
            "Epoch 42/100\n",
            "2602/2602 - 205s - loss: 90.2213\n",
            "Epoch 43/100\n",
            "2602/2602 - 204s - loss: 91.1600\n",
            "Epoch 44/100\n",
            "2602/2602 - 204s - loss: 91.1990\n",
            "Epoch 45/100\n",
            "2602/2602 - 205s - loss: 92.1955\n",
            "Epoch 46/100\n",
            "2602/2602 - 204s - loss: 89.6130\n",
            "Epoch 47/100\n",
            "2602/2602 - 204s - loss: 89.8164\n",
            "Epoch 48/100\n",
            "2602/2602 - 204s - loss: 88.4786\n",
            "Epoch 49/100\n",
            "2602/2602 - 204s - loss: 89.4745\n",
            "Epoch 50/100\n",
            "2602/2602 - 204s - loss: 89.0709\n",
            "Epoch 51/100\n",
            "2602/2602 - 204s - loss: 88.9779\n",
            "Epoch 52/100\n",
            "2602/2602 - 204s - loss: 87.8570\n",
            "Epoch 53/100\n",
            "2602/2602 - 204s - loss: 88.6221\n",
            "Epoch 54/100\n",
            "2602/2602 - 204s - loss: 86.4035\n",
            "Epoch 55/100\n",
            "2602/2602 - 204s - loss: 88.5928\n",
            "Epoch 56/100\n",
            "2602/2602 - 204s - loss: 86.6788\n",
            "Epoch 57/100\n",
            "2602/2602 - 204s - loss: 87.7906\n",
            "Epoch 58/100\n",
            "2602/2602 - 204s - loss: 85.9832\n",
            "Epoch 59/100\n",
            "2602/2602 - 204s - loss: 85.0727\n",
            "Epoch 60/100\n",
            "2602/2602 - 204s - loss: 86.2736\n",
            "Epoch 61/100\n",
            "2602/2602 - 204s - loss: 87.0496\n",
            "Epoch 62/100\n",
            "2602/2602 - 204s - loss: 85.6227\n",
            "Epoch 63/100\n",
            "2602/2602 - 204s - loss: 85.2188\n",
            "Epoch 64/100\n",
            "2602/2602 - 204s - loss: 84.9277\n",
            "Epoch 65/100\n",
            "2602/2602 - 204s - loss: 86.3935\n",
            "Epoch 66/100\n",
            "2602/2602 - 204s - loss: 85.4882\n",
            "Epoch 67/100\n",
            "2602/2602 - 204s - loss: 84.8162\n",
            "Epoch 68/100\n",
            "2602/2602 - 204s - loss: 84.2488\n",
            "Epoch 69/100\n",
            "2602/2602 - 204s - loss: 85.7643\n",
            "Epoch 70/100\n",
            "2602/2602 - 204s - loss: 85.1639\n",
            "Epoch 71/100\n",
            "2602/2602 - 204s - loss: 84.6503\n",
            "Epoch 72/100\n",
            "2602/2602 - 204s - loss: 84.4770\n",
            "Epoch 73/100\n",
            "2602/2602 - 204s - loss: 84.5960\n",
            "Epoch 74/100\n",
            "2602/2602 - 204s - loss: 85.0976\n",
            "Epoch 75/100\n",
            "2602/2602 - 204s - loss: 86.0284\n",
            "Epoch 76/100\n",
            "2602/2602 - 204s - loss: 86.2788\n",
            "Epoch 77/100\n",
            "2602/2602 - 204s - loss: 85.9887\n",
            "Epoch 78/100\n",
            "2602/2602 - 204s - loss: 85.7366\n",
            "Epoch 79/100\n",
            "2602/2602 - 204s - loss: 85.2452\n",
            "Epoch 80/100\n",
            "2602/2602 - 204s - loss: 83.4334\n",
            "Epoch 81/100\n",
            "2602/2602 - 204s - loss: 82.8324\n",
            "Epoch 82/100\n",
            "2602/2602 - 204s - loss: 83.5652\n",
            "Epoch 83/100\n",
            "2602/2602 - 204s - loss: 84.3601\n",
            "Epoch 84/100\n",
            "2602/2602 - 204s - loss: 83.5577\n",
            "Epoch 85/100\n",
            "2602/2602 - 204s - loss: 81.8201\n",
            "Epoch 86/100\n",
            "2602/2602 - 204s - loss: 82.9096\n",
            "Epoch 87/100\n",
            "2602/2602 - 204s - loss: 83.5545\n",
            "Epoch 88/100\n",
            "2602/2602 - 204s - loss: 84.9458\n",
            "Epoch 89/100\n",
            "2602/2602 - 204s - loss: 83.7944\n",
            "Epoch 90/100\n",
            "2602/2602 - 204s - loss: 83.9263\n",
            "Epoch 91/100\n",
            "2602/2602 - 204s - loss: 83.7394\n",
            "Epoch 92/100\n",
            "2602/2602 - 204s - loss: 84.4830\n",
            "Epoch 93/100\n",
            "2602/2602 - 204s - loss: 84.1535\n",
            "Epoch 94/100\n",
            "2602/2602 - 204s - loss: 83.9039\n",
            "Epoch 95/100\n",
            "2602/2602 - 204s - loss: 84.2722\n",
            "Epoch 96/100\n",
            "2602/2602 - 204s - loss: 84.8088\n",
            "Epoch 97/100\n",
            "2602/2602 - 204s - loss: 84.2014\n",
            "Epoch 98/100\n",
            "2602/2602 - 204s - loss: 84.3114\n",
            "Epoch 99/100\n",
            "2602/2602 - 204s - loss: 83.8453\n",
            "Epoch 100/100\n",
            "2602/2602 - 204s - loss: 82.7495\n"
          ],
          "name": "stdout"
        }
      ]
    },
    {
      "cell_type": "code",
      "metadata": {
        "colab": {
          "base_uri": "https://localhost:8080/"
        },
        "id": "K0VPI5SkycCR",
        "outputId": "d7c81dac-bf54-4b45-858d-59f2c0d37e20"
      },
      "source": [
        "plt.plot(list(history.history.values())[0],'k-o')"
      ],
      "execution_count": null,
      "outputs": [
        {
          "output_type": "execute_result",
          "data": {
            "text/plain": [
              "[<matplotlib.lines.Line2D at 0x7fb5133acd90>]"
            ]
          },
          "metadata": {
            "tags": []
          },
          "execution_count": 57
        }
      ]
    },
    {
      "cell_type": "code",
      "metadata": {
        "id": "RDs3gJ2rCHlP",
        "colab": {
          "base_uri": "https://localhost:8080/"
        },
        "outputId": "f5ab7d31-42e9-4f62-bc4a-8d91ffc11add"
      },
      "source": [
        "yhat5 = model5.predict(X_test)\n",
        "model5.evaluate(X_test, y_test)"
      ],
      "execution_count": null,
      "outputs": [
        {
          "output_type": "stream",
          "text": [
            "/usr/local/lib/python3.7/dist-packages/tensorflow_probability/python/distributions/gaussian_process.py:312: UserWarning: Unable to detect statically whether the number of index_points is 1. As a result, defaulting to treating the marginal GP at `index_points` as a multivariate Gaussian. This makes some methods, like `cdf` unavailable.\n",
            "  'Unable to detect statically whether the number of index_points is '\n",
            "/usr/local/lib/python3.7/dist-packages/tensorflow_probability/python/distributions/gaussian_process.py:312: UserWarning: Unable to detect statically whether the number of index_points is 1. As a result, defaulting to treating the marginal GP at `index_points` as a multivariate Gaussian. This makes some methods, like `cdf` unavailable.\n",
            "  'Unable to detect statically whether the number of index_points is '\n"
          ],
          "name": "stderr"
        },
        {
          "output_type": "stream",
          "text": [
            "1157/1157 [==============================] - 28s 23ms/step - loss: 23.3801\n"
          ],
          "name": "stdout"
        },
        {
          "output_type": "execute_result",
          "data": {
            "text/plain": [
              "23.380134504215327"
            ]
          },
          "metadata": {
            "tags": []
          },
          "execution_count": 18
        }
      ]
    },
    {
      "cell_type": "code",
      "metadata": {
        "id": "DwKH5lcI-oav"
      },
      "source": [
        "from sklearn.metrics import max_error, mean_squared_error, explained_variance_score, mean_absolute_error, mean_squared_log_error, median_absolute_error, r2_score, mean_poisson_deviance, mean_gamma_deviance"
      ],
      "execution_count": null,
      "outputs": []
    },
    {
      "cell_type": "code",
      "metadata": {
        "id": "qO4lO6nr-puJ",
        "colab": {
          "base_uri": "https://localhost:8080/"
        },
        "outputId": "4b377f05-cbe5-4003-df04-c741855ea6fc"
      },
      "source": [
        "print('max_error',max_error(yhat5, y_test))\n",
        "print('mean_squared_error',mean_squared_error(yhat5, y_test))\n",
        "print('explained_variance_score', explained_variance_score(yhat5, y_test))\n",
        "print('mean_absolute_error', mean_absolute_error(yhat5, y_test))\n",
        "print('mean_squared_log_error', mean_squared_log_error(yhat5, y_test))\n",
        "print('median_absolute_error', median_absolute_error(yhat5, y_test))\n",
        "print('r2_score', r2_score(yhat5, y_test))\n",
        "print('mean_poisson_deviance', mean_poisson_deviance(yhat5, y_test))\n",
        "print('mean_gamma_deviance', mean_gamma_deviance(yhat5, y_test))"
      ],
      "execution_count": null,
      "outputs": [
        {
          "output_type": "stream",
          "text": [
            "max_error 3.2991967891956167\n",
            "mean_squared_error 0.16179387849704072\n",
            "explained_variance_score 0.4704527629909756\n",
            "mean_absolute_error 0.30325013620474256\n",
            "mean_squared_log_error 0.001331694989095308\n",
            "median_absolute_error 0.24453280908069708\n",
            "r2_score 0.47012671621389845\n",
            "mean_poisson_deviance 0.016078432304393535\n",
            "mean_gamma_deviance 0.0016085843065658662\n"
          ],
          "name": "stdout"
        }
      ]
    },
    {
      "cell_type": "code",
      "metadata": {
        "id": "G3SHxlROCOWv"
      },
      "source": [
        "plt.figure(figsize=[15, 10])  # inches\n",
        "plt.plot(X, y, 'b.', label='observed');\n",
        "\n",
        "num_samples = 7\n",
        "for i in range(num_samples):\n",
        "  sample_ = yhat5\n",
        "  plt.plot(X_test,\n",
        "           sample_[..., 0].T,\n",
        "           'r',\n",
        "           linewidth=0.9,\n",
        "           label='ensemble means' if i == 0 else None);\n",
        "\n",
        "\n",
        "ax=plt.gca();\n",
        "ax.xaxis.set_ticks_position('bottom')\n",
        "ax.yaxis.set_ticks_position('left')\n",
        "ax.spines['left'].set_position(('data', 0))\n",
        "ax.spines['top'].set_visible(False)\n",
        "ax.spines['right'].set_visible(False)\n",
        "#ax.spines['left'].set_smart_bounds(True)\n",
        "#ax.spines['bottom'].set_smart_bounds(True)\n",
        "plt.legend(loc='center left', fancybox=True, framealpha=0., bbox_to_anchor=(1.05, 0.5))\n"
      ],
      "execution_count": null,
      "outputs": []
    }
  ]
}