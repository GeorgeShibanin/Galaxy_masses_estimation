{
  "nbformat": 4,
  "nbformat_minor": 0,
  "metadata": {
    "accelerator": "GPU",
    "colab": {
      "name": "RegressionOnBigDataGalaxy.ipynb\"",
      "provenance": [],
      "collapsed_sections": [],
      "include_colab_link": true
    },
    "kernelspec": {
      "display_name": "Python 3",
      "name": "python3"
    },
    "widgets": {
      "application/vnd.jupyter.widget-state+json": {
        "e1227243f5ac47ff8635f7b7c651e39c": {
          "model_module": "@jupyter-widgets/controls",
          "model_name": "HBoxModel",
          "state": {
            "_view_name": "HBoxView",
            "_dom_classes": [],
            "_model_name": "HBoxModel",
            "_view_module": "@jupyter-widgets/controls",
            "_model_module_version": "1.5.0",
            "_view_count": null,
            "_view_module_version": "1.5.0",
            "box_style": "",
            "layout": "IPY_MODEL_a5798778bba54359b2dd8d389326f082",
            "_model_module": "@jupyter-widgets/controls",
            "children": [
              "IPY_MODEL_6e4b6639f551499f9931f978bc721198",
              "IPY_MODEL_7b6ed1341f6345a6bd3712d87d212568"
            ]
          }
        },
        "a5798778bba54359b2dd8d389326f082": {
          "model_module": "@jupyter-widgets/base",
          "model_name": "LayoutModel",
          "state": {
            "_view_name": "LayoutView",
            "grid_template_rows": null,
            "right": null,
            "justify_content": null,
            "_view_module": "@jupyter-widgets/base",
            "overflow": null,
            "_model_module_version": "1.2.0",
            "_view_count": null,
            "flex_flow": null,
            "width": null,
            "min_width": null,
            "border": null,
            "align_items": null,
            "bottom": null,
            "_model_module": "@jupyter-widgets/base",
            "top": null,
            "grid_column": null,
            "overflow_y": null,
            "overflow_x": null,
            "grid_auto_flow": null,
            "grid_area": null,
            "grid_template_columns": null,
            "flex": null,
            "_model_name": "LayoutModel",
            "justify_items": null,
            "grid_row": null,
            "max_height": null,
            "align_content": null,
            "visibility": null,
            "align_self": null,
            "height": null,
            "min_height": null,
            "padding": null,
            "grid_auto_rows": null,
            "grid_gap": null,
            "max_width": null,
            "order": null,
            "_view_module_version": "1.2.0",
            "grid_template_areas": null,
            "object_position": null,
            "object_fit": null,
            "grid_auto_columns": null,
            "margin": null,
            "display": null,
            "left": null
          }
        },
        "6e4b6639f551499f9931f978bc721198": {
          "model_module": "@jupyter-widgets/controls",
          "model_name": "FloatProgressModel",
          "state": {
            "_view_name": "ProgressView",
            "style": "IPY_MODEL_618641bef52746b78ba0525d4cd76623",
            "_dom_classes": [],
            "description": "100%",
            "_model_name": "FloatProgressModel",
            "bar_style": "success",
            "max": 4,
            "_view_module": "@jupyter-widgets/controls",
            "_model_module_version": "1.5.0",
            "value": 4,
            "_view_count": null,
            "_view_module_version": "1.5.0",
            "orientation": "horizontal",
            "min": 0,
            "description_tooltip": null,
            "_model_module": "@jupyter-widgets/controls",
            "layout": "IPY_MODEL_ce3193f2fea34463b03f8f3e98094c2f"
          }
        },
        "7b6ed1341f6345a6bd3712d87d212568": {
          "model_module": "@jupyter-widgets/controls",
          "model_name": "HTMLModel",
          "state": {
            "_view_name": "HTMLView",
            "style": "IPY_MODEL_058ae39056154d1b9eb35f844b6ee31a",
            "_dom_classes": [],
            "description": "",
            "_model_name": "HTMLModel",
            "placeholder": "​",
            "_view_module": "@jupyter-widgets/controls",
            "_model_module_version": "1.5.0",
            "value": " 4/4 [40:51&lt;00:00, 612.83s/it]",
            "_view_count": null,
            "_view_module_version": "1.5.0",
            "description_tooltip": null,
            "_model_module": "@jupyter-widgets/controls",
            "layout": "IPY_MODEL_ac91d59c3f2f462dac7aa161d78978dd"
          }
        },
        "618641bef52746b78ba0525d4cd76623": {
          "model_module": "@jupyter-widgets/controls",
          "model_name": "ProgressStyleModel",
          "state": {
            "_view_name": "StyleView",
            "_model_name": "ProgressStyleModel",
            "description_width": "initial",
            "_view_module": "@jupyter-widgets/base",
            "_model_module_version": "1.5.0",
            "_view_count": null,
            "_view_module_version": "1.2.0",
            "bar_color": null,
            "_model_module": "@jupyter-widgets/controls"
          }
        },
        "ce3193f2fea34463b03f8f3e98094c2f": {
          "model_module": "@jupyter-widgets/base",
          "model_name": "LayoutModel",
          "state": {
            "_view_name": "LayoutView",
            "grid_template_rows": null,
            "right": null,
            "justify_content": null,
            "_view_module": "@jupyter-widgets/base",
            "overflow": null,
            "_model_module_version": "1.2.0",
            "_view_count": null,
            "flex_flow": null,
            "width": null,
            "min_width": null,
            "border": null,
            "align_items": null,
            "bottom": null,
            "_model_module": "@jupyter-widgets/base",
            "top": null,
            "grid_column": null,
            "overflow_y": null,
            "overflow_x": null,
            "grid_auto_flow": null,
            "grid_area": null,
            "grid_template_columns": null,
            "flex": null,
            "_model_name": "LayoutModel",
            "justify_items": null,
            "grid_row": null,
            "max_height": null,
            "align_content": null,
            "visibility": null,
            "align_self": null,
            "height": null,
            "min_height": null,
            "padding": null,
            "grid_auto_rows": null,
            "grid_gap": null,
            "max_width": null,
            "order": null,
            "_view_module_version": "1.2.0",
            "grid_template_areas": null,
            "object_position": null,
            "object_fit": null,
            "grid_auto_columns": null,
            "margin": null,
            "display": null,
            "left": null
          }
        },
        "058ae39056154d1b9eb35f844b6ee31a": {
          "model_module": "@jupyter-widgets/controls",
          "model_name": "DescriptionStyleModel",
          "state": {
            "_view_name": "StyleView",
            "_model_name": "DescriptionStyleModel",
            "description_width": "",
            "_view_module": "@jupyter-widgets/base",
            "_model_module_version": "1.5.0",
            "_view_count": null,
            "_view_module_version": "1.2.0",
            "_model_module": "@jupyter-widgets/controls"
          }
        },
        "ac91d59c3f2f462dac7aa161d78978dd": {
          "model_module": "@jupyter-widgets/base",
          "model_name": "LayoutModel",
          "state": {
            "_view_name": "LayoutView",
            "grid_template_rows": null,
            "right": null,
            "justify_content": null,
            "_view_module": "@jupyter-widgets/base",
            "overflow": null,
            "_model_module_version": "1.2.0",
            "_view_count": null,
            "flex_flow": null,
            "width": null,
            "min_width": null,
            "border": null,
            "align_items": null,
            "bottom": null,
            "_model_module": "@jupyter-widgets/base",
            "top": null,
            "grid_column": null,
            "overflow_y": null,
            "overflow_x": null,
            "grid_auto_flow": null,
            "grid_area": null,
            "grid_template_columns": null,
            "flex": null,
            "_model_name": "LayoutModel",
            "justify_items": null,
            "grid_row": null,
            "max_height": null,
            "align_content": null,
            "visibility": null,
            "align_self": null,
            "height": null,
            "min_height": null,
            "padding": null,
            "grid_auto_rows": null,
            "grid_gap": null,
            "max_width": null,
            "order": null,
            "_view_module_version": "1.2.0",
            "grid_template_areas": null,
            "object_position": null,
            "object_fit": null,
            "grid_auto_columns": null,
            "margin": null,
            "display": null,
            "left": null
          }
        },
        "1298450648d7484ba0130df10a5b7a51": {
          "model_module": "@jupyter-widgets/controls",
          "model_name": "HBoxModel",
          "state": {
            "_view_name": "HBoxView",
            "_dom_classes": [],
            "_model_name": "HBoxModel",
            "_view_module": "@jupyter-widgets/controls",
            "_model_module_version": "1.5.0",
            "_view_count": null,
            "_view_module_version": "1.5.0",
            "box_style": "",
            "layout": "IPY_MODEL_bf83eaa9a35d47a4b58b6572b52edc04",
            "_model_module": "@jupyter-widgets/controls",
            "children": [
              "IPY_MODEL_38ddccddee0a46d5ae78e35c030319a0",
              "IPY_MODEL_db15c853ae324181b3f92788ec922d7e"
            ]
          }
        },
        "bf83eaa9a35d47a4b58b6572b52edc04": {
          "model_module": "@jupyter-widgets/base",
          "model_name": "LayoutModel",
          "state": {
            "_view_name": "LayoutView",
            "grid_template_rows": null,
            "right": null,
            "justify_content": null,
            "_view_module": "@jupyter-widgets/base",
            "overflow": null,
            "_model_module_version": "1.2.0",
            "_view_count": null,
            "flex_flow": null,
            "width": null,
            "min_width": null,
            "border": null,
            "align_items": null,
            "bottom": null,
            "_model_module": "@jupyter-widgets/base",
            "top": null,
            "grid_column": null,
            "overflow_y": null,
            "overflow_x": null,
            "grid_auto_flow": null,
            "grid_area": null,
            "grid_template_columns": null,
            "flex": null,
            "_model_name": "LayoutModel",
            "justify_items": null,
            "grid_row": null,
            "max_height": null,
            "align_content": null,
            "visibility": null,
            "align_self": null,
            "height": null,
            "min_height": null,
            "padding": null,
            "grid_auto_rows": null,
            "grid_gap": null,
            "max_width": null,
            "order": null,
            "_view_module_version": "1.2.0",
            "grid_template_areas": null,
            "object_position": null,
            "object_fit": null,
            "grid_auto_columns": null,
            "margin": null,
            "display": null,
            "left": null
          }
        },
        "38ddccddee0a46d5ae78e35c030319a0": {
          "model_module": "@jupyter-widgets/controls",
          "model_name": "FloatProgressModel",
          "state": {
            "_view_name": "ProgressView",
            "style": "IPY_MODEL_779473a1a36344309970abf5913f9581",
            "_dom_classes": [],
            "description": "100%",
            "_model_name": "FloatProgressModel",
            "bar_style": "success",
            "max": 5,
            "_view_module": "@jupyter-widgets/controls",
            "_model_module_version": "1.5.0",
            "value": 5,
            "_view_count": null,
            "_view_module_version": "1.5.0",
            "orientation": "horizontal",
            "min": 0,
            "description_tooltip": null,
            "_model_module": "@jupyter-widgets/controls",
            "layout": "IPY_MODEL_1a143e9d15af41d68c6f1dc85fdda602"
          }
        },
        "db15c853ae324181b3f92788ec922d7e": {
          "model_module": "@jupyter-widgets/controls",
          "model_name": "HTMLModel",
          "state": {
            "_view_name": "HTMLView",
            "style": "IPY_MODEL_83063a168c7943b4ac49e2353d2b3a51",
            "_dom_classes": [],
            "description": "",
            "_model_name": "HTMLModel",
            "placeholder": "​",
            "_view_module": "@jupyter-widgets/controls",
            "_model_module_version": "1.5.0",
            "value": " 5/5 [20:01&lt;00:00, 240.32s/it]",
            "_view_count": null,
            "_view_module_version": "1.5.0",
            "description_tooltip": null,
            "_model_module": "@jupyter-widgets/controls",
            "layout": "IPY_MODEL_5b60e751d972490091588c6b3996ec84"
          }
        },
        "779473a1a36344309970abf5913f9581": {
          "model_module": "@jupyter-widgets/controls",
          "model_name": "ProgressStyleModel",
          "state": {
            "_view_name": "StyleView",
            "_model_name": "ProgressStyleModel",
            "description_width": "initial",
            "_view_module": "@jupyter-widgets/base",
            "_model_module_version": "1.5.0",
            "_view_count": null,
            "_view_module_version": "1.2.0",
            "bar_color": null,
            "_model_module": "@jupyter-widgets/controls"
          }
        },
        "1a143e9d15af41d68c6f1dc85fdda602": {
          "model_module": "@jupyter-widgets/base",
          "model_name": "LayoutModel",
          "state": {
            "_view_name": "LayoutView",
            "grid_template_rows": null,
            "right": null,
            "justify_content": null,
            "_view_module": "@jupyter-widgets/base",
            "overflow": null,
            "_model_module_version": "1.2.0",
            "_view_count": null,
            "flex_flow": null,
            "width": null,
            "min_width": null,
            "border": null,
            "align_items": null,
            "bottom": null,
            "_model_module": "@jupyter-widgets/base",
            "top": null,
            "grid_column": null,
            "overflow_y": null,
            "overflow_x": null,
            "grid_auto_flow": null,
            "grid_area": null,
            "grid_template_columns": null,
            "flex": null,
            "_model_name": "LayoutModel",
            "justify_items": null,
            "grid_row": null,
            "max_height": null,
            "align_content": null,
            "visibility": null,
            "align_self": null,
            "height": null,
            "min_height": null,
            "padding": null,
            "grid_auto_rows": null,
            "grid_gap": null,
            "max_width": null,
            "order": null,
            "_view_module_version": "1.2.0",
            "grid_template_areas": null,
            "object_position": null,
            "object_fit": null,
            "grid_auto_columns": null,
            "margin": null,
            "display": null,
            "left": null
          }
        },
        "83063a168c7943b4ac49e2353d2b3a51": {
          "model_module": "@jupyter-widgets/controls",
          "model_name": "DescriptionStyleModel",
          "state": {
            "_view_name": "StyleView",
            "_model_name": "DescriptionStyleModel",
            "description_width": "",
            "_view_module": "@jupyter-widgets/base",
            "_model_module_version": "1.5.0",
            "_view_count": null,
            "_view_module_version": "1.2.0",
            "_model_module": "@jupyter-widgets/controls"
          }
        },
        "5b60e751d972490091588c6b3996ec84": {
          "model_module": "@jupyter-widgets/base",
          "model_name": "LayoutModel",
          "state": {
            "_view_name": "LayoutView",
            "grid_template_rows": null,
            "right": null,
            "justify_content": null,
            "_view_module": "@jupyter-widgets/base",
            "overflow": null,
            "_model_module_version": "1.2.0",
            "_view_count": null,
            "flex_flow": null,
            "width": null,
            "min_width": null,
            "border": null,
            "align_items": null,
            "bottom": null,
            "_model_module": "@jupyter-widgets/base",
            "top": null,
            "grid_column": null,
            "overflow_y": null,
            "overflow_x": null,
            "grid_auto_flow": null,
            "grid_area": null,
            "grid_template_columns": null,
            "flex": null,
            "_model_name": "LayoutModel",
            "justify_items": null,
            "grid_row": null,
            "max_height": null,
            "align_content": null,
            "visibility": null,
            "align_self": null,
            "height": null,
            "min_height": null,
            "padding": null,
            "grid_auto_rows": null,
            "grid_gap": null,
            "max_width": null,
            "order": null,
            "_view_module_version": "1.2.0",
            "grid_template_areas": null,
            "object_position": null,
            "object_fit": null,
            "grid_auto_columns": null,
            "margin": null,
            "display": null,
            "left": null
          }
        },
        "6a67d5d98e4043549b5e6c9df01ebb48": {
          "model_module": "@jupyter-widgets/controls",
          "model_name": "HBoxModel",
          "state": {
            "_view_name": "HBoxView",
            "_dom_classes": [],
            "_model_name": "HBoxModel",
            "_view_module": "@jupyter-widgets/controls",
            "_model_module_version": "1.5.0",
            "_view_count": null,
            "_view_module_version": "1.5.0",
            "box_style": "",
            "layout": "IPY_MODEL_774973ac679d47ccbc9698e43e66c40d",
            "_model_module": "@jupyter-widgets/controls",
            "children": [
              "IPY_MODEL_21d5b8ed96b643b88c20111bd1fb7091",
              "IPY_MODEL_7eeba1d9299d4d769f6ec75c29495416"
            ]
          }
        },
        "774973ac679d47ccbc9698e43e66c40d": {
          "model_module": "@jupyter-widgets/base",
          "model_name": "LayoutModel",
          "state": {
            "_view_name": "LayoutView",
            "grid_template_rows": null,
            "right": null,
            "justify_content": null,
            "_view_module": "@jupyter-widgets/base",
            "overflow": null,
            "_model_module_version": "1.2.0",
            "_view_count": null,
            "flex_flow": null,
            "width": null,
            "min_width": null,
            "border": null,
            "align_items": null,
            "bottom": null,
            "_model_module": "@jupyter-widgets/base",
            "top": null,
            "grid_column": null,
            "overflow_y": null,
            "overflow_x": null,
            "grid_auto_flow": null,
            "grid_area": null,
            "grid_template_columns": null,
            "flex": null,
            "_model_name": "LayoutModel",
            "justify_items": null,
            "grid_row": null,
            "max_height": null,
            "align_content": null,
            "visibility": null,
            "align_self": null,
            "height": null,
            "min_height": null,
            "padding": null,
            "grid_auto_rows": null,
            "grid_gap": null,
            "max_width": null,
            "order": null,
            "_view_module_version": "1.2.0",
            "grid_template_areas": null,
            "object_position": null,
            "object_fit": null,
            "grid_auto_columns": null,
            "margin": null,
            "display": null,
            "left": null
          }
        },
        "21d5b8ed96b643b88c20111bd1fb7091": {
          "model_module": "@jupyter-widgets/controls",
          "model_name": "FloatProgressModel",
          "state": {
            "_view_name": "ProgressView",
            "style": "IPY_MODEL_fdcaa9bb1b5f4ed8bc6fbe79c76cf2b8",
            "_dom_classes": [],
            "description": "100%",
            "_model_name": "FloatProgressModel",
            "bar_style": "success",
            "max": 4,
            "_view_module": "@jupyter-widgets/controls",
            "_model_module_version": "1.5.0",
            "value": 4,
            "_view_count": null,
            "_view_module_version": "1.5.0",
            "orientation": "horizontal",
            "min": 0,
            "description_tooltip": null,
            "_model_module": "@jupyter-widgets/controls",
            "layout": "IPY_MODEL_4c9275c833b8410a8eb74f1d3011deb6"
          }
        },
        "7eeba1d9299d4d769f6ec75c29495416": {
          "model_module": "@jupyter-widgets/controls",
          "model_name": "HTMLModel",
          "state": {
            "_view_name": "HTMLView",
            "style": "IPY_MODEL_b4fd55b94dd042399ba7edebb57b4ef8",
            "_dom_classes": [],
            "description": "",
            "_model_name": "HTMLModel",
            "placeholder": "​",
            "_view_module": "@jupyter-widgets/controls",
            "_model_module_version": "1.5.0",
            "value": " 4/4 [16:59&lt;00:00, 254.88s/it]",
            "_view_count": null,
            "_view_module_version": "1.5.0",
            "description_tooltip": null,
            "_model_module": "@jupyter-widgets/controls",
            "layout": "IPY_MODEL_58996d463f3e45ccbf695e84976959ec"
          }
        },
        "fdcaa9bb1b5f4ed8bc6fbe79c76cf2b8": {
          "model_module": "@jupyter-widgets/controls",
          "model_name": "ProgressStyleModel",
          "state": {
            "_view_name": "StyleView",
            "_model_name": "ProgressStyleModel",
            "description_width": "initial",
            "_view_module": "@jupyter-widgets/base",
            "_model_module_version": "1.5.0",
            "_view_count": null,
            "_view_module_version": "1.2.0",
            "bar_color": null,
            "_model_module": "@jupyter-widgets/controls"
          }
        },
        "4c9275c833b8410a8eb74f1d3011deb6": {
          "model_module": "@jupyter-widgets/base",
          "model_name": "LayoutModel",
          "state": {
            "_view_name": "LayoutView",
            "grid_template_rows": null,
            "right": null,
            "justify_content": null,
            "_view_module": "@jupyter-widgets/base",
            "overflow": null,
            "_model_module_version": "1.2.0",
            "_view_count": null,
            "flex_flow": null,
            "width": null,
            "min_width": null,
            "border": null,
            "align_items": null,
            "bottom": null,
            "_model_module": "@jupyter-widgets/base",
            "top": null,
            "grid_column": null,
            "overflow_y": null,
            "overflow_x": null,
            "grid_auto_flow": null,
            "grid_area": null,
            "grid_template_columns": null,
            "flex": null,
            "_model_name": "LayoutModel",
            "justify_items": null,
            "grid_row": null,
            "max_height": null,
            "align_content": null,
            "visibility": null,
            "align_self": null,
            "height": null,
            "min_height": null,
            "padding": null,
            "grid_auto_rows": null,
            "grid_gap": null,
            "max_width": null,
            "order": null,
            "_view_module_version": "1.2.0",
            "grid_template_areas": null,
            "object_position": null,
            "object_fit": null,
            "grid_auto_columns": null,
            "margin": null,
            "display": null,
            "left": null
          }
        },
        "b4fd55b94dd042399ba7edebb57b4ef8": {
          "model_module": "@jupyter-widgets/controls",
          "model_name": "DescriptionStyleModel",
          "state": {
            "_view_name": "StyleView",
            "_model_name": "DescriptionStyleModel",
            "description_width": "",
            "_view_module": "@jupyter-widgets/base",
            "_model_module_version": "1.5.0",
            "_view_count": null,
            "_view_module_version": "1.2.0",
            "_model_module": "@jupyter-widgets/controls"
          }
        },
        "58996d463f3e45ccbf695e84976959ec": {
          "model_module": "@jupyter-widgets/base",
          "model_name": "LayoutModel",
          "state": {
            "_view_name": "LayoutView",
            "grid_template_rows": null,
            "right": null,
            "justify_content": null,
            "_view_module": "@jupyter-widgets/base",
            "overflow": null,
            "_model_module_version": "1.2.0",
            "_view_count": null,
            "flex_flow": null,
            "width": null,
            "min_width": null,
            "border": null,
            "align_items": null,
            "bottom": null,
            "_model_module": "@jupyter-widgets/base",
            "top": null,
            "grid_column": null,
            "overflow_y": null,
            "overflow_x": null,
            "grid_auto_flow": null,
            "grid_area": null,
            "grid_template_columns": null,
            "flex": null,
            "_model_name": "LayoutModel",
            "justify_items": null,
            "grid_row": null,
            "max_height": null,
            "align_content": null,
            "visibility": null,
            "align_self": null,
            "height": null,
            "min_height": null,
            "padding": null,
            "grid_auto_rows": null,
            "grid_gap": null,
            "max_width": null,
            "order": null,
            "_view_module_version": "1.2.0",
            "grid_template_areas": null,
            "object_position": null,
            "object_fit": null,
            "grid_auto_columns": null,
            "margin": null,
            "display": null,
            "left": null
          }
        },
        "46652336e57a46558498dedb3517ef75": {
          "model_module": "@jupyter-widgets/controls",
          "model_name": "HBoxModel",
          "state": {
            "_view_name": "HBoxView",
            "_dom_classes": [],
            "_model_name": "HBoxModel",
            "_view_module": "@jupyter-widgets/controls",
            "_model_module_version": "1.5.0",
            "_view_count": null,
            "_view_module_version": "1.5.0",
            "box_style": "",
            "layout": "IPY_MODEL_cb8d32b2fefb4fbea6df7113e19af1db",
            "_model_module": "@jupyter-widgets/controls",
            "children": [
              "IPY_MODEL_f28b357366594e0196e185bce2a3067d",
              "IPY_MODEL_1afbc3078ee3440ba8414151f2032da7"
            ]
          }
        },
        "cb8d32b2fefb4fbea6df7113e19af1db": {
          "model_module": "@jupyter-widgets/base",
          "model_name": "LayoutModel",
          "state": {
            "_view_name": "LayoutView",
            "grid_template_rows": null,
            "right": null,
            "justify_content": null,
            "_view_module": "@jupyter-widgets/base",
            "overflow": null,
            "_model_module_version": "1.2.0",
            "_view_count": null,
            "flex_flow": null,
            "width": null,
            "min_width": null,
            "border": null,
            "align_items": null,
            "bottom": null,
            "_model_module": "@jupyter-widgets/base",
            "top": null,
            "grid_column": null,
            "overflow_y": null,
            "overflow_x": null,
            "grid_auto_flow": null,
            "grid_area": null,
            "grid_template_columns": null,
            "flex": null,
            "_model_name": "LayoutModel",
            "justify_items": null,
            "grid_row": null,
            "max_height": null,
            "align_content": null,
            "visibility": null,
            "align_self": null,
            "height": null,
            "min_height": null,
            "padding": null,
            "grid_auto_rows": null,
            "grid_gap": null,
            "max_width": null,
            "order": null,
            "_view_module_version": "1.2.0",
            "grid_template_areas": null,
            "object_position": null,
            "object_fit": null,
            "grid_auto_columns": null,
            "margin": null,
            "display": null,
            "left": null
          }
        },
        "f28b357366594e0196e185bce2a3067d": {
          "model_module": "@jupyter-widgets/controls",
          "model_name": "FloatProgressModel",
          "state": {
            "_view_name": "ProgressView",
            "style": "IPY_MODEL_a253a4c785c24d6095bd6b394261a333",
            "_dom_classes": [],
            "description": "100%",
            "_model_name": "FloatProgressModel",
            "bar_style": "success",
            "max": 5,
            "_view_module": "@jupyter-widgets/controls",
            "_model_module_version": "1.5.0",
            "value": 5,
            "_view_count": null,
            "_view_module_version": "1.5.0",
            "orientation": "horizontal",
            "min": 0,
            "description_tooltip": null,
            "_model_module": "@jupyter-widgets/controls",
            "layout": "IPY_MODEL_74fde65b9bb943d08c10ccafe8866e68"
          }
        },
        "1afbc3078ee3440ba8414151f2032da7": {
          "model_module": "@jupyter-widgets/controls",
          "model_name": "HTMLModel",
          "state": {
            "_view_name": "HTMLView",
            "style": "IPY_MODEL_661f0d4e9a7e4760a34d9c7798548677",
            "_dom_classes": [],
            "description": "",
            "_model_name": "HTMLModel",
            "placeholder": "​",
            "_view_module": "@jupyter-widgets/controls",
            "_model_module_version": "1.5.0",
            "value": " 5/5 [33:37&lt;00:00, 403.54s/it]",
            "_view_count": null,
            "_view_module_version": "1.5.0",
            "description_tooltip": null,
            "_model_module": "@jupyter-widgets/controls",
            "layout": "IPY_MODEL_4c832c522b754a73a584ea968486c479"
          }
        },
        "a253a4c785c24d6095bd6b394261a333": {
          "model_module": "@jupyter-widgets/controls",
          "model_name": "ProgressStyleModel",
          "state": {
            "_view_name": "StyleView",
            "_model_name": "ProgressStyleModel",
            "description_width": "initial",
            "_view_module": "@jupyter-widgets/base",
            "_model_module_version": "1.5.0",
            "_view_count": null,
            "_view_module_version": "1.2.0",
            "bar_color": null,
            "_model_module": "@jupyter-widgets/controls"
          }
        },
        "74fde65b9bb943d08c10ccafe8866e68": {
          "model_module": "@jupyter-widgets/base",
          "model_name": "LayoutModel",
          "state": {
            "_view_name": "LayoutView",
            "grid_template_rows": null,
            "right": null,
            "justify_content": null,
            "_view_module": "@jupyter-widgets/base",
            "overflow": null,
            "_model_module_version": "1.2.0",
            "_view_count": null,
            "flex_flow": null,
            "width": null,
            "min_width": null,
            "border": null,
            "align_items": null,
            "bottom": null,
            "_model_module": "@jupyter-widgets/base",
            "top": null,
            "grid_column": null,
            "overflow_y": null,
            "overflow_x": null,
            "grid_auto_flow": null,
            "grid_area": null,
            "grid_template_columns": null,
            "flex": null,
            "_model_name": "LayoutModel",
            "justify_items": null,
            "grid_row": null,
            "max_height": null,
            "align_content": null,
            "visibility": null,
            "align_self": null,
            "height": null,
            "min_height": null,
            "padding": null,
            "grid_auto_rows": null,
            "grid_gap": null,
            "max_width": null,
            "order": null,
            "_view_module_version": "1.2.0",
            "grid_template_areas": null,
            "object_position": null,
            "object_fit": null,
            "grid_auto_columns": null,
            "margin": null,
            "display": null,
            "left": null
          }
        },
        "661f0d4e9a7e4760a34d9c7798548677": {
          "model_module": "@jupyter-widgets/controls",
          "model_name": "DescriptionStyleModel",
          "state": {
            "_view_name": "StyleView",
            "_model_name": "DescriptionStyleModel",
            "description_width": "",
            "_view_module": "@jupyter-widgets/base",
            "_model_module_version": "1.5.0",
            "_view_count": null,
            "_view_module_version": "1.2.0",
            "_model_module": "@jupyter-widgets/controls"
          }
        },
        "4c832c522b754a73a584ea968486c479": {
          "model_module": "@jupyter-widgets/base",
          "model_name": "LayoutModel",
          "state": {
            "_view_name": "LayoutView",
            "grid_template_rows": null,
            "right": null,
            "justify_content": null,
            "_view_module": "@jupyter-widgets/base",
            "overflow": null,
            "_model_module_version": "1.2.0",
            "_view_count": null,
            "flex_flow": null,
            "width": null,
            "min_width": null,
            "border": null,
            "align_items": null,
            "bottom": null,
            "_model_module": "@jupyter-widgets/base",
            "top": null,
            "grid_column": null,
            "overflow_y": null,
            "overflow_x": null,
            "grid_auto_flow": null,
            "grid_area": null,
            "grid_template_columns": null,
            "flex": null,
            "_model_name": "LayoutModel",
            "justify_items": null,
            "grid_row": null,
            "max_height": null,
            "align_content": null,
            "visibility": null,
            "align_self": null,
            "height": null,
            "min_height": null,
            "padding": null,
            "grid_auto_rows": null,
            "grid_gap": null,
            "max_width": null,
            "order": null,
            "_view_module_version": "1.2.0",
            "grid_template_areas": null,
            "object_position": null,
            "object_fit": null,
            "grid_auto_columns": null,
            "margin": null,
            "display": null,
            "left": null
          }
        }
      }
    }
  },
  "cells": [
    {
      "cell_type": "markdown",
      "metadata": {
        "id": "view-in-github",
        "colab_type": "text"
      },
      "source": [
        "<a href=\"https://colab.research.google.com/github/GeorgeShibanin/galaxy_project/blob/main/RegressionOnBigDataGalaxy_ipynb%22.ipynb\" target=\"_parent\"><img src=\"https://colab.research.google.com/assets/colab-badge.svg\" alt=\"Open In Colab\"/></a>"
      ]
    },
    {
      "cell_type": "code",
      "metadata": {
        "id": "-wHfRMAR5pBL"
      },
      "source": [
        "import matplotlib.pyplot as plt\n",
        "from matplotlib import pyplot\n",
        "import numpy as np\n",
        "import seaborn as sns\n",
        "import pandas as pd\n",
        "import tensorflow.compat.v2 as tf\n",
        "import tensorflow_probability as tfp\n",
        "from sklearn import preprocessing\n",
        "from sklearn.linear_model import LinearRegression\n",
        "from google.colab import drive\n",
        "from sklearn.model_selection import train_test_split\n",
        "from sklearn.metrics import max_error, mean_squared_error, explained_variance_score, mean_absolute_error, mean_squared_log_error, median_absolute_error, r2_score, mean_poisson_deviance, mean_gamma_deviance\n",
        "from sklearn.ensemble import RandomForestRegressor\n",
        "from tqdm import tqdm_notebook\n",
        "from xgboost import XGBRegressor\n",
        "from sklearn.preprocessing import PolynomialFeatures"
      ],
      "execution_count": null,
      "outputs": []
    },
    {
      "cell_type": "code",
      "metadata": {
        "id": "vP2ugh7w5ytv"
      },
      "source": [
        "def set_settings():\n",
        "    tf.enable_v2_behavior()\n",
        "    sns.reset_defaults()\n",
        "    sns.set_context(context='talk',font_scale=0.7)\n",
        "    tfd = tfp.distributions"
      ],
      "execution_count": null,
      "outputs": []
    },
    {
      "cell_type": "code",
      "metadata": {
        "id": "lKh6l2e-ZZkC"
      },
      "source": [
        "def mount():\n",
        "    drive.mount('/content/drive')"
      ],
      "execution_count": null,
      "outputs": []
    },
    {
      "cell_type": "code",
      "metadata": {
        "id": "x21kikCP-23q"
      },
      "source": [
        "def check_gpu_device():\n",
        "    if tf.test.gpu_device_name() != '/device:GPU:0':\n",
        "        print('WARNING: GPU device not found.')\n",
        "    else:\n",
        "        print('SUCCESS: Found GPU: {}'.format(tf.test.gpu_device_name()))"
      ],
      "execution_count": null,
      "outputs": []
    },
    {
      "cell_type": "code",
      "metadata": {
        "id": "EQpVKt_s_t9m"
      },
      "source": [
        "def prepare():\n",
        "    set_settings()\n",
        "    mount()\n",
        "    check_gpu_device()"
      ],
      "execution_count": null,
      "outputs": []
    },
    {
      "cell_type": "code",
      "metadata": {
        "id": "nNtkZ6CI0uVW"
      },
      "source": [
        "def load():\n",
        "    data = pd.read_csv('drive/MyDrive/rcsed_z_less_03.csv')\n",
        "    masses = pd.read_csv('drive/MyDrive/rcsed_z_less_03_logMstar_gal.csv')\n",
        "    return data, masses"
      ],
      "execution_count": null,
      "outputs": []
    },
    {
      "cell_type": "code",
      "metadata": {
        "id": "FUIVqM6v0w4N"
      },
      "source": [
        "def prepare_data(data, masses):\n",
        "    mask = ~masses['logMstar_gal'].isna()\n",
        "    y = masses[mask]\n",
        "    y = y.reset_index()\n",
        "    y = y.drop(columns=['index'])\n",
        "    data = data.drop(columns=['Unnamed: 0'])\n",
        "    X = data[mask]\n",
        "    X = X.reset_index()\n",
        "    X = X.drop(columns=['index'])\n",
        "    X = X.fillna(X.mean())\n",
        "    return data, X, y, mask"
      ],
      "execution_count": null,
      "outputs": []
    },
    {
      "cell_type": "code",
      "metadata": {
        "id": "Yq_LeW4z0zNC"
      },
      "source": [
        "def split_data(X, y):\n",
        "    X_train, X_test, y_train, y_test = train_test_split(X, y, test_size=0.1, random_state=42)\n",
        "    return X_train, X_test, y_train, y_test"
      ],
      "execution_count": null,
      "outputs": []
    },
    {
      "cell_type": "code",
      "metadata": {
        "id": "778wOSJN01mt"
      },
      "source": [
        "def scale_data(X_train, X_test):\n",
        "    scal = preprocessing.RobustScaler()\n",
        "    X_train = scal.fit_transform(X_train)\n",
        "    X_test = scal.transform(X_test)\n",
        "    return X_train, X_test"
      ],
      "execution_count": null,
      "outputs": []
    },
    {
      "cell_type": "code",
      "metadata": {
        "id": "7R9uxPl01R_i"
      },
      "source": [
        "def posterior_mean_field(kernel_size, bias_size=0, dtype=None):\n",
        "  n = kernel_size + bias_size\n",
        "  c = np.log(np.expm1(1.))\n",
        "  return tf.keras.Sequential([\n",
        "      tfp.layers.VariableLayer(2 * n, dtype=dtype),\n",
        "      tfp.layers.DistributionLambda(lambda t: tfd.Independent(\n",
        "          tfd.Normal(loc=t[..., :n],\n",
        "                     scale=1e-5 + tf.nn.softplus(c + t[..., n:])),\n",
        "          reinterpreted_batch_ndims=1)),\n",
        "  ])\n",
        "\n",
        "\n",
        "def prior_trainable(kernel_size, bias_size=0, dtype=None):\n",
        "  n = kernel_size + bias_size\n",
        "  return tf.keras.Sequential([\n",
        "      tfp.layers.VariableLayer(n, dtype=dtype),\n",
        "      tfp.layers.DistributionLambda(lambda t: tfd.Independent(\n",
        "          tfd.Normal(loc=t, scale=1),\n",
        "          reinterpreted_batch_ndims=1)),\n",
        "  ])"
      ],
      "execution_count": null,
      "outputs": []
    },
    {
      "cell_type": "code",
      "metadata": {
        "id": "ebc6E-vG1X95"
      },
      "source": [
        "class RBFKernelFn(tf.keras.layers.Layer):\n",
        "  def __init__(self, **kwargs):\n",
        "    super(RBFKernelFn, self).__init__(**kwargs)\n",
        "    dtype = kwargs.get('dtype', None)\n",
        "\n",
        "    self._amplitude = self.add_variable(\n",
        "            initializer=tf.constant_initializer(0),\n",
        "            dtype=dtype,\n",
        "            name='amplitude')\n",
        "    \n",
        "    self._length_scale = self.add_variable(\n",
        "            initializer=tf.constant_initializer(0),\n",
        "            dtype=dtype,\n",
        "            name='length_scale')\n",
        "\n",
        "  def call(self, x):\n",
        "    # Never called -- this is just a layer so it can hold variables\n",
        "    # in a way Keras understands.\n",
        "    return x\n",
        "\n",
        "  @property\n",
        "  def kernel(self):\n",
        "    return tfp.math.psd_kernels.ExponentiatedQuadratic(\n",
        "      amplitude=tf.nn.softplus(0.1 * self._amplitude),\n",
        "      length_scale=tf.nn.softplus(5. * self._length_scale)\n",
        "    )"
      ],
      "execution_count": null,
      "outputs": []
    },
    {
      "cell_type": "code",
      "metadata": {
        "id": "iyGcHVZ01dwO"
      },
      "source": [
        "def var_model(X_train, y_train):\n",
        "    tf.keras.backend.set_floatx('float64')\n",
        "# Build model.\n",
        "    num_inducing_points = 100\n",
        "    simple_model = tf.keras.Sequential([\n",
        "        tf.keras.layers.InputLayer(input_shape=[55]),\n",
        "        tf.keras.layers.Dense(256, kernel_initializer='ones', use_bias=False, activation='relu'),\n",
        "        #tf.keras.layers.Activation('softmax'),\n",
        "\n",
        "        tfp.layers.VariationalGaussianProcess(\n",
        "            num_inducing_points=num_inducing_points,\n",
        "            kernel_provider=RBFKernelFn(),\n",
        "            event_shape=[1],\n",
        "            unconstrained_observation_noise_variance_initializer=(\n",
        "                tf.constant_initializer(np.log(np.expm1(1.)).astype('float64'))),\n",
        "        ),\n",
        "    ])\n",
        "    batch_size = 256\n",
        "    loss = lambda y, rv_y: rv_y.variational_loss(\n",
        "        y, kl_weight=np.array(batch_size, 'float64') / X.shape[0])\n",
        "    simple_model.compile(optimizer=tf.optimizers.Adam(learning_rate=0.008), loss=loss)\n",
        "\n",
        "    history = simple_model.fit(X_train, y_train, batch_size=batch_size, epochs=77, verbose=2)\n",
        "    return simple_model, history"
      ],
      "execution_count": null,
      "outputs": []
    },
    {
      "cell_type": "code",
      "metadata": {
        "id": "ATmWexK439uq"
      },
      "source": [
        "def randForest_model(X_train, y_train):\n",
        "    estimators = [150, 200]\n",
        "    min_spl = [4, 5, 6]\n",
        "    best_sc_first = 0\n",
        "    best_est = 0\n",
        "    for est in tqdm_notebook(estimators):\n",
        "        rgr = RandomForestRegressor(n_estimators=est)\n",
        "        rgr.fit(X_train, y_train)\n",
        "        y_pred = rgr.predict(X_test)\n",
        "        sc = r2_score(y_pred, y_test)\n",
        "        if sc > best_sc_first:\n",
        "            best_sc_first = sc\n",
        "            best_est = est\n",
        "\n",
        "\n",
        "    result_est = None\n",
        "    best_sc_second = 0\n",
        "    best_pred = None\n",
        "    best_min = 0\n",
        "    for cur_min in tqdm_notebook(min_spl):\n",
        "        rgr = RandomForestRegressor(n_estimators=best_est, min_samples_split=cur_min)\n",
        "        rgr.fit(X_train, y_train)\n",
        "        y_pred = rgr.predict(X_test)\n",
        "        sc = r2_score(y_pred, y_test)\n",
        "        if sc > best_sc_second:\n",
        "            best_sc_second = sc\n",
        "            best_min = cur_min\n",
        "            result_est = rgr\n",
        "            best_pred = y_pred\n",
        "\n",
        "    return result_est"
      ],
      "execution_count": null,
      "outputs": []
    },
    {
      "cell_type": "code",
      "metadata": {
        "id": "YmwltUGCuT68"
      },
      "source": [
        "def randForest_model2(X_train, y_train):\n",
        "    rgr = RandomForestRegressor(n_estimators=150, min_samples_split=5)\n",
        "    rgr.fit(X_train, y_train)\n",
        "    return rgr"
      ],
      "execution_count": null,
      "outputs": []
    },
    {
      "cell_type": "code",
      "metadata": {
        "id": "B653MMOX--eM"
      },
      "source": [
        "def lin_reg(X_train, y_train):\n",
        "    rgr = LinearRegression()\n",
        "    rgr.fit(X_train, y_train)\n",
        "    return rgr"
      ],
      "execution_count": null,
      "outputs": []
    },
    {
      "cell_type": "code",
      "metadata": {
        "id": "t6BU80VWlUry"
      },
      "source": [
        "def boosting_model(X_train, X_test, y_train, y_test):\n",
        "    estimators = [50, 100, 150, 200]\n",
        "    lr = [0.001, 0.01, 0.1, 0.2, 0.3]\n",
        "    best_sc_first = 0\n",
        "    best_est = 0\n",
        "    for est in tqdm_notebook(estimators):\n",
        "        rgr = XGBRegressor(n_estimators=est)\n",
        "        rgr.fit(X_train, y_train)\n",
        "        y_pred = rgr.predict(X_test)\n",
        "        sc = r2_score(y_pred, y_test)\n",
        "        if sc > best_sc_first:\n",
        "            best_sc_first = sc\n",
        "            best_est = est\n",
        "\n",
        "\n",
        "    result_est = None\n",
        "    best_sc_second = 0\n",
        "    best_pred = None\n",
        "    best_lr = 0\n",
        "    for cur_lr in tqdm_notebook(lr):\n",
        "        rgr = XGBRegressor(n_estimators=best_est)\n",
        "        rgr.fit(X_train, y_train)\n",
        "        y_pred = rgr.predict(X_test)\n",
        "        sc = r2_score(y_pred, y_test)\n",
        "        if sc > best_sc_second:\n",
        "            best_sc_second = sc\n",
        "            best_lr = cur_lr\n",
        "            result_est = rgr\n",
        "            best_pred = y_pred\n",
        "    return result_est"
      ],
      "execution_count": null,
      "outputs": []
    },
    {
      "cell_type": "code",
      "metadata": {
        "id": "QaLu40WF2c1L"
      },
      "source": [
        "def make_predictions(model, X_train, X_test):\n",
        "    y_pred_train = model.predict(X_train)\n",
        "    y_pred_test = model.predict(X_test)\n",
        "    return y_pred_train, y_pred_test"
      ],
      "execution_count": null,
      "outputs": []
    },
    {
      "cell_type": "code",
      "metadata": {
        "id": "ZxaTXNpq30dt"
      },
      "source": [
        "def print_score(y, y_pred):\n",
        "    print('max_error:',max_error(y, y_pred))\n",
        "    print('mean_squared_error:',mean_squared_error(y, y_pred))\n",
        "    print('explained_variance_score:', explained_variance_score(y, y_pred))\n",
        "    print('mean_absolute_error:', mean_absolute_error(y, y_pred))\n",
        "    print('mean_squared_log_error:', mean_squared_log_error(y, y_pred))\n",
        "    print('median_absolute_error:', median_absolute_error(y, y_pred))\n",
        "    print('r2_score:', r2_score(y, y_pred))\n",
        "    print('mean_poisson_deviance:', mean_poisson_deviance(y, y_pred))\n",
        "    print('mean_gamma_deviance:', mean_gamma_deviance(y, y_pred))\n",
        "    return r2_score(y, y_pred)"
      ],
      "execution_count": null,
      "outputs": []
    },
    {
      "cell_type": "code",
      "metadata": {
        "id": "c2NeyxAUU8_Z"
      },
      "source": [
        "def scores(model, X_train, X_test, y_train, y_test):\n",
        "    y_pred_train, y_pred_test = make_predictions(model, X_train, X_test)\n",
        "    r2_train = print_score(y_train, y_pred_train)\n",
        "    r2_test = print_score(y_test, y_pred_test)\n",
        "    return r2_train, r2_test"
      ],
      "execution_count": null,
      "outputs": []
    },
    {
      "cell_type": "code",
      "metadata": {
        "id": "qBWnAC0r6YfG"
      },
      "source": [
        "def feature_importance(model):\n",
        "    importance = model.feature_importances_\n",
        "    importance2 = list(filter(lambda x: x > 0.0045, importance))\n",
        "    # summarize feature importance\n",
        "    massiv = X.columns\n",
        "    massiv2 = []\n",
        "    i = 0\n",
        "    for v in range(len(importance)):\n",
        "      if v == 52:\n",
        "        break\n",
        "      if importance[v] == importance2[i]:\n",
        "        print('Column: %s, Feature: %0d,  Score: %.5f' % (massiv[v], v, importance2[i]))\n",
        "        massiv2.append(massiv[v])\n",
        "        i += 1\n",
        "\t    \n",
        "    # plot feature importance\n",
        "    pyplot.bar(massiv2, importance2)\n",
        "    pyplot.xticks(rotation=90)\n",
        "    pyplot.show()\n",
        "    return massiv2"
      ],
      "execution_count": null,
      "outputs": []
    },
    {
      "cell_type": "code",
      "metadata": {
        "id": "6LUda92a6q5V"
      },
      "source": [
        "def get_masses_for_unlabeled(model, data, mask):\n",
        "    other_mask = 1 -  mask\n",
        "    other_mask = other_mask.astype('bool')\n",
        "    X_other = data[other_mask]\n",
        "    X_other = X_other.reset_index()\n",
        "    X_other = X_other.drop(columns=['index'])\n",
        "    X_other = X_other.fillna(X_other.mean())\n",
        "    res = model.predict(X_other)\n",
        "    inds = np.arange(len(data))\n",
        "    inds = inds[other_mask]\n",
        "    my_masses = {'inds': inds, 'masses' : res}\n",
        "    #df = pd.DataFrame(my_masses)\n",
        "    return res"
      ],
      "execution_count": null,
      "outputs": []
    },
    {
      "cell_type": "code",
      "metadata": {
        "id": "Lg9xZt-gm3Mc"
      },
      "source": [
        "def draw(model):\n",
        "    yhat = model.predict(X_test)\n",
        "    plt.figure(figsize=[15, 10])  # inches\n",
        "    plt.plot(X, y, 'b.', label='observed', markersize=2);\n",
        "\n",
        "    m = yhat.mean()\n",
        "    s = np.std(yhat)\n",
        "\n",
        "    plt.plot(X_test, yhat, 'r', linewidth=0.1, label='mean');\n",
        "    plt.plot(X_test, yhat + 2 * s, 'g', linewidth=0.1, label=r'mean + 2 stddev');\n",
        "    plt.plot(X_test, yhat - 2 * s, 'g', linewidth=0.1, label=r'mean - 2 stddev');\n",
        "\n",
        "\n",
        "\n",
        "    ax=plt.gca();\n",
        "    ax.xaxis.set_ticks_position('bottom')\n",
        "    ax.yaxis.set_ticks_position('left')\n",
        "    ax.spines['left'].set_position(('data', 0))\n",
        "    ax.spines['top'].set_visible(False)\n",
        "    ax.spines['right'].set_visible(False)\n",
        "    #ax.spines['left'].set_smart_bounds(True)\n",
        "    #ax.spines['bottom'].set_smart_bounds(True)\n",
        "    plt.legend(loc='center left', fancybox=True, framealpha=0., bbox_to_anchor=(1.05, 0.5), fontsize=5)\n",
        "    plt.show()"
      ],
      "execution_count": null,
      "outputs": []
    },
    {
      "cell_type": "code",
      "metadata": {
        "id": "Vzoc1KmgrdYX"
      },
      "source": [
        "def make_all_hist(model, y_train, y_test, data, mask):\n",
        "    others_y = get_masses_for_unlabeled(model, data, mask)\n",
        "    sns.distplot(y_train, label='y_train')\n",
        "    sns.distplot(y_test, label='y_test')\n",
        "    sns.distplot(others_y, label='predicted_masses')\n",
        "    plt.legend(loc='upper left')\n",
        "    plt.show()"
      ],
      "execution_count": null,
      "outputs": []
    },
    {
      "cell_type": "code",
      "metadata": {
        "id": "4KyPG-Zz7S-L"
      },
      "source": [
        "def save_csv(df):\n",
        "    compression_opts = dict(method='zip',\n",
        "                        archive_name='out.csv') \n",
        " \n",
        "    df.to_csv('out.zip', index=False,\n",
        "          compression=compression_opts) "
      ],
      "execution_count": null,
      "outputs": []
    },
    {
      "cell_type": "code",
      "metadata": {
        "colab": {
          "base_uri": "https://localhost:8080/"
        },
        "id": "X24OUht1AKRT",
        "outputId": "bff892ac-3334-4e43-b187-698455d7071f"
      },
      "source": [
        "prepare()"
      ],
      "execution_count": null,
      "outputs": [
        {
          "output_type": "stream",
          "text": [
            "Mounted at /content/drive\n",
            "SUCCESS: Found GPU: /device:GPU:0\n"
          ],
          "name": "stdout"
        }
      ]
    },
    {
      "cell_type": "code",
      "metadata": {
        "id": "BGuUBXzDDKuj"
      },
      "source": [
        "data, masses = load()"
      ],
      "execution_count": null,
      "outputs": []
    },
    {
      "cell_type": "code",
      "metadata": {
        "id": "obAn_fzEGTVU"
      },
      "source": [
        "data, X, y, mask = prepare_data(data, masses)"
      ],
      "execution_count": null,
      "outputs": []
    },
    {
      "cell_type": "code",
      "metadata": {
        "id": "BLLXYbra-hvF"
      },
      "source": [
        "X_train, X_test, y_train, y_test = split_data(X, y)"
      ],
      "execution_count": null,
      "outputs": []
    },
    {
      "cell_type": "code",
      "metadata": {
        "id": "gThwSHaSR56L"
      },
      "source": [
        "X_train, X_test = scale_data(X_train, X_test)"
      ],
      "execution_count": null,
      "outputs": []
    },
    {
      "cell_type": "code",
      "metadata": {
        "id": "9KDN7dibHg_E"
      },
      "source": [
        "negloglik = lambda y, p_y: -p_y.log_prob(y)"
      ],
      "execution_count": null,
      "outputs": []
    },
    {
      "cell_type": "markdown",
      "metadata": {
        "id": "2cnk6_kRMNrS"
      },
      "source": [
        "**Model 1(tf probability)**"
      ]
    },
    {
      "cell_type": "code",
      "metadata": {
        "colab": {
          "base_uri": "https://localhost:8080/"
        },
        "id": "ytToILhhakHu",
        "outputId": "42a11fe3-f860-424c-deaf-a82b9f8a8a79"
      },
      "source": [
        "var_model, history = var_model(X_train, y_train)"
      ],
      "execution_count": null,
      "outputs": [
        {
          "output_type": "stream",
          "text": [
            "WARNING:tensorflow:From /usr/local/lib/python3.7/dist-packages/tensorflow/python/ops/linalg/linear_operator_lower_triangular.py:167: calling LinearOperator.__init__ (from tensorflow.python.ops.linalg.linear_operator) with graph_parents is deprecated and will be removed in a future version.\n",
            "Instructions for updating:\n",
            "Do not pass `graph_parents`.  They will  no longer be used.\n"
          ],
          "name": "stdout"
        },
        {
          "output_type": "stream",
          "text": [
            "/usr/local/lib/python3.7/dist-packages/tensorflow/python/keras/engine/base_layer.py:2281: UserWarning: `layer.add_variable` is deprecated and will be removed in a future version. Please use `layer.add_weight` method instead.\n",
            "  warnings.warn('`layer.add_variable` is deprecated and '\n",
            "/usr/local/lib/python3.7/dist-packages/tensorflow_probability/python/distributions/gaussian_process.py:312: UserWarning: Unable to detect statically whether the number of index_points is 1. As a result, defaulting to treating the marginal GP at `index_points` as a multivariate Gaussian. This makes some methods, like `cdf` unavailable.\n",
            "  'Unable to detect statically whether the number of index_points is '\n"
          ],
          "name": "stderr"
        },
        {
          "output_type": "stream",
          "text": [
            "Epoch 1/77\n"
          ],
          "name": "stdout"
        },
        {
          "output_type": "stream",
          "text": [
            "/usr/local/lib/python3.7/dist-packages/tensorflow_probability/python/distributions/gaussian_process.py:312: UserWarning: Unable to detect statically whether the number of index_points is 1. As a result, defaulting to treating the marginal GP at `index_points` as a multivariate Gaussian. This makes some methods, like `cdf` unavailable.\n",
            "  'Unable to detect statically whether the number of index_points is '\n"
          ],
          "name": "stderr"
        },
        {
          "output_type": "stream",
          "text": [
            "1301/1301 - 30s - loss: 3488.8443\n",
            "Epoch 2/77\n",
            "1301/1301 - 18s - loss: 993.0591\n",
            "Epoch 3/77\n",
            "1301/1301 - 18s - loss: 615.8401\n",
            "Epoch 4/77\n",
            "1301/1301 - 18s - loss: 546.8237\n",
            "Epoch 5/77\n",
            "1301/1301 - 18s - loss: 426.0752\n",
            "Epoch 6/77\n",
            "1301/1301 - 18s - loss: 229.3463\n",
            "Epoch 7/77\n",
            "1301/1301 - 19s - loss: 165.9562\n",
            "Epoch 8/77\n",
            "1301/1301 - 19s - loss: 143.7237\n",
            "Epoch 9/77\n",
            "1301/1301 - 19s - loss: 91.4088\n",
            "Epoch 10/77\n",
            "1301/1301 - 18s - loss: 83.3987\n",
            "Epoch 11/77\n",
            "1301/1301 - 18s - loss: 80.6422\n",
            "Epoch 12/77\n",
            "1301/1301 - 19s - loss: 78.4502\n",
            "Epoch 13/77\n",
            "1301/1301 - 19s - loss: 77.6232\n",
            "Epoch 14/77\n",
            "1301/1301 - 18s - loss: 75.2348\n",
            "Epoch 15/77\n",
            "1301/1301 - 18s - loss: 74.7621\n",
            "Epoch 16/77\n",
            "1301/1301 - 18s - loss: 73.7834\n",
            "Epoch 17/77\n",
            "1301/1301 - 18s - loss: 72.6027\n",
            "Epoch 18/77\n",
            "1301/1301 - 18s - loss: 71.7694\n",
            "Epoch 19/77\n",
            "1301/1301 - 18s - loss: 70.5803\n",
            "Epoch 20/77\n",
            "1301/1301 - 18s - loss: 71.0547\n",
            "Epoch 21/77\n",
            "1301/1301 - 18s - loss: 69.0016\n",
            "Epoch 22/77\n",
            "1301/1301 - 18s - loss: 68.0852\n",
            "Epoch 23/77\n",
            "1301/1301 - 18s - loss: 68.3746\n",
            "Epoch 24/77\n",
            "1301/1301 - 18s - loss: 67.8037\n",
            "Epoch 25/77\n",
            "1301/1301 - 18s - loss: 66.5233\n",
            "Epoch 26/77\n",
            "1301/1301 - 18s - loss: 66.6309\n",
            "Epoch 27/77\n",
            "1301/1301 - 18s - loss: 66.3057\n",
            "Epoch 28/77\n",
            "1301/1301 - 18s - loss: 65.1658\n",
            "Epoch 29/77\n",
            "1301/1301 - 18s - loss: 64.9843\n",
            "Epoch 30/77\n",
            "1301/1301 - 18s - loss: 64.0674\n",
            "Epoch 31/77\n",
            "1301/1301 - 18s - loss: 64.2376\n",
            "Epoch 32/77\n",
            "1301/1301 - 18s - loss: 63.8108\n",
            "Epoch 33/77\n",
            "1301/1301 - 18s - loss: 63.2023\n",
            "Epoch 34/77\n",
            "1301/1301 - 18s - loss: 62.9476\n",
            "Epoch 35/77\n",
            "1301/1301 - 18s - loss: 62.7461\n",
            "Epoch 36/77\n",
            "1301/1301 - 18s - loss: 62.0718\n",
            "Epoch 37/77\n",
            "1301/1301 - 18s - loss: 62.1652\n",
            "Epoch 38/77\n",
            "1301/1301 - 18s - loss: 61.1425\n",
            "Epoch 39/77\n",
            "1301/1301 - 18s - loss: 60.8775\n",
            "Epoch 40/77\n",
            "1301/1301 - 18s - loss: 61.0755\n",
            "Epoch 41/77\n",
            "1301/1301 - 18s - loss: 60.5136\n",
            "Epoch 42/77\n",
            "1301/1301 - 18s - loss: 60.5677\n",
            "Epoch 43/77\n",
            "1301/1301 - 18s - loss: 60.3534\n",
            "Epoch 44/77\n",
            "1301/1301 - 18s - loss: 59.7474\n",
            "Epoch 45/77\n",
            "1301/1301 - 18s - loss: 59.0782\n",
            "Epoch 46/77\n",
            "1301/1301 - 18s - loss: 58.8604\n",
            "Epoch 47/77\n",
            "1301/1301 - 18s - loss: 58.3772\n",
            "Epoch 48/77\n",
            "1301/1301 - 18s - loss: 58.0102\n",
            "Epoch 49/77\n",
            "1301/1301 - 18s - loss: 58.7248\n",
            "Epoch 50/77\n",
            "1301/1301 - 18s - loss: 57.9162\n",
            "Epoch 51/77\n",
            "1301/1301 - 18s - loss: 57.6989\n",
            "Epoch 52/77\n",
            "1301/1301 - 18s - loss: 57.3614\n",
            "Epoch 53/77\n",
            "1301/1301 - 18s - loss: 57.1052\n",
            "Epoch 54/77\n",
            "1301/1301 - 18s - loss: 56.5905\n",
            "Epoch 55/77\n",
            "1301/1301 - 18s - loss: 57.3190\n",
            "Epoch 56/77\n",
            "1301/1301 - 18s - loss: 56.9073\n",
            "Epoch 57/77\n",
            "1301/1301 - 18s - loss: 56.6857\n",
            "Epoch 58/77\n",
            "1301/1301 - 18s - loss: 56.0647\n",
            "Epoch 59/77\n",
            "1301/1301 - 18s - loss: 56.1091\n",
            "Epoch 60/77\n",
            "1301/1301 - 18s - loss: 56.2150\n",
            "Epoch 61/77\n",
            "1301/1301 - 18s - loss: 56.0086\n",
            "Epoch 62/77\n",
            "1301/1301 - 18s - loss: 56.0907\n",
            "Epoch 63/77\n",
            "1301/1301 - 18s - loss: 55.4414\n",
            "Epoch 64/77\n",
            "1301/1301 - 18s - loss: 55.7920\n",
            "Epoch 65/77\n",
            "1301/1301 - 18s - loss: 55.6462\n",
            "Epoch 66/77\n",
            "1301/1301 - 18s - loss: 55.4796\n",
            "Epoch 67/77\n",
            "1301/1301 - 18s - loss: 55.2172\n",
            "Epoch 68/77\n",
            "1301/1301 - 18s - loss: 54.9635\n",
            "Epoch 69/77\n",
            "1301/1301 - 18s - loss: 55.0077\n",
            "Epoch 70/77\n",
            "1301/1301 - 18s - loss: 55.3818\n",
            "Epoch 71/77\n",
            "1301/1301 - 18s - loss: 54.5832\n",
            "Epoch 72/77\n",
            "1301/1301 - 18s - loss: 54.4213\n",
            "Epoch 73/77\n",
            "1301/1301 - 18s - loss: 54.5424\n",
            "Epoch 74/77\n",
            "1301/1301 - 18s - loss: 54.7461\n",
            "Epoch 75/77\n",
            "1301/1301 - 18s - loss: 54.0618\n",
            "Epoch 76/77\n",
            "1301/1301 - 18s - loss: 53.5014\n",
            "Epoch 77/77\n",
            "1301/1301 - 18s - loss: 54.1233\n"
          ],
          "name": "stdout"
        }
      ]
    },
    {
      "cell_type": "code",
      "metadata": {
        "colab": {
          "base_uri": "https://localhost:8080/"
        },
        "id": "NYD_rKQxMbnH",
        "outputId": "164d3159-8838-4360-b51a-ab79b8c129f1"
      },
      "source": [
        "simple_model_train_r2, simple_model_test_r2 = scores(var_model, X_train, X_test, y_train, y_test)"
      ],
      "execution_count": null,
      "outputs": [
        {
          "output_type": "stream",
          "text": [
            "/usr/local/lib/python3.7/dist-packages/tensorflow_probability/python/distributions/gaussian_process.py:312: UserWarning: Unable to detect statically whether the number of index_points is 1. As a result, defaulting to treating the marginal GP at `index_points` as a multivariate Gaussian. This makes some methods, like `cdf` unavailable.\n",
            "  'Unable to detect statically whether the number of index_points is '\n"
          ],
          "name": "stderr"
        },
        {
          "output_type": "stream",
          "text": [
            "max_error: 3.681369877122026\n",
            "mean_squared_error: 0.06483890323378241\n",
            "explained_variance_score: 0.840347348955766\n",
            "mean_absolute_error: 0.19570369753942285\n",
            "mean_squared_log_error: 0.0005314503711695375\n",
            "median_absolute_error: 0.15954482762067546\n",
            "r2_score: 0.8403002303269147\n",
            "mean_poisson_deviance: 0.006437873056796623\n",
            "mean_gamma_deviance: 0.000642758261458875\n",
            "max_error: 2.9304733139770054\n",
            "mean_squared_error: 0.06640438619362345\n",
            "explained_variance_score: 0.8355371792992419\n",
            "mean_absolute_error: 0.19782830167163182\n",
            "mean_squared_log_error: 0.0005424296709704173\n",
            "median_absolute_error: 0.16132852115360752\n",
            "r2_score: 0.8355091060135938\n",
            "mean_poisson_deviance: 0.0065835049235030835\n",
            "mean_gamma_deviance: 0.0006561079611839942\n"
          ],
          "name": "stdout"
        }
      ]
    },
    {
      "cell_type": "markdown",
      "metadata": {
        "id": "5C0V1x2xMS5Q"
      },
      "source": [
        "**Model 2(RandForest)**"
      ]
    },
    {
      "cell_type": "code",
      "metadata": {
        "colab": {
          "base_uri": "https://localhost:8080/"
        },
        "id": "wAMSZxYm9C5o",
        "outputId": "eecef3dc-93f0-41f1-f63c-fcc9a8149f8c"
      },
      "source": [
        "random_forest_model = randForest_model2(X_train, y_train)"
      ],
      "execution_count": null,
      "outputs": [
        {
          "output_type": "stream",
          "text": [
            "/usr/local/lib/python3.7/dist-packages/ipykernel_launcher.py:3: DataConversionWarning: A column-vector y was passed when a 1d array was expected. Please change the shape of y to (n_samples,), for example using ravel().\n",
            "  This is separate from the ipykernel package so we can avoid doing imports until\n"
          ],
          "name": "stderr"
        }
      ]
    },
    {
      "cell_type": "code",
      "metadata": {
        "colab": {
          "base_uri": "https://localhost:8080/"
        },
        "id": "LZdyRTq8bOHg",
        "outputId": "40894da3-bc98-4924-8de0-1b2dd02a696c"
      },
      "source": [
        "random_forest_model_train_r2, random_forest_model_test_r2 = scores(random_forest_model[0], X_train, X_test, y_train, y_test)"
      ],
      "execution_count": null,
      "outputs": [
        {
          "output_type": "stream",
          "text": [
            "max_error: 3.564767142857143\n",
            "mean_squared_error: 0.024464836031443667\n",
            "explained_variance_score: 0.9397426915440241\n",
            "mean_absolute_error: 0.08238450228691166\n",
            "mean_squared_log_error: 0.00020485220113739656\n",
            "median_absolute_error: 0.026807500000000317\n",
            "r2_score: 0.9397425236323906\n",
            "mean_poisson_deviance: 0.002457899264622956\n",
            "mean_gamma_deviance: 0.00024856257038842955\n",
            "max_error: 2.6677799999999996\n",
            "mean_squared_error: 0.06268828169780563\n",
            "explained_variance_score: 0.8447144400558221\n",
            "mean_absolute_error: 0.18300092992694109\n",
            "mean_squared_log_error: 0.0005226866703984689\n",
            "median_absolute_error: 0.13673812500000082\n",
            "r2_score: 0.8447143014186328\n",
            "mean_poisson_deviance: 0.006286084002759807\n",
            "mean_gamma_deviance: 0.0006343929368398254\n"
          ],
          "name": "stdout"
        }
      ]
    },
    {
      "cell_type": "markdown",
      "metadata": {
        "id": "utzcCuFhMmkn"
      },
      "source": [
        "**Model 3(Xgboost)**"
      ]
    },
    {
      "cell_type": "code",
      "metadata": {
        "colab": {
          "base_uri": "https://localhost:8080/",
          "height": 372,
          "referenced_widgets": [
            "e1227243f5ac47ff8635f7b7c651e39c",
            "a5798778bba54359b2dd8d389326f082",
            "6e4b6639f551499f9931f978bc721198",
            "7b6ed1341f6345a6bd3712d87d212568",
            "618641bef52746b78ba0525d4cd76623",
            "ce3193f2fea34463b03f8f3e98094c2f",
            "058ae39056154d1b9eb35f844b6ee31a",
            "ac91d59c3f2f462dac7aa161d78978dd",
            "1298450648d7484ba0130df10a5b7a51",
            "bf83eaa9a35d47a4b58b6572b52edc04",
            "38ddccddee0a46d5ae78e35c030319a0",
            "db15c853ae324181b3f92788ec922d7e",
            "779473a1a36344309970abf5913f9581",
            "1a143e9d15af41d68c6f1dc85fdda602",
            "83063a168c7943b4ac49e2353d2b3a51",
            "5b60e751d972490091588c6b3996ec84"
          ]
        },
        "id": "W9e_l9gHlahS",
        "outputId": "29349ac5-620f-49c7-8dbd-c35d55ed224e"
      },
      "source": [
        "boost_model = boosting_model(X_train, X_test, y_train, y_test)"
      ],
      "execution_count": null,
      "outputs": [
        {
          "output_type": "stream",
          "text": [
            "/usr/local/lib/python3.7/dist-packages/ipykernel_launcher.py:6: TqdmDeprecationWarning: This function will be removed in tqdm==5.0.0\n",
            "Please use `tqdm.notebook.tqdm` instead of `tqdm.tqdm_notebook`\n",
            "  \n"
          ],
          "name": "stderr"
        },
        {
          "output_type": "display_data",
          "data": {
            "application/vnd.jupyter.widget-view+json": {
              "model_id": "e1227243f5ac47ff8635f7b7c651e39c",
              "version_major": 2,
              "version_minor": 0
            },
            "text/plain": [
              "HBox(children=(FloatProgress(value=0.0, max=4.0), HTML(value='')))"
            ]
          },
          "metadata": {
            "tags": []
          }
        },
        {
          "output_type": "stream",
          "text": [
            "[10:09:48] WARNING: /workspace/src/objective/regression_obj.cu:152: reg:linear is now deprecated in favor of reg:squarederror.\n",
            "[10:10:50] WARNING: /workspace/src/objective/regression_obj.cu:152: reg:linear is now deprecated in favor of reg:squarederror.\n",
            "[10:12:51] WARNING: /workspace/src/objective/regression_obj.cu:152: reg:linear is now deprecated in favor of reg:squarederror.\n",
            "[10:15:52] WARNING: /workspace/src/objective/regression_obj.cu:152: reg:linear is now deprecated in favor of reg:squarederror.\n",
            "\n"
          ],
          "name": "stdout"
        },
        {
          "output_type": "stream",
          "text": [
            "/usr/local/lib/python3.7/dist-packages/ipykernel_launcher.py:20: TqdmDeprecationWarning: This function will be removed in tqdm==5.0.0\n",
            "Please use `tqdm.notebook.tqdm` instead of `tqdm.tqdm_notebook`\n"
          ],
          "name": "stderr"
        },
        {
          "output_type": "display_data",
          "data": {
            "application/vnd.jupyter.widget-view+json": {
              "model_id": "1298450648d7484ba0130df10a5b7a51",
              "version_major": 2,
              "version_minor": 0
            },
            "text/plain": [
              "HBox(children=(FloatProgress(value=0.0, max=5.0), HTML(value='')))"
            ]
          },
          "metadata": {
            "tags": []
          }
        },
        {
          "output_type": "stream",
          "text": [
            "[10:19:53] WARNING: /workspace/src/objective/regression_obj.cu:152: reg:linear is now deprecated in favor of reg:squarederror.\n",
            "[10:23:53] WARNING: /workspace/src/objective/regression_obj.cu:152: reg:linear is now deprecated in favor of reg:squarederror.\n",
            "[10:27:52] WARNING: /workspace/src/objective/regression_obj.cu:152: reg:linear is now deprecated in favor of reg:squarederror.\n",
            "[10:31:52] WARNING: /workspace/src/objective/regression_obj.cu:152: reg:linear is now deprecated in favor of reg:squarederror.\n",
            "[10:35:51] WARNING: /workspace/src/objective/regression_obj.cu:152: reg:linear is now deprecated in favor of reg:squarederror.\n",
            "\n"
          ],
          "name": "stdout"
        }
      ]
    },
    {
      "cell_type": "code",
      "metadata": {
        "colab": {
          "base_uri": "https://localhost:8080/"
        },
        "id": "LgAIuMe9lnc5",
        "outputId": "f681e63d-a8a3-4d95-a256-0bc09eb7ae6f"
      },
      "source": [
        "boost_model_train_r2, boost_model_test_r2 = scores(boost_model, X_train, X_test, y_train, y_test)"
      ],
      "execution_count": null,
      "outputs": [
        {
          "output_type": "stream",
          "text": [
            "max_error: 3.239833108520508\n",
            "mean_squared_error: 0.031971496884686784\n",
            "explained_variance_score: 0.921253438386054\n",
            "mean_absolute_error: 0.13097739090184357\n",
            "mean_squared_log_error: 0.00026706742193905115\n",
            "median_absolute_error: 0.10120038070678739\n",
            "r2_score: 0.9212534383843805\n",
            "mean_poisson_deviance: 0.0032063286413070518\n",
            "mean_gamma_deviance: 0.0003234433335239757\n",
            "max_error: 2.6021200390625\n",
            "mean_squared_error: 0.03298007794079622\n",
            "explained_variance_score: 0.9183056448500004\n",
            "mean_absolute_error: 0.1332585188686083\n",
            "mean_squared_log_error: 0.00027477640222035236\n",
            "median_absolute_error: 0.1035393656921384\n",
            "r2_score: 0.9183047564297212\n",
            "mean_poisson_deviance: 0.0033041027434528346\n",
            "mean_gamma_deviance: 0.000332841289895793\n"
          ],
          "name": "stdout"
        }
      ]
    },
    {
      "cell_type": "markdown",
      "metadata": {
        "id": "f0QZ2Zqk_UEI"
      },
      "source": [
        "**Model 4(LinearRegression)**"
      ]
    },
    {
      "cell_type": "code",
      "metadata": {
        "id": "YNFONntR_ToL"
      },
      "source": [
        "lin_reg_model = lin_reg(X_train, y_train)"
      ],
      "execution_count": null,
      "outputs": []
    },
    {
      "cell_type": "code",
      "metadata": {
        "colab": {
          "base_uri": "https://localhost:8080/"
        },
        "id": "ntzWd8WT_SzX",
        "outputId": "6791affa-0952-42b3-806e-dbe935057555"
      },
      "source": [
        "lin_reg_model_train_r2, lin_reg_model_test_r2 = scores(lin_reg_model, X_train, X_test, y_train, y_test)"
      ],
      "execution_count": null,
      "outputs": [
        {
          "output_type": "stream",
          "text": [
            "max_error: 4.711166567119542\n",
            "mean_squared_error: 0.04619995009772051\n",
            "explained_variance_score: 0.8862084177625348\n",
            "mean_absolute_error: 0.1547883243044011\n",
            "mean_squared_log_error: 0.0003926564974115474\n",
            "median_absolute_error: 0.11964507696189752\n",
            "r2_score: 0.8862084177625348\n",
            "mean_poisson_deviance: 0.004673866679396236\n",
            "mean_gamma_deviance: 0.00047674188178938406\n",
            "max_error: 4.397860083114757\n",
            "mean_squared_error: 0.04826871881438889\n",
            "explained_variance_score: 0.8804345555932236\n",
            "mean_absolute_error: 0.15644452586727892\n",
            "mean_squared_log_error: 0.00040958764004697337\n",
            "median_absolute_error: 0.12075146880117504\n",
            "r2_score: 0.8804331285254811\n",
            "mean_poisson_deviance: 0.004881980834750494\n",
            "mean_gamma_deviance: 0.0004993926154877516\n"
          ],
          "name": "stdout"
        }
      ]
    },
    {
      "cell_type": "markdown",
      "metadata": {
        "id": "J57XsxtzBAwI"
      },
      "source": [
        "**Correlation**"
      ]
    },
    {
      "cell_type": "code",
      "metadata": {
        "colab": {
          "base_uri": "https://localhost:8080/",
          "height": 427
        },
        "id": "kV804XeUBeUb",
        "outputId": "8f6e9288-1bb9-43b5-f546-62ddab0d026d"
      },
      "source": [
        "data"
      ],
      "execution_count": null,
      "outputs": [
        {
          "output_type": "execute_result",
          "data": {
            "text/html": [
              "<div>\n",
              "<style scoped>\n",
              "    .dataframe tbody tr th:only-of-type {\n",
              "        vertical-align: middle;\n",
              "    }\n",
              "\n",
              "    .dataframe tbody tr th {\n",
              "        vertical-align: top;\n",
              "    }\n",
              "\n",
              "    .dataframe thead th {\n",
              "        text-align: right;\n",
              "    }\n",
              "</style>\n",
              "<table border=\"1\" class=\"dataframe\">\n",
              "  <thead>\n",
              "    <tr style=\"text-align: right;\">\n",
              "      <th></th>\n",
              "      <th>r2id_obj</th>\n",
              "      <th>ra_obj</th>\n",
              "      <th>dec_obj</th>\n",
              "      <th>redshift</th>\n",
              "      <th>amaj</th>\n",
              "      <th>ell</th>\n",
              "      <th>pa</th>\n",
              "      <th>fuv</th>\n",
              "      <th>fuv_err</th>\n",
              "      <th>fuv_size</th>\n",
              "      <th>kcorr_fuv</th>\n",
              "      <th>nuv</th>\n",
              "      <th>nuv_err</th>\n",
              "      <th>nuv_size</th>\n",
              "      <th>kcorr_nuv</th>\n",
              "      <th>u</th>\n",
              "      <th>u_err</th>\n",
              "      <th>u_size</th>\n",
              "      <th>kcorr_u</th>\n",
              "      <th>g</th>\n",
              "      <th>g_err</th>\n",
              "      <th>g_size</th>\n",
              "      <th>kcorr_g</th>\n",
              "      <th>r</th>\n",
              "      <th>r_err</th>\n",
              "      <th>r_size</th>\n",
              "      <th>kcorr_r</th>\n",
              "      <th>i</th>\n",
              "      <th>i_err</th>\n",
              "      <th>i_size</th>\n",
              "      <th>kcorr_i</th>\n",
              "      <th>z</th>\n",
              "      <th>z_err</th>\n",
              "      <th>z_size</th>\n",
              "      <th>kcorr_z</th>\n",
              "      <th>y</th>\n",
              "      <th>y_err</th>\n",
              "      <th>kcorr_y</th>\n",
              "      <th>j</th>\n",
              "      <th>j_err</th>\n",
              "      <th>kcorr_j</th>\n",
              "      <th>h</th>\n",
              "      <th>h_err</th>\n",
              "      <th>kcorr_h</th>\n",
              "      <th>k</th>\n",
              "      <th>k_err</th>\n",
              "      <th>kcorr_k</th>\n",
              "      <th>w1</th>\n",
              "      <th>w1_err</th>\n",
              "      <th>w2</th>\n",
              "      <th>w2_err</th>\n",
              "      <th>w3</th>\n",
              "      <th>w3_err</th>\n",
              "      <th>w4</th>\n",
              "      <th>w4_err</th>\n",
              "    </tr>\n",
              "  </thead>\n",
              "  <tbody>\n",
              "    <tr>\n",
              "      <th>0</th>\n",
              "      <td>4964732</td>\n",
              "      <td>119.429449</td>\n",
              "      <td>52.995309</td>\n",
              "      <td>0.169052</td>\n",
              "      <td>5.174065</td>\n",
              "      <td>0.147545</td>\n",
              "      <td>75.428020</td>\n",
              "      <td>NaN</td>\n",
              "      <td>NaN</td>\n",
              "      <td>NaN</td>\n",
              "      <td>NaN</td>\n",
              "      <td>23.411406</td>\n",
              "      <td>0.803679</td>\n",
              "      <td>5.977952</td>\n",
              "      <td>0.545470</td>\n",
              "      <td>19.658782</td>\n",
              "      <td>0.186940</td>\n",
              "      <td>4.173847</td>\n",
              "      <td>0.294785</td>\n",
              "      <td>18.553901</td>\n",
              "      <td>0.030362</td>\n",
              "      <td>2.375188</td>\n",
              "      <td>0.515064</td>\n",
              "      <td>17.386399</td>\n",
              "      <td>0.020019</td>\n",
              "      <td>2.205640</td>\n",
              "      <td>0.168766</td>\n",
              "      <td>16.935629</td>\n",
              "      <td>0.025175</td>\n",
              "      <td>2.001972</td>\n",
              "      <td>0.083567</td>\n",
              "      <td>16.613500</td>\n",
              "      <td>0.051524</td>\n",
              "      <td>1.973587</td>\n",
              "      <td>0.039130</td>\n",
              "      <td>NaN</td>\n",
              "      <td>NaN</td>\n",
              "      <td>NaN</td>\n",
              "      <td>16.235859</td>\n",
              "      <td>0.030124</td>\n",
              "      <td>NaN</td>\n",
              "      <td>NaN</td>\n",
              "      <td>NaN</td>\n",
              "      <td>NaN</td>\n",
              "      <td>NaN</td>\n",
              "      <td>NaN</td>\n",
              "      <td>NaN</td>\n",
              "      <td>17.262477</td>\n",
              "      <td>0.047</td>\n",
              "      <td>17.720986</td>\n",
              "      <td>0.048</td>\n",
              "      <td>17.344103</td>\n",
              "      <td>NaN</td>\n",
              "      <td>15.125856</td>\n",
              "      <td>NaN</td>\n",
              "    </tr>\n",
              "    <tr>\n",
              "      <th>1</th>\n",
              "      <td>4984675</td>\n",
              "      <td>171.950334</td>\n",
              "      <td>34.842062</td>\n",
              "      <td>0.042331</td>\n",
              "      <td>7.208284</td>\n",
              "      <td>0.742261</td>\n",
              "      <td>167.488800</td>\n",
              "      <td>20.772176</td>\n",
              "      <td>0.291849</td>\n",
              "      <td>3.5000</td>\n",
              "      <td>-0.023631</td>\n",
              "      <td>20.410298</td>\n",
              "      <td>0.118091</td>\n",
              "      <td>3.500000</td>\n",
              "      <td>0.009749</td>\n",
              "      <td>18.764511</td>\n",
              "      <td>0.122624</td>\n",
              "      <td>4.832413</td>\n",
              "      <td>0.121685</td>\n",
              "      <td>17.986342</td>\n",
              "      <td>0.020978</td>\n",
              "      <td>3.349131</td>\n",
              "      <td>0.053598</td>\n",
              "      <td>17.433048</td>\n",
              "      <td>0.020732</td>\n",
              "      <td>3.363956</td>\n",
              "      <td>0.036475</td>\n",
              "      <td>17.175305</td>\n",
              "      <td>0.025925</td>\n",
              "      <td>3.130031</td>\n",
              "      <td>0.000419</td>\n",
              "      <td>16.878486</td>\n",
              "      <td>0.074337</td>\n",
              "      <td>3.337605</td>\n",
              "      <td>0.011275</td>\n",
              "      <td>NaN</td>\n",
              "      <td>NaN</td>\n",
              "      <td>NaN</td>\n",
              "      <td>16.811426</td>\n",
              "      <td>0.069116</td>\n",
              "      <td>NaN</td>\n",
              "      <td>NaN</td>\n",
              "      <td>NaN</td>\n",
              "      <td>NaN</td>\n",
              "      <td>NaN</td>\n",
              "      <td>NaN</td>\n",
              "      <td>NaN</td>\n",
              "      <td>18.180280</td>\n",
              "      <td>0.031</td>\n",
              "      <td>18.739711</td>\n",
              "      <td>0.047</td>\n",
              "      <td>16.582489</td>\n",
              "      <td>0.178</td>\n",
              "      <td>15.513918</td>\n",
              "      <td>NaN</td>\n",
              "    </tr>\n",
              "    <tr>\n",
              "      <th>2</th>\n",
              "      <td>4929008</td>\n",
              "      <td>229.317800</td>\n",
              "      <td>10.181280</td>\n",
              "      <td>0.059361</td>\n",
              "      <td>2.528525</td>\n",
              "      <td>0.547619</td>\n",
              "      <td>88.666280</td>\n",
              "      <td>NaN</td>\n",
              "      <td>NaN</td>\n",
              "      <td>NaN</td>\n",
              "      <td>NaN</td>\n",
              "      <td>21.859837</td>\n",
              "      <td>0.369446</td>\n",
              "      <td>3.500000</td>\n",
              "      <td>0.190795</td>\n",
              "      <td>18.780715</td>\n",
              "      <td>0.046751</td>\n",
              "      <td>1.218059</td>\n",
              "      <td>0.180941</td>\n",
              "      <td>17.115493</td>\n",
              "      <td>0.013880</td>\n",
              "      <td>1.169020</td>\n",
              "      <td>0.101875</td>\n",
              "      <td>16.451456</td>\n",
              "      <td>0.013966</td>\n",
              "      <td>1.163245</td>\n",
              "      <td>0.047751</td>\n",
              "      <td>16.146245</td>\n",
              "      <td>0.014310</td>\n",
              "      <td>1.153531</td>\n",
              "      <td>0.011143</td>\n",
              "      <td>15.904148</td>\n",
              "      <td>0.016994</td>\n",
              "      <td>1.180392</td>\n",
              "      <td>0.007042</td>\n",
              "      <td>15.451216</td>\n",
              "      <td>0.007531</td>\n",
              "      <td>0.018961</td>\n",
              "      <td>15.260725</td>\n",
              "      <td>0.007872</td>\n",
              "      <td>-0.025315</td>\n",
              "      <td>15.072135</td>\n",
              "      <td>0.011905</td>\n",
              "      <td>0.003010</td>\n",
              "      <td>15.228353</td>\n",
              "      <td>0.011539</td>\n",
              "      <td>-0.126780</td>\n",
              "      <td>16.290263</td>\n",
              "      <td>0.014</td>\n",
              "      <td>16.903854</td>\n",
              "      <td>0.012</td>\n",
              "      <td>17.320075</td>\n",
              "      <td>NaN</td>\n",
              "      <td>15.222852</td>\n",
              "      <td>NaN</td>\n",
              "    </tr>\n",
              "    <tr>\n",
              "      <th>3</th>\n",
              "      <td>5085135</td>\n",
              "      <td>2.593309</td>\n",
              "      <td>18.374851</td>\n",
              "      <td>0.171086</td>\n",
              "      <td>7.360223</td>\n",
              "      <td>0.357204</td>\n",
              "      <td>18.848080</td>\n",
              "      <td>NaN</td>\n",
              "      <td>NaN</td>\n",
              "      <td>NaN</td>\n",
              "      <td>NaN</td>\n",
              "      <td>NaN</td>\n",
              "      <td>NaN</td>\n",
              "      <td>NaN</td>\n",
              "      <td>NaN</td>\n",
              "      <td>21.980644</td>\n",
              "      <td>1.283242</td>\n",
              "      <td>4.630747</td>\n",
              "      <td>-0.024583</td>\n",
              "      <td>22.601471</td>\n",
              "      <td>1.094536</td>\n",
              "      <td>1.439304</td>\n",
              "      <td>-0.029259</td>\n",
              "      <td>20.621648</td>\n",
              "      <td>0.139686</td>\n",
              "      <td>1.947570</td>\n",
              "      <td>-0.120074</td>\n",
              "      <td>19.969107</td>\n",
              "      <td>0.168316</td>\n",
              "      <td>1.497659</td>\n",
              "      <td>-0.223952</td>\n",
              "      <td>19.933580</td>\n",
              "      <td>0.531365</td>\n",
              "      <td>1.227112</td>\n",
              "      <td>0.019985</td>\n",
              "      <td>NaN</td>\n",
              "      <td>NaN</td>\n",
              "      <td>NaN</td>\n",
              "      <td>19.399256</td>\n",
              "      <td>0.210281</td>\n",
              "      <td>NaN</td>\n",
              "      <td>NaN</td>\n",
              "      <td>NaN</td>\n",
              "      <td>NaN</td>\n",
              "      <td>NaN</td>\n",
              "      <td>NaN</td>\n",
              "      <td>NaN</td>\n",
              "      <td>18.738589</td>\n",
              "      <td>0.037</td>\n",
              "      <td>19.273824</td>\n",
              "      <td>0.071</td>\n",
              "      <td>16.601845</td>\n",
              "      <td>NaN</td>\n",
              "      <td>14.857815</td>\n",
              "      <td>NaN</td>\n",
              "    </tr>\n",
              "    <tr>\n",
              "      <th>4</th>\n",
              "      <td>4953301</td>\n",
              "      <td>223.510943</td>\n",
              "      <td>30.590311</td>\n",
              "      <td>0.105039</td>\n",
              "      <td>3.675426</td>\n",
              "      <td>0.594037</td>\n",
              "      <td>79.198190</td>\n",
              "      <td>21.593038</td>\n",
              "      <td>0.334868</td>\n",
              "      <td>3.5000</td>\n",
              "      <td>-0.004249</td>\n",
              "      <td>21.018972</td>\n",
              "      <td>0.209499</td>\n",
              "      <td>3.500000</td>\n",
              "      <td>0.009463</td>\n",
              "      <td>19.679360</td>\n",
              "      <td>0.097814</td>\n",
              "      <td>1.821242</td>\n",
              "      <td>0.161748</td>\n",
              "      <td>18.287194</td>\n",
              "      <td>0.012582</td>\n",
              "      <td>1.791371</td>\n",
              "      <td>0.139702</td>\n",
              "      <td>17.605897</td>\n",
              "      <td>0.010579</td>\n",
              "      <td>1.730272</td>\n",
              "      <td>0.046276</td>\n",
              "      <td>17.199028</td>\n",
              "      <td>0.011134</td>\n",
              "      <td>1.591608</td>\n",
              "      <td>-0.000667</td>\n",
              "      <td>16.847751</td>\n",
              "      <td>0.032656</td>\n",
              "      <td>1.641510</td>\n",
              "      <td>0.021436</td>\n",
              "      <td>NaN</td>\n",
              "      <td>NaN</td>\n",
              "      <td>NaN</td>\n",
              "      <td>16.523225</td>\n",
              "      <td>0.040377</td>\n",
              "      <td>NaN</td>\n",
              "      <td>NaN</td>\n",
              "      <td>NaN</td>\n",
              "      <td>NaN</td>\n",
              "      <td>NaN</td>\n",
              "      <td>NaN</td>\n",
              "      <td>NaN</td>\n",
              "      <td>16.947873</td>\n",
              "      <td>0.071</td>\n",
              "      <td>16.945460</td>\n",
              "      <td>0.065</td>\n",
              "      <td>14.929433</td>\n",
              "      <td>0.029</td>\n",
              "      <td>13.848909</td>\n",
              "      <td>0.090</td>\n",
              "    </tr>\n",
              "    <tr>\n",
              "      <th>...</th>\n",
              "      <td>...</td>\n",
              "      <td>...</td>\n",
              "      <td>...</td>\n",
              "      <td>...</td>\n",
              "      <td>...</td>\n",
              "      <td>...</td>\n",
              "      <td>...</td>\n",
              "      <td>...</td>\n",
              "      <td>...</td>\n",
              "      <td>...</td>\n",
              "      <td>...</td>\n",
              "      <td>...</td>\n",
              "      <td>...</td>\n",
              "      <td>...</td>\n",
              "      <td>...</td>\n",
              "      <td>...</td>\n",
              "      <td>...</td>\n",
              "      <td>...</td>\n",
              "      <td>...</td>\n",
              "      <td>...</td>\n",
              "      <td>...</td>\n",
              "      <td>...</td>\n",
              "      <td>...</td>\n",
              "      <td>...</td>\n",
              "      <td>...</td>\n",
              "      <td>...</td>\n",
              "      <td>...</td>\n",
              "      <td>...</td>\n",
              "      <td>...</td>\n",
              "      <td>...</td>\n",
              "      <td>...</td>\n",
              "      <td>...</td>\n",
              "      <td>...</td>\n",
              "      <td>...</td>\n",
              "      <td>...</td>\n",
              "      <td>...</td>\n",
              "      <td>...</td>\n",
              "      <td>...</td>\n",
              "      <td>...</td>\n",
              "      <td>...</td>\n",
              "      <td>...</td>\n",
              "      <td>...</td>\n",
              "      <td>...</td>\n",
              "      <td>...</td>\n",
              "      <td>...</td>\n",
              "      <td>...</td>\n",
              "      <td>...</td>\n",
              "      <td>...</td>\n",
              "      <td>...</td>\n",
              "      <td>...</td>\n",
              "      <td>...</td>\n",
              "      <td>...</td>\n",
              "      <td>...</td>\n",
              "      <td>...</td>\n",
              "      <td>...</td>\n",
              "    </tr>\n",
              "    <tr>\n",
              "      <th>1652055</th>\n",
              "      <td>882789</td>\n",
              "      <td>41.771824</td>\n",
              "      <td>-26.326319</td>\n",
              "      <td>0.039340</td>\n",
              "      <td>4.282000</td>\n",
              "      <td>0.185675</td>\n",
              "      <td>49.725961</td>\n",
              "      <td>22.127898</td>\n",
              "      <td>0.225285</td>\n",
              "      <td>3.8083</td>\n",
              "      <td>0.182576</td>\n",
              "      <td>21.022361</td>\n",
              "      <td>0.098852</td>\n",
              "      <td>3.500000</td>\n",
              "      <td>NaN</td>\n",
              "      <td>NaN</td>\n",
              "      <td>NaN</td>\n",
              "      <td>NaN</td>\n",
              "      <td>NaN</td>\n",
              "      <td>20.012959</td>\n",
              "      <td>0.104666</td>\n",
              "      <td>NaN</td>\n",
              "      <td>0.608065</td>\n",
              "      <td>18.899818</td>\n",
              "      <td>0.038716</td>\n",
              "      <td>NaN</td>\n",
              "      <td>0.143761</td>\n",
              "      <td>18.201648</td>\n",
              "      <td>0.006626</td>\n",
              "      <td>3.960000</td>\n",
              "      <td>0.021834</td>\n",
              "      <td>18.305663</td>\n",
              "      <td>0.022567</td>\n",
              "      <td>NaN</td>\n",
              "      <td>0.015086</td>\n",
              "      <td>NaN</td>\n",
              "      <td>NaN</td>\n",
              "      <td>NaN</td>\n",
              "      <td>NaN</td>\n",
              "      <td>NaN</td>\n",
              "      <td>NaN</td>\n",
              "      <td>NaN</td>\n",
              "      <td>NaN</td>\n",
              "      <td>NaN</td>\n",
              "      <td>NaN</td>\n",
              "      <td>NaN</td>\n",
              "      <td>NaN</td>\n",
              "      <td>17.953354</td>\n",
              "      <td>0.021</td>\n",
              "      <td>18.249756</td>\n",
              "      <td>0.027</td>\n",
              "      <td>NaN</td>\n",
              "      <td>NaN</td>\n",
              "      <td>NaN</td>\n",
              "      <td>NaN</td>\n",
              "    </tr>\n",
              "    <tr>\n",
              "      <th>1652056</th>\n",
              "      <td>3809143</td>\n",
              "      <td>2.118993</td>\n",
              "      <td>17.437530</td>\n",
              "      <td>0.067905</td>\n",
              "      <td>7.530045</td>\n",
              "      <td>0.267341</td>\n",
              "      <td>-0.020800</td>\n",
              "      <td>NaN</td>\n",
              "      <td>NaN</td>\n",
              "      <td>NaN</td>\n",
              "      <td>NaN</td>\n",
              "      <td>NaN</td>\n",
              "      <td>NaN</td>\n",
              "      <td>NaN</td>\n",
              "      <td>NaN</td>\n",
              "      <td>18.384469</td>\n",
              "      <td>0.083983</td>\n",
              "      <td>5.173516</td>\n",
              "      <td>0.201118</td>\n",
              "      <td>16.820296</td>\n",
              "      <td>0.011034</td>\n",
              "      <td>3.166468</td>\n",
              "      <td>0.163659</td>\n",
              "      <td>15.940846</td>\n",
              "      <td>0.008213</td>\n",
              "      <td>3.125782</td>\n",
              "      <td>0.063800</td>\n",
              "      <td>15.565904</td>\n",
              "      <td>0.007487</td>\n",
              "      <td>2.890614</td>\n",
              "      <td>0.041873</td>\n",
              "      <td>15.273295</td>\n",
              "      <td>0.019930</td>\n",
              "      <td>2.757155</td>\n",
              "      <td>0.016281</td>\n",
              "      <td>NaN</td>\n",
              "      <td>NaN</td>\n",
              "      <td>NaN</td>\n",
              "      <td>15.035498</td>\n",
              "      <td>0.012558</td>\n",
              "      <td>NaN</td>\n",
              "      <td>NaN</td>\n",
              "      <td>NaN</td>\n",
              "      <td>NaN</td>\n",
              "      <td>NaN</td>\n",
              "      <td>NaN</td>\n",
              "      <td>NaN</td>\n",
              "      <td>NaN</td>\n",
              "      <td>NaN</td>\n",
              "      <td>NaN</td>\n",
              "      <td>NaN</td>\n",
              "      <td>17.058192</td>\n",
              "      <td>0.469</td>\n",
              "      <td>14.695871</td>\n",
              "      <td>NaN</td>\n",
              "    </tr>\n",
              "    <tr>\n",
              "      <th>1652057</th>\n",
              "      <td>862747</td>\n",
              "      <td>10.077710</td>\n",
              "      <td>-29.285906</td>\n",
              "      <td>0.264760</td>\n",
              "      <td>4.611480</td>\n",
              "      <td>0.013327</td>\n",
              "      <td>55.280522</td>\n",
              "      <td>21.737172</td>\n",
              "      <td>0.455351</td>\n",
              "      <td>3.5000</td>\n",
              "      <td>0.118857</td>\n",
              "      <td>20.832204</td>\n",
              "      <td>0.188371</td>\n",
              "      <td>3.500000</td>\n",
              "      <td>NaN</td>\n",
              "      <td>NaN</td>\n",
              "      <td>NaN</td>\n",
              "      <td>NaN</td>\n",
              "      <td>NaN</td>\n",
              "      <td>18.657043</td>\n",
              "      <td>0.031068</td>\n",
              "      <td>NaN</td>\n",
              "      <td>0.870919</td>\n",
              "      <td>17.341057</td>\n",
              "      <td>0.009339</td>\n",
              "      <td>NaN</td>\n",
              "      <td>0.261753</td>\n",
              "      <td>16.846022</td>\n",
              "      <td>0.003620</td>\n",
              "      <td>4.620000</td>\n",
              "      <td>0.090772</td>\n",
              "      <td>16.548414</td>\n",
              "      <td>0.004510</td>\n",
              "      <td>NaN</td>\n",
              "      <td>0.097325</td>\n",
              "      <td>16.418114</td>\n",
              "      <td>0.010377</td>\n",
              "      <td>0.107160</td>\n",
              "      <td>16.157946</td>\n",
              "      <td>0.007116</td>\n",
              "      <td>-0.057447</td>\n",
              "      <td>15.909260</td>\n",
              "      <td>0.009649</td>\n",
              "      <td>-0.044925</td>\n",
              "      <td>15.693851</td>\n",
              "      <td>0.009513</td>\n",
              "      <td>-0.488879</td>\n",
              "      <td>17.026283</td>\n",
              "      <td>0.053</td>\n",
              "      <td>17.362712</td>\n",
              "      <td>0.055</td>\n",
              "      <td>NaN</td>\n",
              "      <td>NaN</td>\n",
              "      <td>NaN</td>\n",
              "      <td>NaN</td>\n",
              "    </tr>\n",
              "    <tr>\n",
              "      <th>1652058</th>\n",
              "      <td>1260060</td>\n",
              "      <td>243.607075</td>\n",
              "      <td>52.124665</td>\n",
              "      <td>0.089299</td>\n",
              "      <td>5.706410</td>\n",
              "      <td>0.230866</td>\n",
              "      <td>166.169200</td>\n",
              "      <td>NaN</td>\n",
              "      <td>NaN</td>\n",
              "      <td>NaN</td>\n",
              "      <td>NaN</td>\n",
              "      <td>NaN</td>\n",
              "      <td>NaN</td>\n",
              "      <td>NaN</td>\n",
              "      <td>NaN</td>\n",
              "      <td>19.102940</td>\n",
              "      <td>0.088533</td>\n",
              "      <td>2.893379</td>\n",
              "      <td>0.266545</td>\n",
              "      <td>17.278368</td>\n",
              "      <td>0.015625</td>\n",
              "      <td>2.611554</td>\n",
              "      <td>0.221352</td>\n",
              "      <td>16.367894</td>\n",
              "      <td>0.012941</td>\n",
              "      <td>2.404105</td>\n",
              "      <td>0.080145</td>\n",
              "      <td>15.951616</td>\n",
              "      <td>0.012442</td>\n",
              "      <td>2.341217</td>\n",
              "      <td>0.047606</td>\n",
              "      <td>15.633123</td>\n",
              "      <td>0.024133</td>\n",
              "      <td>2.227434</td>\n",
              "      <td>0.019578</td>\n",
              "      <td>NaN</td>\n",
              "      <td>NaN</td>\n",
              "      <td>NaN</td>\n",
              "      <td>NaN</td>\n",
              "      <td>NaN</td>\n",
              "      <td>NaN</td>\n",
              "      <td>NaN</td>\n",
              "      <td>NaN</td>\n",
              "      <td>NaN</td>\n",
              "      <td>NaN</td>\n",
              "      <td>NaN</td>\n",
              "      <td>NaN</td>\n",
              "      <td>16.083211</td>\n",
              "      <td>0.013</td>\n",
              "      <td>16.726668</td>\n",
              "      <td>0.011</td>\n",
              "      <td>17.208479</td>\n",
              "      <td>0.198</td>\n",
              "      <td>15.628917</td>\n",
              "      <td>0.341</td>\n",
              "    </tr>\n",
              "    <tr>\n",
              "      <th>1652059</th>\n",
              "      <td>662134</td>\n",
              "      <td>236.239167</td>\n",
              "      <td>35.202214</td>\n",
              "      <td>0.115470</td>\n",
              "      <td>6.355083</td>\n",
              "      <td>0.349870</td>\n",
              "      <td>26.809999</td>\n",
              "      <td>NaN</td>\n",
              "      <td>NaN</td>\n",
              "      <td>NaN</td>\n",
              "      <td>NaN</td>\n",
              "      <td>NaN</td>\n",
              "      <td>NaN</td>\n",
              "      <td>NaN</td>\n",
              "      <td>NaN</td>\n",
              "      <td>20.155868</td>\n",
              "      <td>0.143358</td>\n",
              "      <td>1.621265</td>\n",
              "      <td>0.275340</td>\n",
              "      <td>18.496951</td>\n",
              "      <td>0.030774</td>\n",
              "      <td>1.449802</td>\n",
              "      <td>0.273458</td>\n",
              "      <td>17.574438</td>\n",
              "      <td>0.047242</td>\n",
              "      <td>1.393514</td>\n",
              "      <td>0.092335</td>\n",
              "      <td>17.237055</td>\n",
              "      <td>0.137484</td>\n",
              "      <td>1.311525</td>\n",
              "      <td>0.029332</td>\n",
              "      <td>17.041413</td>\n",
              "      <td>0.241192</td>\n",
              "      <td>1.183255</td>\n",
              "      <td>-0.016632</td>\n",
              "      <td>NaN</td>\n",
              "      <td>NaN</td>\n",
              "      <td>NaN</td>\n",
              "      <td>16.636427</td>\n",
              "      <td>0.022439</td>\n",
              "      <td>NaN</td>\n",
              "      <td>NaN</td>\n",
              "      <td>NaN</td>\n",
              "      <td>NaN</td>\n",
              "      <td>NaN</td>\n",
              "      <td>NaN</td>\n",
              "      <td>NaN</td>\n",
              "      <td>17.766105</td>\n",
              "      <td>0.022</td>\n",
              "      <td>18.380988</td>\n",
              "      <td>0.027</td>\n",
              "      <td>17.898328</td>\n",
              "      <td>NaN</td>\n",
              "      <td>15.106893</td>\n",
              "      <td>NaN</td>\n",
              "    </tr>\n",
              "  </tbody>\n",
              "</table>\n",
              "<p>1652060 rows × 55 columns</p>\n",
              "</div>"
            ],
            "text/plain": [
              "         r2id_obj      ra_obj    dec_obj  ...  w3_err         w4  w4_err\n",
              "0         4964732  119.429449  52.995309  ...     NaN  15.125856     NaN\n",
              "1         4984675  171.950334  34.842062  ...   0.178  15.513918     NaN\n",
              "2         4929008  229.317800  10.181280  ...     NaN  15.222852     NaN\n",
              "3         5085135    2.593309  18.374851  ...     NaN  14.857815     NaN\n",
              "4         4953301  223.510943  30.590311  ...   0.029  13.848909   0.090\n",
              "...           ...         ...        ...  ...     ...        ...     ...\n",
              "1652055    882789   41.771824 -26.326319  ...     NaN        NaN     NaN\n",
              "1652056   3809143    2.118993  17.437530  ...   0.469  14.695871     NaN\n",
              "1652057    862747   10.077710 -29.285906  ...     NaN        NaN     NaN\n",
              "1652058   1260060  243.607075  52.124665  ...   0.198  15.628917   0.341\n",
              "1652059    662134  236.239167  35.202214  ...     NaN  15.106893     NaN\n",
              "\n",
              "[1652060 rows x 55 columns]"
            ]
          },
          "metadata": {
            "tags": []
          },
          "execution_count": 52
        }
      ]
    },
    {
      "cell_type": "code",
      "metadata": {
        "colab": {
          "base_uri": "https://localhost:8080/",
          "height": 494
        },
        "id": "HEyVUzZyBEZs",
        "outputId": "c1c58df8-e986-4916-b896-ce3eb9b6cca7"
      },
      "source": [
        "sns.heatmap(data.corr())\n",
        "plt.show()"
      ],
      "execution_count": null,
      "outputs": [
        {
          "output_type": "display_data",
          "data": {
            "image/png": "[encoded data removed]",
            "text/plain": [
              "<Figure size 640x480 with 3 Axes>"
            ]
          },
          "metadata": {
            "tags": []
          }
        }
      ]
    },
    {
      "cell_type": "markdown",
      "metadata": {
        "id": "2qk1iAnKMicP"
      },
      "source": [
        "**Feature importance**"
      ]
    },
    {
      "cell_type": "code",
      "metadata": {
        "colab": {
          "base_uri": "https://localhost:8080/",
          "height": 685
        },
        "id": "kogL2jANMrap",
        "outputId": "1fffbfaf-5e14-4da3-ea1b-15ec9e8d0dff"
      },
      "source": [
        "most_important_features = feature_importance(random_forest_model)"
      ],
      "execution_count": null,
      "outputs": [
        {
          "output_type": "stream",
          "text": [
            "Column: redshift, Feature: 3,  Score: 0.15536\n",
            "Column: kcorr_u, Feature: 18,  Score: 0.01836\n",
            "Column: kcorr_g, Feature: 22,  Score: 0.45550\n",
            "Column: r, Feature: 23,  Score: 0.01496\n",
            "Column: kcorr_r, Feature: 26,  Score: 0.01715\n",
            "Column: i, Feature: 27,  Score: 0.02958\n",
            "Column: kcorr_i, Feature: 30,  Score: 0.00507\n",
            "Column: z, Feature: 31,  Score: 0.16199\n",
            "Column: w1, Feature: 47,  Score: 0.00505\n",
            "Column: w2, Feature: 49,  Score: 0.05424\n",
            "Column: w3, Feature: 51,  Score: 0.01852\n"
          ],
          "name": "stdout"
        },
        {
          "output_type": "display_data",
          "data": {
            "image/png": "[encoded data removed]",
            "text/plain": [
              "<Figure size 640x480 with 1 Axes>"
            ]
          },
          "metadata": {
            "tags": []
          }
        }
      ]
    },
    {
      "cell_type": "markdown",
      "metadata": {
        "id": "n0Yqm3L-mlgM"
      },
      "source": [
        "**Сomparison of three models**"
      ]
    },
    {
      "cell_type": "code",
      "metadata": {
        "colab": {
          "base_uri": "https://localhost:8080/",
          "height": 244
        },
        "id": "XXRha6z2du3e",
        "outputId": "ed16bed5-28d3-4881-86ab-eec607f47dbb"
      },
      "source": [
        "#table\n",
        "res_table = {'names' : ['variational layer model', 'random forest model', 'boosting model'], 'train' : [simple_model_train_r2, random_forest_model_train_r2, boost_model_train_r2], 'test' : [simple_model_test_r2, random_forest_model_test_r2, boost_model_test_r2]}\n",
        "res_table = pd.DataFrame(res_table)\n",
        "res_table"
      ],
      "execution_count": null,
      "outputs": [
        {
          "output_type": "error",
          "ename": "NameError",
          "evalue": "ignored",
          "traceback": [
            "\u001b[0;31m---------------------------------------------------------------------------\u001b[0m",
            "\u001b[0;31mNameError\u001b[0m                                 Traceback (most recent call last)",
            "\u001b[0;32m<ipython-input-65-82560cf971d2>\u001b[0m in \u001b[0;36m<module>\u001b[0;34m()\u001b[0m\n\u001b[1;32m      1\u001b[0m \u001b[0;31m#table\u001b[0m\u001b[0;34m\u001b[0m\u001b[0;34m\u001b[0m\u001b[0;34m\u001b[0m\u001b[0m\n\u001b[0;32m----> 2\u001b[0;31m \u001b[0mres_table\u001b[0m \u001b[0;34m=\u001b[0m \u001b[0;34m{\u001b[0m\u001b[0;34m'names'\u001b[0m \u001b[0;34m:\u001b[0m \u001b[0;34m[\u001b[0m\u001b[0;34m'variational layer model'\u001b[0m\u001b[0;34m,\u001b[0m \u001b[0;34m'random forest model'\u001b[0m\u001b[0;34m,\u001b[0m \u001b[0;34m'boosting model'\u001b[0m\u001b[0;34m]\u001b[0m\u001b[0;34m,\u001b[0m \u001b[0;34m'train'\u001b[0m \u001b[0;34m:\u001b[0m \u001b[0;34m[\u001b[0m\u001b[0msimple_model_train_r2\u001b[0m\u001b[0;34m,\u001b[0m \u001b[0mrandom_forest_model_train_r2\u001b[0m\u001b[0;34m,\u001b[0m \u001b[0mboost_model_train_r2\u001b[0m\u001b[0;34m]\u001b[0m\u001b[0;34m,\u001b[0m \u001b[0;34m'test'\u001b[0m \u001b[0;34m:\u001b[0m \u001b[0;34m[\u001b[0m\u001b[0msimple_model_test_r2\u001b[0m\u001b[0;34m,\u001b[0m \u001b[0mrandom_forest_model_test_r2\u001b[0m\u001b[0;34m,\u001b[0m \u001b[0mboost_model_test_r2\u001b[0m\u001b[0;34m]\u001b[0m\u001b[0;34m}\u001b[0m\u001b[0;34m\u001b[0m\u001b[0;34m\u001b[0m\u001b[0m\n\u001b[0m\u001b[1;32m      3\u001b[0m \u001b[0mres_table\u001b[0m \u001b[0;34m=\u001b[0m \u001b[0mpd\u001b[0m\u001b[0;34m.\u001b[0m\u001b[0mDataFrame\u001b[0m\u001b[0;34m(\u001b[0m\u001b[0mres_table\u001b[0m\u001b[0;34m)\u001b[0m\u001b[0;34m\u001b[0m\u001b[0;34m\u001b[0m\u001b[0m\n\u001b[1;32m      4\u001b[0m \u001b[0mres_table\u001b[0m\u001b[0;34m\u001b[0m\u001b[0;34m\u001b[0m\u001b[0m\n",
            "\u001b[0;31mNameError\u001b[0m: name 'simple_model_train_r2' is not defined"
          ]
        }
      ]
    },
    {
      "cell_type": "markdown",
      "metadata": {
        "id": "5N47lZSgrpNE"
      },
      "source": [
        "**Masses hist**"
      ]
    },
    {
      "cell_type": "code",
      "metadata": {
        "id": "YxU0Yoo2rlyF",
        "colab": {
          "base_uri": "https://localhost:8080/",
          "height": 567
        },
        "outputId": "28d0d351-ffc3-44be-c8bb-f3d68916a25d"
      },
      "source": [
        "make_all_hist(random_forest_model, y_train, y_test, data, mask)"
      ],
      "execution_count": null,
      "outputs": [
        {
          "output_type": "stream",
          "text": [
            "/usr/local/lib/python3.7/dist-packages/seaborn/distributions.py:2557: FutureWarning: `distplot` is a deprecated function and will be removed in a future version. Please adapt your code to use either `displot` (a figure-level function with similar flexibility) or `histplot` (an axes-level function for histograms).\n",
            "  warnings.warn(msg, FutureWarning)\n",
            "/usr/local/lib/python3.7/dist-packages/seaborn/distributions.py:2557: FutureWarning: `distplot` is a deprecated function and will be removed in a future version. Please adapt your code to use either `displot` (a figure-level function with similar flexibility) or `histplot` (an axes-level function for histograms).\n",
            "  warnings.warn(msg, FutureWarning)\n",
            "/usr/local/lib/python3.7/dist-packages/seaborn/distributions.py:2557: FutureWarning: `distplot` is a deprecated function and will be removed in a future version. Please adapt your code to use either `displot` (a figure-level function with similar flexibility) or `histplot` (an axes-level function for histograms).\n",
            "  warnings.warn(msg, FutureWarning)\n"
          ],
          "name": "stderr"
        },
        {
          "output_type": "display_data",
          "data": {
            "image/png": "[encoded data removed]",
            "text/plain": [
              "<Figure size 640x480 with 1 Axes>"
            ]
          },
          "metadata": {
            "tags": []
          }
        }
      ]
    },
    {
      "cell_type": "code",
      "metadata": {
        "id": "rmpgHKv0Jg6h"
      },
      "source": [
        "other_mask = 1 -  mask\n",
        "other_mask = other_mask.astype('bool')\n",
        "X_other = data[other_mask]\n",
        "X_other = X_other.reset_index()\n",
        "X_other = X_other.drop(columns=['index'])\n",
        "X_other = X_other.fillna(X_other.mean())"
      ],
      "execution_count": null,
      "outputs": []
    },
    {
      "cell_type": "code",
      "metadata": {
        "colab": {
          "base_uri": "https://localhost:8080/",
          "height": 300
        },
        "id": "SIUNmcOAGEuc",
        "outputId": "4933be0f-6c9d-4d49-c602-15d8344d957e"
      },
      "source": [
        "sns.distplot(X_other['redshift'], label='pred', hist=False)\n",
        "sns.distplot(X_train['redshift'], label='train',hist=False)\n",
        "sns.distplot(X_test['redshift'], label='test', hist=False)\n",
        "plt.legend(loc='upper left')\n",
        "plt.show()"
      ],
      "execution_count": null,
      "outputs": [
        {
          "output_type": "stream",
          "text": [
            "/usr/local/lib/python3.7/dist-packages/seaborn/distributions.py:2557: FutureWarning: `distplot` is a deprecated function and will be removed in a future version. Please adapt your code to use either `displot` (a figure-level function with similar flexibility) or `kdeplot` (an axes-level function for kernel density plots).\n",
            "  warnings.warn(msg, FutureWarning)\n"
          ],
          "name": "stderr"
        },
        {
          "output_type": "error",
          "ename": "IndexError",
          "evalue": "ignored",
          "traceback": [
            "\u001b[0;31m---------------------------------------------------------------------------\u001b[0m",
            "\u001b[0;31mIndexError\u001b[0m                                Traceback (most recent call last)",
            "\u001b[0;32m<ipython-input-68-38da3912d459>\u001b[0m in \u001b[0;36m<module>\u001b[0;34m()\u001b[0m\n\u001b[1;32m      1\u001b[0m \u001b[0msns\u001b[0m\u001b[0;34m.\u001b[0m\u001b[0mdistplot\u001b[0m\u001b[0;34m(\u001b[0m\u001b[0mX_other\u001b[0m\u001b[0;34m[\u001b[0m\u001b[0;34m'redshift'\u001b[0m\u001b[0;34m]\u001b[0m\u001b[0;34m,\u001b[0m \u001b[0mlabel\u001b[0m\u001b[0;34m=\u001b[0m\u001b[0;34m'pred'\u001b[0m\u001b[0;34m,\u001b[0m \u001b[0mhist\u001b[0m\u001b[0;34m=\u001b[0m\u001b[0;32mFalse\u001b[0m\u001b[0;34m)\u001b[0m\u001b[0;34m\u001b[0m\u001b[0;34m\u001b[0m\u001b[0m\n\u001b[0;32m----> 2\u001b[0;31m \u001b[0msns\u001b[0m\u001b[0;34m.\u001b[0m\u001b[0mdistplot\u001b[0m\u001b[0;34m(\u001b[0m\u001b[0mX_train\u001b[0m\u001b[0;34m[\u001b[0m\u001b[0;34m'redshift'\u001b[0m\u001b[0;34m]\u001b[0m\u001b[0;34m,\u001b[0m \u001b[0mlabel\u001b[0m\u001b[0;34m=\u001b[0m\u001b[0;34m'train'\u001b[0m\u001b[0;34m,\u001b[0m\u001b[0mhist\u001b[0m\u001b[0;34m=\u001b[0m\u001b[0;32mFalse\u001b[0m\u001b[0;34m)\u001b[0m\u001b[0;34m\u001b[0m\u001b[0;34m\u001b[0m\u001b[0m\n\u001b[0m\u001b[1;32m      3\u001b[0m \u001b[0msns\u001b[0m\u001b[0;34m.\u001b[0m\u001b[0mdistplot\u001b[0m\u001b[0;34m(\u001b[0m\u001b[0mX_test\u001b[0m\u001b[0;34m[\u001b[0m\u001b[0;34m'redshift'\u001b[0m\u001b[0;34m]\u001b[0m\u001b[0;34m,\u001b[0m \u001b[0mlabel\u001b[0m\u001b[0;34m=\u001b[0m\u001b[0;34m'test'\u001b[0m\u001b[0;34m,\u001b[0m \u001b[0mhist\u001b[0m\u001b[0;34m=\u001b[0m\u001b[0;32mFalse\u001b[0m\u001b[0;34m)\u001b[0m\u001b[0;34m\u001b[0m\u001b[0;34m\u001b[0m\u001b[0m\n\u001b[1;32m      4\u001b[0m \u001b[0mplt\u001b[0m\u001b[0;34m.\u001b[0m\u001b[0mlegend\u001b[0m\u001b[0;34m(\u001b[0m\u001b[0mloc\u001b[0m\u001b[0;34m=\u001b[0m\u001b[0;34m'upper left'\u001b[0m\u001b[0;34m)\u001b[0m\u001b[0;34m\u001b[0m\u001b[0;34m\u001b[0m\u001b[0m\n\u001b[1;32m      5\u001b[0m \u001b[0mplt\u001b[0m\u001b[0;34m.\u001b[0m\u001b[0mshow\u001b[0m\u001b[0;34m(\u001b[0m\u001b[0;34m)\u001b[0m\u001b[0;34m\u001b[0m\u001b[0;34m\u001b[0m\u001b[0m\n",
            "\u001b[0;31mIndexError\u001b[0m: only integers, slices (`:`), ellipsis (`...`), numpy.newaxis (`None`) and integer or boolean arrays are valid indices"
          ]
        }
      ]
    },
    {
      "cell_type": "code",
      "metadata": {
        "id": "Mox1SBkJIu-J"
      },
      "source": [
        "plt.plot(x, y, '-ok');"
      ],
      "execution_count": null,
      "outputs": []
    },
    {
      "cell_type": "markdown",
      "metadata": {
        "id": "rybpUx6twklc"
      },
      "source": [
        "**Add new features made of important features + new regression**"
      ]
    },
    {
      "cell_type": "code",
      "metadata": {
        "id": "8E1BdDxuwxrs",
        "colab": {
          "base_uri": "https://localhost:8080/",
          "height": 407
        },
        "outputId": "da71a45f-d86a-4fd6-cb16-0190a30275c6"
      },
      "source": [
        "#most_important_features - names of important features\n",
        "new_data = pd.DataFrame()\n",
        "for i in data.columns:\n",
        "  if i in most_important_features:\n",
        "    new_data[i] = data[i]\n",
        "new_data"
      ],
      "execution_count": null,
      "outputs": [
        {
          "output_type": "execute_result",
          "data": {
            "text/html": [
              "<div>\n",
              "<style scoped>\n",
              "    .dataframe tbody tr th:only-of-type {\n",
              "        vertical-align: middle;\n",
              "    }\n",
              "\n",
              "    .dataframe tbody tr th {\n",
              "        vertical-align: top;\n",
              "    }\n",
              "\n",
              "    .dataframe thead th {\n",
              "        text-align: right;\n",
              "    }\n",
              "</style>\n",
              "<table border=\"1\" class=\"dataframe\">\n",
              "  <thead>\n",
              "    <tr style=\"text-align: right;\">\n",
              "      <th></th>\n",
              "      <th>redshift</th>\n",
              "      <th>kcorr_u</th>\n",
              "      <th>kcorr_g</th>\n",
              "      <th>r</th>\n",
              "      <th>kcorr_r</th>\n",
              "      <th>i</th>\n",
              "      <th>kcorr_i</th>\n",
              "      <th>z</th>\n",
              "      <th>w1</th>\n",
              "      <th>w2</th>\n",
              "      <th>w3</th>\n",
              "    </tr>\n",
              "  </thead>\n",
              "  <tbody>\n",
              "    <tr>\n",
              "      <th>0</th>\n",
              "      <td>0.169052</td>\n",
              "      <td>0.294785</td>\n",
              "      <td>0.515064</td>\n",
              "      <td>17.386399</td>\n",
              "      <td>0.168766</td>\n",
              "      <td>16.935629</td>\n",
              "      <td>0.083567</td>\n",
              "      <td>16.613500</td>\n",
              "      <td>17.262477</td>\n",
              "      <td>17.720986</td>\n",
              "      <td>17.344103</td>\n",
              "    </tr>\n",
              "    <tr>\n",
              "      <th>1</th>\n",
              "      <td>0.042331</td>\n",
              "      <td>0.121685</td>\n",
              "      <td>0.053598</td>\n",
              "      <td>17.433048</td>\n",
              "      <td>0.036475</td>\n",
              "      <td>17.175305</td>\n",
              "      <td>0.000419</td>\n",
              "      <td>16.878486</td>\n",
              "      <td>18.180280</td>\n",
              "      <td>18.739711</td>\n",
              "      <td>16.582489</td>\n",
              "    </tr>\n",
              "    <tr>\n",
              "      <th>2</th>\n",
              "      <td>0.059361</td>\n",
              "      <td>0.180941</td>\n",
              "      <td>0.101875</td>\n",
              "      <td>16.451456</td>\n",
              "      <td>0.047751</td>\n",
              "      <td>16.146245</td>\n",
              "      <td>0.011143</td>\n",
              "      <td>15.904148</td>\n",
              "      <td>16.290263</td>\n",
              "      <td>16.903854</td>\n",
              "      <td>17.320075</td>\n",
              "    </tr>\n",
              "    <tr>\n",
              "      <th>3</th>\n",
              "      <td>0.171086</td>\n",
              "      <td>-0.024583</td>\n",
              "      <td>-0.029259</td>\n",
              "      <td>20.621648</td>\n",
              "      <td>-0.120074</td>\n",
              "      <td>19.969107</td>\n",
              "      <td>-0.223952</td>\n",
              "      <td>19.933580</td>\n",
              "      <td>18.738589</td>\n",
              "      <td>19.273824</td>\n",
              "      <td>16.601845</td>\n",
              "    </tr>\n",
              "    <tr>\n",
              "      <th>4</th>\n",
              "      <td>0.105039</td>\n",
              "      <td>0.161748</td>\n",
              "      <td>0.139702</td>\n",
              "      <td>17.605897</td>\n",
              "      <td>0.046276</td>\n",
              "      <td>17.199028</td>\n",
              "      <td>-0.000667</td>\n",
              "      <td>16.847751</td>\n",
              "      <td>16.947873</td>\n",
              "      <td>16.945460</td>\n",
              "      <td>14.929433</td>\n",
              "    </tr>\n",
              "    <tr>\n",
              "      <th>...</th>\n",
              "      <td>...</td>\n",
              "      <td>...</td>\n",
              "      <td>...</td>\n",
              "      <td>...</td>\n",
              "      <td>...</td>\n",
              "      <td>...</td>\n",
              "      <td>...</td>\n",
              "      <td>...</td>\n",
              "      <td>...</td>\n",
              "      <td>...</td>\n",
              "      <td>...</td>\n",
              "    </tr>\n",
              "    <tr>\n",
              "      <th>1652055</th>\n",
              "      <td>0.039340</td>\n",
              "      <td>NaN</td>\n",
              "      <td>0.608065</td>\n",
              "      <td>18.899818</td>\n",
              "      <td>0.143761</td>\n",
              "      <td>18.201648</td>\n",
              "      <td>0.021834</td>\n",
              "      <td>18.305663</td>\n",
              "      <td>17.953354</td>\n",
              "      <td>18.249756</td>\n",
              "      <td>NaN</td>\n",
              "    </tr>\n",
              "    <tr>\n",
              "      <th>1652056</th>\n",
              "      <td>0.067905</td>\n",
              "      <td>0.201118</td>\n",
              "      <td>0.163659</td>\n",
              "      <td>15.940846</td>\n",
              "      <td>0.063800</td>\n",
              "      <td>15.565904</td>\n",
              "      <td>0.041873</td>\n",
              "      <td>15.273295</td>\n",
              "      <td>NaN</td>\n",
              "      <td>NaN</td>\n",
              "      <td>17.058192</td>\n",
              "    </tr>\n",
              "    <tr>\n",
              "      <th>1652057</th>\n",
              "      <td>0.264760</td>\n",
              "      <td>NaN</td>\n",
              "      <td>0.870919</td>\n",
              "      <td>17.341057</td>\n",
              "      <td>0.261753</td>\n",
              "      <td>16.846022</td>\n",
              "      <td>0.090772</td>\n",
              "      <td>16.548414</td>\n",
              "      <td>17.026283</td>\n",
              "      <td>17.362712</td>\n",
              "      <td>NaN</td>\n",
              "    </tr>\n",
              "    <tr>\n",
              "      <th>1652058</th>\n",
              "      <td>0.089299</td>\n",
              "      <td>0.266545</td>\n",
              "      <td>0.221352</td>\n",
              "      <td>16.367894</td>\n",
              "      <td>0.080145</td>\n",
              "      <td>15.951616</td>\n",
              "      <td>0.047606</td>\n",
              "      <td>15.633123</td>\n",
              "      <td>16.083211</td>\n",
              "      <td>16.726668</td>\n",
              "      <td>17.208479</td>\n",
              "    </tr>\n",
              "    <tr>\n",
              "      <th>1652059</th>\n",
              "      <td>0.115470</td>\n",
              "      <td>0.275340</td>\n",
              "      <td>0.273458</td>\n",
              "      <td>17.574438</td>\n",
              "      <td>0.092335</td>\n",
              "      <td>17.237055</td>\n",
              "      <td>0.029332</td>\n",
              "      <td>17.041413</td>\n",
              "      <td>17.766105</td>\n",
              "      <td>18.380988</td>\n",
              "      <td>17.898328</td>\n",
              "    </tr>\n",
              "  </tbody>\n",
              "</table>\n",
              "<p>1652060 rows × 11 columns</p>\n",
              "</div>"
            ],
            "text/plain": [
              "         redshift   kcorr_u   kcorr_g  ...         w1         w2         w3\n",
              "0        0.169052  0.294785  0.515064  ...  17.262477  17.720986  17.344103\n",
              "1        0.042331  0.121685  0.053598  ...  18.180280  18.739711  16.582489\n",
              "2        0.059361  0.180941  0.101875  ...  16.290263  16.903854  17.320075\n",
              "3        0.171086 -0.024583 -0.029259  ...  18.738589  19.273824  16.601845\n",
              "4        0.105039  0.161748  0.139702  ...  16.947873  16.945460  14.929433\n",
              "...           ...       ...       ...  ...        ...        ...        ...\n",
              "1652055  0.039340       NaN  0.608065  ...  17.953354  18.249756        NaN\n",
              "1652056  0.067905  0.201118  0.163659  ...        NaN        NaN  17.058192\n",
              "1652057  0.264760       NaN  0.870919  ...  17.026283  17.362712        NaN\n",
              "1652058  0.089299  0.266545  0.221352  ...  16.083211  16.726668  17.208479\n",
              "1652059  0.115470  0.275340  0.273458  ...  17.766105  18.380988  17.898328\n",
              "\n",
              "[1652060 rows x 11 columns]"
            ]
          },
          "metadata": {
            "tags": []
          },
          "execution_count": 70
        }
      ]
    },
    {
      "cell_type": "code",
      "metadata": {
        "id": "NhfiK81N7r_8"
      },
      "source": [
        "poly = PolynomialFeatures(2)"
      ],
      "execution_count": null,
      "outputs": []
    },
    {
      "cell_type": "code",
      "metadata": {
        "id": "9UjooTMawj5I"
      },
      "source": [
        "mask = ~masses['logMstar_gal'].isna()\n",
        "new_y = masses[mask]\n",
        "new_y = new_y.reset_index()\n",
        "new_y = new_y.drop(columns=['index'])\n",
        "new_X = new_data[mask]\n",
        "new_X = new_X.reset_index()\n",
        "new_X = new_X.drop(columns=['index'])\n",
        "new_X = new_X.fillna(new_X.mean())"
      ],
      "execution_count": null,
      "outputs": []
    },
    {
      "cell_type": "code",
      "metadata": {
        "id": "UsNbSnT17vWY"
      },
      "source": [
        "new_X_transf = poly.fit_transform(new_X)"
      ],
      "execution_count": null,
      "outputs": []
    },
    {
      "cell_type": "code",
      "metadata": {
        "id": "zF36e6xA_zBo"
      },
      "source": [
        "X_train_new, X_test_new, y_train_new, y_test_new = split_data(new_X_transf, new_y)"
      ],
      "execution_count": null,
      "outputs": []
    },
    {
      "cell_type": "code",
      "metadata": {
        "id": "pT1VPjZcAk8z"
      },
      "source": [
        "X_train_new, X_test_new = scale_data(X_train_new, X_test_new)"
      ],
      "execution_count": null,
      "outputs": []
    },
    {
      "cell_type": "code",
      "metadata": {
        "colab": {
          "base_uri": "https://localhost:8080/",
          "height": 372,
          "referenced_widgets": [
            "6a67d5d98e4043549b5e6c9df01ebb48",
            "774973ac679d47ccbc9698e43e66c40d",
            "21d5b8ed96b643b88c20111bd1fb7091",
            "7eeba1d9299d4d769f6ec75c29495416",
            "fdcaa9bb1b5f4ed8bc6fbe79c76cf2b8",
            "4c9275c833b8410a8eb74f1d3011deb6",
            "b4fd55b94dd042399ba7edebb57b4ef8",
            "58996d463f3e45ccbf695e84976959ec",
            "46652336e57a46558498dedb3517ef75",
            "cb8d32b2fefb4fbea6df7113e19af1db",
            "f28b357366594e0196e185bce2a3067d",
            "1afbc3078ee3440ba8414151f2032da7",
            "a253a4c785c24d6095bd6b394261a333",
            "74fde65b9bb943d08c10ccafe8866e68",
            "661f0d4e9a7e4760a34d9c7798548677",
            "4c832c522b754a73a584ea968486c479"
          ]
        },
        "id": "sgCrjFYNA-8o",
        "outputId": "2a9e7864-fcec-42fc-c48e-9b4878ca87aa"
      },
      "source": [
        "new_random_forest_model = boosting_model(X_train_new, X_test_new, y_train_new, y_test_new)"
      ],
      "execution_count": null,
      "outputs": [
        {
          "output_type": "stream",
          "text": [
            "/usr/local/lib/python3.7/dist-packages/ipykernel_launcher.py:6: TqdmDeprecationWarning: This function will be removed in tqdm==5.0.0\n",
            "Please use `tqdm.notebook.tqdm` instead of `tqdm.tqdm_notebook`\n",
            "  \n"
          ],
          "name": "stderr"
        },
        {
          "output_type": "display_data",
          "data": {
            "application/vnd.jupyter.widget-view+json": {
              "model_id": "6a67d5d98e4043549b5e6c9df01ebb48",
              "version_minor": 0,
              "version_major": 2
            },
            "text/plain": [
              "HBox(children=(FloatProgress(value=0.0, max=4.0), HTML(value='')))"
            ]
          },
          "metadata": {
            "tags": []
          }
        },
        {
          "output_type": "stream",
          "text": [
            "[10:54:32] WARNING: /workspace/src/objective/regression_obj.cu:152: reg:linear is now deprecated in favor of reg:squarederror.\n",
            "[10:56:17] WARNING: /workspace/src/objective/regression_obj.cu:152: reg:linear is now deprecated in favor of reg:squarederror.\n",
            "[10:59:41] WARNING: /workspace/src/objective/regression_obj.cu:152: reg:linear is now deprecated in favor of reg:squarederror.\n",
            "[11:04:47] WARNING: /workspace/src/objective/regression_obj.cu:152: reg:linear is now deprecated in favor of reg:squarederror.\n",
            "\n"
          ],
          "name": "stdout"
        },
        {
          "output_type": "stream",
          "text": [
            "/usr/local/lib/python3.7/dist-packages/ipykernel_launcher.py:20: TqdmDeprecationWarning: This function will be removed in tqdm==5.0.0\n",
            "Please use `tqdm.notebook.tqdm` instead of `tqdm.tqdm_notebook`\n"
          ],
          "name": "stderr"
        },
        {
          "output_type": "display_data",
          "data": {
            "application/vnd.jupyter.widget-view+json": {
              "model_id": "46652336e57a46558498dedb3517ef75",
              "version_minor": 0,
              "version_major": 2
            },
            "text/plain": [
              "HBox(children=(FloatProgress(value=0.0, max=5.0), HTML(value='')))"
            ]
          },
          "metadata": {
            "tags": []
          }
        },
        {
          "output_type": "stream",
          "text": [
            "[11:11:32] WARNING: /workspace/src/objective/regression_obj.cu:152: reg:linear is now deprecated in favor of reg:squarederror.\n",
            "[11:18:21] WARNING: /workspace/src/objective/regression_obj.cu:152: reg:linear is now deprecated in favor of reg:squarederror.\n",
            "[11:25:06] WARNING: /workspace/src/objective/regression_obj.cu:152: reg:linear is now deprecated in favor of reg:squarederror.\n",
            "[11:31:52] WARNING: /workspace/src/objective/regression_obj.cu:152: reg:linear is now deprecated in favor of reg:squarederror.\n",
            "[11:38:27] WARNING: /workspace/src/objective/regression_obj.cu:152: reg:linear is now deprecated in favor of reg:squarederror.\n",
            "\n"
          ],
          "name": "stdout"
        }
      ]
    },
    {
      "cell_type": "code",
      "metadata": {
        "colab": {
          "base_uri": "https://localhost:8080/"
        },
        "id": "jp06uI1bA_ff",
        "outputId": "f56f5448-b067-4b73-ab5c-27cc28d2152d"
      },
      "source": [
        "new_random_forest_model_train_r2, new_random_forest_model_test_r2 = scores(new_random_forest_model, X_train_new, X_test_new, y_train_new, y_test_new)"
      ],
      "execution_count": null,
      "outputs": [
        {
          "output_type": "stream",
          "text": [
            "max_error: 3.37667869720459\n",
            "mean_squared_error: 0.03405363848506845\n",
            "explained_variance_score: 0.9161250738170793\n",
            "mean_absolute_error: 0.13618814409099989\n",
            "mean_squared_log_error: 0.00028399507390784734\n",
            "median_absolute_error: 0.10687075576782235\n",
            "r2_score: 0.9161250738158315\n",
            "mean_poisson_deviance: 0.0034137792880705865\n",
            "mean_gamma_deviance: 0.0003441900611998449\n",
            "max_error: 2.348559019165039\n",
            "mean_squared_error: 0.03491275195813607\n",
            "explained_variance_score: 0.9135174805146309\n",
            "mean_absolute_error: 0.13830424852103657\n",
            "mean_squared_log_error: 0.00029024092968139273\n",
            "median_absolute_error: 0.10859910430908215\n",
            "r2_score: 0.9135173124803175\n",
            "mean_poisson_deviance: 0.003495196583252845\n",
            "mean_gamma_deviance: 0.00035181712610335924\n"
          ],
          "name": "stdout"
        }
      ]
    },
    {
      "cell_type": "code",
      "metadata": {
        "id": "xVNfx5Zli65v"
      },
      "source": [
        ""
      ],
      "execution_count": null,
      "outputs": []
    }
  ]
}